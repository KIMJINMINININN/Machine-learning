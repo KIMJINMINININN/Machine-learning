{
 "cells": [
  {
   "cell_type": "code",
   "execution_count": 1,
   "metadata": {},
   "outputs": [],
   "source": [
    "import warnings\n",
    "warnings.filterwarnings('ignore')"
   ]
  },
  {
   "cell_type": "code",
   "execution_count": 2,
   "metadata": {},
   "outputs": [],
   "source": [
    "# pip install soynlp"
   ]
  },
  {
   "cell_type": "code",
   "execution_count": 3,
   "metadata": {},
   "outputs": [],
   "source": [
    "import pandas as pd\n",
    "import numpy as np\n",
    "import re"
   ]
  },
  {
   "cell_type": "code",
   "execution_count": 4,
   "metadata": {},
   "outputs": [],
   "source": [
    "df = pd.read_csv('C:/Users/admin/Documents/PythonStudy0/Pandas/source/Upgarde/petition/petition.csv', parse_dates=['start', 'end'])"
   ]
  },
  {
   "cell_type": "code",
   "execution_count": 5,
   "metadata": {},
   "outputs": [
    {
     "data": {
      "text/html": [
       "<div>\n",
       "<style scoped>\n",
       "    .dataframe tbody tr th:only-of-type {\n",
       "        vertical-align: middle;\n",
       "    }\n",
       "\n",
       "    .dataframe tbody tr th {\n",
       "        vertical-align: top;\n",
       "    }\n",
       "\n",
       "    .dataframe thead th {\n",
       "        text-align: right;\n",
       "    }\n",
       "</style>\n",
       "<table border=\"1\" class=\"dataframe\">\n",
       "  <thead>\n",
       "    <tr style=\"text-align: right;\">\n",
       "      <th></th>\n",
       "      <th>article_id</th>\n",
       "      <th>start</th>\n",
       "      <th>end</th>\n",
       "      <th>answered</th>\n",
       "      <th>votes</th>\n",
       "      <th>category</th>\n",
       "      <th>title</th>\n",
       "      <th>content</th>\n",
       "    </tr>\n",
       "  </thead>\n",
       "  <tbody>\n",
       "    <tr>\n",
       "      <td>1</td>\n",
       "      <td>22</td>\n",
       "      <td>2017-08-19</td>\n",
       "      <td>2017-11-17</td>\n",
       "      <td>0</td>\n",
       "      <td>17</td>\n",
       "      <td>기타</td>\n",
       "      <td>비리제보처를 만들어주세요.</td>\n",
       "      <td>현 정부에 국민들이 가장 원하는 것은 부패척결입니다.  우리 사회에 각종 비리들이 ...</td>\n",
       "    </tr>\n",
       "    <tr>\n",
       "      <td>13</td>\n",
       "      <td>34</td>\n",
       "      <td>2017-08-19</td>\n",
       "      <td>2017-09-18</td>\n",
       "      <td>0</td>\n",
       "      <td>679</td>\n",
       "      <td>기타</td>\n",
       "      <td>『국가유공자 등 예우 및 지원에 관한법률』상「6.25전몰군경 자녀수당」의 불합리한 ...</td>\n",
       "      <td>(현황)\\n우리들 아버지께서는 67여년전 북의 남침으로 조국이 위기에 처했을 때 젊...</td>\n",
       "    </tr>\n",
       "    <tr>\n",
       "      <td>16</td>\n",
       "      <td>37</td>\n",
       "      <td>2017-08-19</td>\n",
       "      <td>2017-09-18</td>\n",
       "      <td>0</td>\n",
       "      <td>415</td>\n",
       "      <td>기타</td>\n",
       "      <td>황우석박사님 연구재개 허용 촉구합니다.</td>\n",
       "      <td>국민의 70% 이상이 황우석박사님을 응원하고 지지하고 있습니다.\\n*2007년 1월...</td>\n",
       "    </tr>\n",
       "    <tr>\n",
       "      <td>65</td>\n",
       "      <td>88</td>\n",
       "      <td>2017-08-20</td>\n",
       "      <td>2017-11-18</td>\n",
       "      <td>0</td>\n",
       "      <td>2</td>\n",
       "      <td>기타</td>\n",
       "      <td>스피커즈 코너를 설치해 주세요.</td>\n",
       "      <td>광화문 같이 잘 알려져 있고 유동인구가 많은 곳에 스피커즈 코너 (Speaker's...</td>\n",
       "    </tr>\n",
       "    <tr>\n",
       "      <td>73</td>\n",
       "      <td>97</td>\n",
       "      <td>2017-08-20</td>\n",
       "      <td>2017-08-27</td>\n",
       "      <td>0</td>\n",
       "      <td>2</td>\n",
       "      <td>기타</td>\n",
       "      <td>문재인 대통령 나으리 청와대에 자살폭탄 테러를 해도 되겠습니까?</td>\n",
       "      <td>저주스런 욕설이 목까지 차오르지만 어디엔가 남아 있을지 모르는\\n내 마지막 인내심과...</td>\n",
       "    </tr>\n",
       "    <tr>\n",
       "      <td>...</td>\n",
       "      <td>...</td>\n",
       "      <td>...</td>\n",
       "      <td>...</td>\n",
       "      <td>...</td>\n",
       "      <td>...</td>\n",
       "      <td>...</td>\n",
       "      <td>...</td>\n",
       "      <td>...</td>\n",
       "    </tr>\n",
       "    <tr>\n",
       "      <td>395522</td>\n",
       "      <td>517089</td>\n",
       "      <td>2019-02-04</td>\n",
       "      <td>2019-03-06</td>\n",
       "      <td>0</td>\n",
       "      <td>1</td>\n",
       "      <td>기타</td>\n",
       "      <td>선진국 민생탐방 -&gt; 한국 민생탐방 -&gt; 상설국회 법제화 -&gt; 실질적 성과</td>\n",
       "      <td>참여대상 : 중앙의 국회의원, 지방의 지방의원을 포함한 모든 정치인들과 정치 예비 ...</td>\n",
       "    </tr>\n",
       "    <tr>\n",
       "      <td>395528</td>\n",
       "      <td>517097</td>\n",
       "      <td>2019-02-04</td>\n",
       "      <td>2019-03-06</td>\n",
       "      <td>0</td>\n",
       "      <td>3</td>\n",
       "      <td>기타</td>\n",
       "      <td>집매매</td>\n",
       "      <td>대통령님  집값을 안정시키는건좋은대요  전일시적 2주택이되어서   새로매매된집으로 ...</td>\n",
       "    </tr>\n",
       "    <tr>\n",
       "      <td>395529</td>\n",
       "      <td>517098</td>\n",
       "      <td>2019-02-04</td>\n",
       "      <td>2019-03-06</td>\n",
       "      <td>0</td>\n",
       "      <td>5</td>\n",
       "      <td>기타</td>\n",
       "      <td>사이버상 거래사기</td>\n",
       "      <td>사이버상에서의 사기중 소액을 당했을 경우 너무 수사가 미비합니다. 몇만원이든 몇백몇...</td>\n",
       "    </tr>\n",
       "    <tr>\n",
       "      <td>395533</td>\n",
       "      <td>517104</td>\n",
       "      <td>2019-02-04</td>\n",
       "      <td>2019-03-06</td>\n",
       "      <td>0</td>\n",
       "      <td>0</td>\n",
       "      <td>기타</td>\n",
       "      <td>결과 비핵화와 검증과 종전선언 제재완화의 과정별 보상 빅달^^@</td>\n",
       "      <td>비건\\n외교관도 아니고\\n전문가도 아니고\\n사업가적 사고와\\n비즈니스적 발상으로\\n...</td>\n",
       "    </tr>\n",
       "    <tr>\n",
       "      <td>395536</td>\n",
       "      <td>517109</td>\n",
       "      <td>2019-02-04</td>\n",
       "      <td>2019-03-06</td>\n",
       "      <td>0</td>\n",
       "      <td>2</td>\n",
       "      <td>기타</td>\n",
       "      <td>항공권 예약 취소 환불</td>\n",
       "      <td>익스피디아 앱으로 일본 오사카예약 후 출국 항공 탑승하지 못하고 탑승시간 07시 정...</td>\n",
       "    </tr>\n",
       "  </tbody>\n",
       "</table>\n",
       "<p>48682 rows × 8 columns</p>\n",
       "</div>"
      ],
      "text/plain": [
       "        article_id      start        end  answered  votes category  \\\n",
       "1               22 2017-08-19 2017-11-17         0     17       기타   \n",
       "13              34 2017-08-19 2017-09-18         0    679       기타   \n",
       "16              37 2017-08-19 2017-09-18         0    415       기타   \n",
       "65              88 2017-08-20 2017-11-18         0      2       기타   \n",
       "73              97 2017-08-20 2017-08-27         0      2       기타   \n",
       "...            ...        ...        ...       ...    ...      ...   \n",
       "395522      517089 2019-02-04 2019-03-06         0      1       기타   \n",
       "395528      517097 2019-02-04 2019-03-06         0      3       기타   \n",
       "395529      517098 2019-02-04 2019-03-06         0      5       기타   \n",
       "395533      517104 2019-02-04 2019-03-06         0      0       기타   \n",
       "395536      517109 2019-02-04 2019-03-06         0      2       기타   \n",
       "\n",
       "                                                    title  \\\n",
       "1                                          비리제보처를 만들어주세요.   \n",
       "13      『국가유공자 등 예우 및 지원에 관한법률』상「6.25전몰군경 자녀수당」의 불합리한 ...   \n",
       "16                                  황우석박사님 연구재개 허용 촉구합니다.   \n",
       "65                                      스피커즈 코너를 설치해 주세요.   \n",
       "73                    문재인 대통령 나으리 청와대에 자살폭탄 테러를 해도 되겠습니까?   \n",
       "...                                                   ...   \n",
       "395522          선진국 민생탐방 -> 한국 민생탐방 -> 상설국회 법제화 -> 실질적 성과   \n",
       "395528                                                집매매   \n",
       "395529                                          사이버상 거래사기   \n",
       "395533                결과 비핵화와 검증과 종전선언 제재완화의 과정별 보상 빅달^^@   \n",
       "395536                                       항공권 예약 취소 환불   \n",
       "\n",
       "                                                  content  \n",
       "1       현 정부에 국민들이 가장 원하는 것은 부패척결입니다.  우리 사회에 각종 비리들이 ...  \n",
       "13      (현황)\\n우리들 아버지께서는 67여년전 북의 남침으로 조국이 위기에 처했을 때 젊...  \n",
       "16      국민의 70% 이상이 황우석박사님을 응원하고 지지하고 있습니다.\\n*2007년 1월...  \n",
       "65      광화문 같이 잘 알려져 있고 유동인구가 많은 곳에 스피커즈 코너 (Speaker's...  \n",
       "73      저주스런 욕설이 목까지 차오르지만 어디엔가 남아 있을지 모르는\\n내 마지막 인내심과...  \n",
       "...                                                   ...  \n",
       "395522  참여대상 : 중앙의 국회의원, 지방의 지방의원을 포함한 모든 정치인들과 정치 예비 ...  \n",
       "395528  대통령님  집값을 안정시키는건좋은대요  전일시적 2주택이되어서   새로매매된집으로 ...  \n",
       "395529  사이버상에서의 사기중 소액을 당했을 경우 너무 수사가 미비합니다. 몇만원이든 몇백몇...  \n",
       "395533  비건\\n외교관도 아니고\\n전문가도 아니고\\n사업가적 사고와\\n비즈니스적 발상으로\\n...  \n",
       "395536  익스피디아 앱으로 일본 오사카예약 후 출국 항공 탑승하지 못하고 탑승시간 07시 정...  \n",
       "\n",
       "[48682 rows x 8 columns]"
      ]
     },
     "execution_count": 5,
     "metadata": {},
     "output_type": "execute_result"
    }
   ],
   "source": [
    "df.loc[df['category'] == '기타']"
   ]
  },
  {
   "cell_type": "code",
   "execution_count": 6,
   "metadata": {},
   "outputs": [
    {
     "data": {
      "text/plain": [
       "(47490, 8)"
      ]
     },
     "execution_count": 6,
     "metadata": {},
     "output_type": "execute_result"
    }
   ],
   "source": [
    "import re\n",
    "p = r'.*(돌봄|아이|초등|보육).*'\n",
    "care = df[df['title'].str.match(p) |\n",
    "         df['content'].str.match(p, flags=re.MULTILINE)]\n",
    "care.shape"
   ]
  },
  {
   "cell_type": "code",
   "execution_count": 7,
   "metadata": {},
   "outputs": [
    {
     "data": {
      "text/html": [
       "<div>\n",
       "<style scoped>\n",
       "    .dataframe tbody tr th:only-of-type {\n",
       "        vertical-align: middle;\n",
       "    }\n",
       "\n",
       "    .dataframe tbody tr th {\n",
       "        vertical-align: top;\n",
       "    }\n",
       "\n",
       "    .dataframe thead th {\n",
       "        text-align: right;\n",
       "    }\n",
       "</style>\n",
       "<table border=\"1\" class=\"dataframe\">\n",
       "  <thead>\n",
       "    <tr style=\"text-align: right;\">\n",
       "      <th></th>\n",
       "      <th>article_id</th>\n",
       "      <th>start</th>\n",
       "      <th>end</th>\n",
       "      <th>answered</th>\n",
       "      <th>votes</th>\n",
       "      <th>category</th>\n",
       "      <th>title</th>\n",
       "      <th>content</th>\n",
       "    </tr>\n",
       "  </thead>\n",
       "  <tbody>\n",
       "    <tr>\n",
       "      <td>3</td>\n",
       "      <td>24</td>\n",
       "      <td>2017-08-19</td>\n",
       "      <td>2017-08-26</td>\n",
       "      <td>0</td>\n",
       "      <td>53</td>\n",
       "      <td>일자리</td>\n",
       "      <td>공공기관 무조건적인 정규직전환을 반대합니다.</td>\n",
       "      <td>현정부에서 정규직 일자리를 늘리는 것에 찬성합니다. 그런데 공공기관 비정규직들은 인...</td>\n",
       "    </tr>\n",
       "    <tr>\n",
       "      <td>15</td>\n",
       "      <td>36</td>\n",
       "      <td>2017-08-19</td>\n",
       "      <td>2017-08-26</td>\n",
       "      <td>0</td>\n",
       "      <td>1</td>\n",
       "      <td>인권/성평등</td>\n",
       "      <td>한국채식인구 100만명. 학교 급식 및 군대에서 현미채식 선택권을 보장해주십시오!</td>\n",
       "      <td>문재인 대통령님과 각 정부 인사분들께 마음속 깊이 존경과 감사를 표합니다. 대한민국...</td>\n",
       "    </tr>\n",
       "    <tr>\n",
       "      <td>20</td>\n",
       "      <td>42</td>\n",
       "      <td>2017-08-19</td>\n",
       "      <td>2017-09-18</td>\n",
       "      <td>0</td>\n",
       "      <td>173</td>\n",
       "      <td>육아/교육</td>\n",
       "      <td>기간제 교사의 정규직화를 반대합니다.</td>\n",
       "      <td>대통령님, 안녕하세요. 저는 임용을 준비하고 수험생입니다. 처음 기간제 정규직화 된...</td>\n",
       "    </tr>\n",
       "    <tr>\n",
       "      <td>21</td>\n",
       "      <td>43</td>\n",
       "      <td>2017-08-19</td>\n",
       "      <td>2017-09-18</td>\n",
       "      <td>0</td>\n",
       "      <td>11293</td>\n",
       "      <td>육아/교육</td>\n",
       "      <td>기간제 교사의 정규직화를 반대합니다.</td>\n",
       "      <td>대통령님, 안녕하세요. 저는 임용을 준비하고 수험생입니다. 처음 기간제 정규직화 된...</td>\n",
       "    </tr>\n",
       "    <tr>\n",
       "      <td>23</td>\n",
       "      <td>45</td>\n",
       "      <td>2017-08-19</td>\n",
       "      <td>2017-11-17</td>\n",
       "      <td>0</td>\n",
       "      <td>0</td>\n",
       "      <td>육아/교육</td>\n",
       "      <td>초등학교 교사 임용 시험 관련 해결방안</td>\n",
       "      <td>초등학교 교사 임용 시험을 수능 시험 처럼 전국 단위로 실시하고난 후에\\n1지망 2...</td>\n",
       "    </tr>\n",
       "  </tbody>\n",
       "</table>\n",
       "</div>"
      ],
      "text/plain": [
       "    article_id      start        end  answered  votes category  \\\n",
       "3           24 2017-08-19 2017-08-26         0     53      일자리   \n",
       "15          36 2017-08-19 2017-08-26         0      1   인권/성평등   \n",
       "20          42 2017-08-19 2017-09-18         0    173    육아/교육   \n",
       "21          43 2017-08-19 2017-09-18         0  11293    육아/교육   \n",
       "23          45 2017-08-19 2017-11-17         0      0    육아/교육   \n",
       "\n",
       "                                            title  \\\n",
       "3                        공공기관 무조건적인 정규직전환을 반대합니다.   \n",
       "15  한국채식인구 100만명. 학교 급식 및 군대에서 현미채식 선택권을 보장해주십시오!   \n",
       "20                           기간제 교사의 정규직화를 반대합니다.   \n",
       "21                           기간제 교사의 정규직화를 반대합니다.   \n",
       "23                          초등학교 교사 임용 시험 관련 해결방안   \n",
       "\n",
       "                                              content  \n",
       "3   현정부에서 정규직 일자리를 늘리는 것에 찬성합니다. 그런데 공공기관 비정규직들은 인...  \n",
       "15  문재인 대통령님과 각 정부 인사분들께 마음속 깊이 존경과 감사를 표합니다. 대한민국...  \n",
       "20  대통령님, 안녕하세요. 저는 임용을 준비하고 수험생입니다. 처음 기간제 정규직화 된...  \n",
       "21  대통령님, 안녕하세요. 저는 임용을 준비하고 수험생입니다. 처음 기간제 정규직화 된...  \n",
       "23  초등학교 교사 임용 시험을 수능 시험 처럼 전국 단위로 실시하고난 후에\\n1지망 2...  "
      ]
     },
     "execution_count": 7,
     "metadata": {},
     "output_type": "execute_result"
    }
   ],
   "source": [
    "care.head()"
   ]
  },
  {
   "cell_type": "code",
   "execution_count": 8,
   "metadata": {},
   "outputs": [
    {
     "data": {
      "text/plain": [
       "'한국채식인구 100만명. 학교 급식 및 군대에서 현미채식 선택권을 보장해주십시오!'"
      ]
     },
     "execution_count": 8,
     "metadata": {},
     "output_type": "execute_result"
    }
   ],
   "source": [
    "care['title'][15]"
   ]
  },
  {
   "cell_type": "code",
   "execution_count": 9,
   "metadata": {},
   "outputs": [],
   "source": [
    "from soynlp.tokenizer import RegexTokenizer\n",
    "\n",
    "tokenizer = RegexTokenizer()"
   ]
  },
  {
   "cell_type": "code",
   "execution_count": 10,
   "metadata": {},
   "outputs": [],
   "source": [
    "sample_index =15"
   ]
  },
  {
   "cell_type": "code",
   "execution_count": 11,
   "metadata": {},
   "outputs": [
    {
     "data": {
      "text/plain": [
       "'한국채식인구 100만명. 학교 급식 및 군대에서 현미채식 선택권을 보장해주십시오!'"
      ]
     },
     "execution_count": 11,
     "metadata": {},
     "output_type": "execute_result"
    }
   ],
   "source": [
    "sample_title = care['title'][sample_index]\n",
    "sample_title"
   ]
  },
  {
   "cell_type": "code",
   "execution_count": 12,
   "metadata": {},
   "outputs": [
    {
     "data": {
      "text/plain": [
       "'문재인 대통령님과 각 정부 인사분들께 마음속 깊이 존경과 감사를 표합니다. 대한민국의 국민의 한사람으로써 너무나 자랑스럽고, 문재인 대통령님께서 저희를 대표해 말씀하실때 너무나 큰 감동을 받습니다. 너무나 감사합니다.\\\\n한국에도 채식 인구가 100만명이 넘었다고 합니다.\\\\n하지만, 그런 인구들의 가장 기본적인 먹는 것에 관한 권리가 보장되지 못하고 있습니다.\\\\n1. 초등~ 고등학생들에게는 급식을 할때,\\\\n2. 사회에 나와서는 사회생활을 할때 (회식),\\\\n3. 군대에 갔을때,\\\\n4. 가족생활을 할때 (결혼식, 황갑잔치, 가족외식등..)\\\\n위의 1~ 4번중 한 사람이 태어나 4가지중 적어도 1~2개, 많게는 모든 과정을 겪습니다.\\\\n채식주의 국민들에게 \"모든 학교, 군대 ( 병원, 산후조리원등 ) 에서 현미채식 선택권을\" 보장해야 함은 선택이 아닌 필수입니다.\\\\n계란, 우유, 멸치도 먹지 않는 채식주의중 한 종류인 Vegan 중의 한사람으로써\\\\n성소수자와 마찬가지로 일상생활의 불편함을 많이 느낍니다. 식당을 꼭 가야만 하는 접대자리, 사회생활 회식자리, 가족모임, 남자분 같은 경우 군대, 아이들같은 경우 학교 급식과 같이 피할수 없는 이런 경우에는 정말로 방법이 없습니다. 아직 정체성이 확실하지 않은 아이들에게는 동물을 죽이고싶지 않아 고기를 먹지 않겠다고 마음먹지만, 학교 급식에서 나오는 대부분의 반찬에 모두 고기나 멸치가 들어갑니다.\\\\n예를들어, 인천 여자중학교 2017. 8월. 18일 급식입니다.\\\\n-> 차수수밥/쇠고기육개장/고등어살오븐구이/메추리알감자조림/배추김치/슈퍼볼쿠키\\\\nVegan 인 학생이 먹을 수 있는 반찬은 하나도 없습니다. 배추김치 속의 멸치 젓갈이나 국에 사용하는 멸치 다시용 등도 먹지 않기 때문입니다.\\\\n이런 Vegan 내지 Vegetarianism을 선택하는 한국인이 100만명이라면 군대를 가고, 급식을 먹어야 할때\\\\n그들은 어떻게 해야합니까?  개인적으로 초등학교 1학년, 4학년 저희 조카는 벌써 군대를 걱정하고 있고, 주위에 채식 가정에서는 그날 급식과 유사한 반찬으로 매일 아침 도시락을 싸보내야 하고, 다른아이들의 차별적인 시선을 감수해야 합니다.\\\\n저는 32살의 독신 여성입니다. 저는 영어강사로써 제 도시락을 싸서 다닙니다. 전국에 몇개 없지만 소중한 맛난 채식 식당을 다니며 외식도 하고, 90프로 이상 제가 직접 해먹습니다. 하지만, 이런 여유가 없지만, 동물을 사랑하거나, 건강상의 이유로, 환경문제로 채식을 해야 하는 다른 분들을 볼때 마음이 아픕니다.\\\\n그들에게 고기를 먹는 것은 기독교인에게 부처님께 절을 하라는 것과 같은 야만적인 일입니다. 그들은 선택권이 없는 경우가 많습니다.\\\\n사회생활하시는 남자분들, 어린이들, 학생들, 군대에 많은 채식인들.\\\\n그분들을 위해서 이렇게 청원서를 냅니다.\\\\n희망 가득한 문재인대통령님의 정권기간 동안에 \"현미채식 선택권\"이 보장되기를 다시 한번 청원드립니다.\\\\n이렇게 청원할수 있는 기회에 감사드립니다.\\\\n다른 선진국 정부의 채식에 대처하는 훌륭한 사례들,\\\\nhttp://www.crisis2peace.org/kr/book.php?b=new&wr_id=35\\\\n환경오염에 대해 많은 걱정이 있습니다. 가장 빠르고,가장 친환경적인 해결책인 채식.\\\\nhttp://www.crisis2peace.org/kr/book.php?b=new&wr_id=29\\\\n지구 온나화 현상과 직결되는 육식, 채식이 해결책.\\\\nhttp://www.crisis2peace.org/kr/book.php?b=&wr_id=28\\\\n위의 내용을 포함한 채식에 관한 소책자링크를 확인해주세요.'"
      ]
     },
     "execution_count": 12,
     "metadata": {},
     "output_type": "execute_result"
    }
   ],
   "source": [
    "sample_content = care['content'][sample_index]\n",
    "sample_content"
   ]
  },
  {
   "cell_type": "markdown",
   "metadata": {},
   "source": [
    "# 토근화"
   ]
  },
  {
   "cell_type": "code",
   "execution_count": 13,
   "metadata": {},
   "outputs": [
    {
     "data": {
      "text/plain": [
       "['한국채식인구',\n",
       " '100',\n",
       " '만명',\n",
       " '.',\n",
       " '학교',\n",
       " '급식',\n",
       " '및',\n",
       " '군대에서',\n",
       " '현미채식',\n",
       " '선택권을',\n",
       " '보장해주십시오',\n",
       " '!']"
      ]
     },
     "execution_count": 13,
     "metadata": {},
     "output_type": "execute_result"
    }
   ],
   "source": [
    "tokened_title = tokenizer.tokenize(sample_title)\n",
    "tokened_title"
   ]
  },
  {
   "cell_type": "code",
   "execution_count": 14,
   "metadata": {},
   "outputs": [
    {
     "data": {
      "text/plain": [
       "['문재인', '대통령님과', '각', '정부', '인사분들께', '마음속', '깊이', '존경과', '감사를', '표합니다']"
      ]
     },
     "execution_count": 14,
     "metadata": {},
     "output_type": "execute_result"
    }
   ],
   "source": [
    "tokened_content = tokenizer.tokenize(sample_content)\n",
    "tokened_content[:10]"
   ]
  },
  {
   "cell_type": "markdown",
   "metadata": {},
   "source": [
    "# 텍스트 데이터 전처리"
   ]
  },
  {
   "cell_type": "code",
   "execution_count": 15,
   "metadata": {},
   "outputs": [],
   "source": [
    "def preprocessing(text):\n",
    "    #개행문자 제거\n",
    "    text = re.sub('\\\\\\\\n', ' ', text)\n",
    "    return text"
   ]
  },
  {
   "cell_type": "code",
   "execution_count": 18,
   "metadata": {},
   "outputs": [
    {
     "name": "stdout",
     "output_type": "stream",
     "text": [
      "Wall time: 256 ms\n"
     ]
    }
   ],
   "source": [
    "# %time 함수를 적어주면 해당 코드를 실행항때 걸리는 시간을 출력해준다\n",
    "%time sentences = care['content'].apply(preprocessing)"
   ]
  },
  {
   "cell_type": "code",
   "execution_count": 19,
   "metadata": {},
   "outputs": [
    {
     "name": "stdout",
     "output_type": "stream",
     "text": [
      "Wall time: 52.7 s\n"
     ]
    },
    {
     "data": {
      "text/plain": [
       "3     [현정부에서, 정규직, 일자리를, 늘리는, 것에, 찬성합니다, ., 그런데, 공공기...\n",
       "15    [문재인, 대통령님과, 각, 정부, 인사분들께, 마음속, 깊이, 존경과, 감사를, ...\n",
       "20    [대통령님, ,, 안녕하세요, ., 저는, 임용을, 준비하고, 수험생입니다, ., ...\n",
       "Name: content, dtype: object"
      ]
     },
     "execution_count": 19,
     "metadata": {},
     "output_type": "execute_result"
    }
   ],
   "source": [
    "%time tokens = sentences.apply(tokenizer.tokenize)\n",
    "tokens[:3]"
   ]
  },
  {
   "cell_type": "code",
   "execution_count": 20,
   "metadata": {},
   "outputs": [
    {
     "data": {
      "text/plain": [
       "['문재인', '대통령님과', '각', '정부', '인사분들께', '마음속', '깊이', '존경과', '감사를', '표합니다']"
      ]
     },
     "execution_count": 20,
     "metadata": {},
     "output_type": "execute_result"
    }
   ],
   "source": [
    "tokens[sample_index][:10]"
   ]
  },
  {
   "cell_type": "code",
   "execution_count": 21,
   "metadata": {},
   "outputs": [],
   "source": [
    "stopwords_kr = ['하지만', '그리고', '그런데', '저는', '제가',\n",
    "               '그럼', '이런', '저런', '합니다', '많은', '많이', '정말', '너무']"
   ]
  },
  {
   "cell_type": "code",
   "execution_count": 27,
   "metadata": {},
   "outputs": [
    {
     "name": "stderr",
     "output_type": "stream",
     "text": [
      "UsageError: Line magic function `%matlplotlib` not found.\n"
     ]
    }
   ],
   "source": [
    "from wordcloud import WordCloud\n",
    "import matplotlib.pyplot as plt\n",
    "%matlplotlib inline"
   ]
  },
  {
   "cell_type": "code",
   "execution_count": 26,
   "metadata": {},
   "outputs": [],
   "source": [
    "def displayWordCloud(data = None, backgroundcolor = 'white', width=800, height=600 ):\n",
    "    wordcloud = WordColud(\n",
    "                    font_path = 'C:/Windows/Fonts/HMFMPYUN.ttf',\n",
    "                    stopwords = stopwords_kr,\n",
    "                    background_color = backgroundcolor,\n",
    "                    width = width , height = height).generate(data)\n",
    "    plt.figure(figsize = (15, 10))\n",
    "    plt.imshow(wordcloud)\n",
    "    plt.axis('off')\n",
    "    plt.show()"
   ]
  },
  {
   "cell_type": "code",
   "execution_count": null,
   "metadata": {},
   "outputs": [],
   "source": [
    "# 결과를 출력해 보면 불용어가 너무 많습니다\n"
   ]
  },
  {
   "cell_type": "markdown",
   "metadata": {},
   "source": [
    "### "
   ]
  }
 ],
 "metadata": {
  "kernelspec": {
   "display_name": "Python 3",
   "language": "python",
   "name": "python3"
  },
  "language_info": {
   "codemirror_mode": {
    "name": "ipython",
    "version": 3
   },
   "file_extension": ".py",
   "mimetype": "text/x-python",
   "name": "python",
   "nbconvert_exporter": "python",
   "pygments_lexer": "ipython3",
   "version": "3.7.4"
  }
 },
 "nbformat": 4,
 "nbformat_minor": 2
}
