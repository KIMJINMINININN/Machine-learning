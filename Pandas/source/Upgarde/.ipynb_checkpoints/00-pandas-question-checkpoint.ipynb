{
 "cells": [
  {
   "cell_type": "markdown",
   "metadata": {},
   "source": [
    "# Pandas로 국민청원 데이터 분석하기"
   ]
  },
  {
   "cell_type": "code",
   "execution_count": 4,
   "metadata": {},
   "outputs": [],
   "source": [
    "# 출력데이터가 지저분하게 보이지 않도록\n",
    "import warnings\n",
    "warnings.filterwarnings('ignore')"
   ]
  },
  {
   "cell_type": "markdown",
   "metadata": {},
   "source": [
    "## Pandas와 NumPy를 import해 옵니다."
   ]
  },
  {
   "cell_type": "code",
   "execution_count": 1,
   "metadata": {},
   "outputs": [],
   "source": [
    "import pandas as pd\n",
    "import numpy as np"
   ]
  },
  {
   "cell_type": "code",
   "execution_count": 7,
   "metadata": {},
   "outputs": [],
   "source": [
    "# 그래프에서 한글표현을 위해 폰트를 설치합니다.\n",
    "%config InlineBackend.figure_format = 'retina'\n",
    "\n",
    "# !apt -qq -y install fonts-nanum > /dev/null\n",
    "import matplotlib.font_manager as fm\n",
    "fontpath = 'C:/Windows/Fonts./HMFMPYUN.ttf'\n",
    "font = fm.FontProperties(fname=fontpath, size=9)"
   ]
  },
  {
   "cell_type": "code",
   "execution_count": 8,
   "metadata": {},
   "outputs": [],
   "source": [
    "# 기본 글꼴 변경\n",
    "import matplotlib as mpl\n",
    "mpl.font_manager._rebuild()\n",
    "mpl.pyplot.rc('font', family='HMFMPYUN')"
   ]
  },
  {
   "cell_type": "code",
   "execution_count": 9,
   "metadata": {},
   "outputs": [],
   "source": [
    "from plotnine import *\n",
    "import plotnine"
   ]
  },
  {
   "cell_type": "markdown",
   "metadata": {},
   "source": [
    "## csv 데이터를 불러 옵니다."
   ]
  },
  {
   "cell_type": "code",
   "execution_count": 95,
   "metadata": {},
   "outputs": [
    {
     "ename": "TypeError",
     "evalue": "parser_f() got an unexpected keyword argument 'parser_dates'",
     "output_type": "error",
     "traceback": [
      "\u001b[1;31m---------------------------------------------------------------------------\u001b[0m",
      "\u001b[1;31mTypeError\u001b[0m                                 Traceback (most recent call last)",
      "\u001b[1;32m<ipython-input-95-696745d48dcf>\u001b[0m in \u001b[0;36m<module>\u001b[1;34m\u001b[0m\n\u001b[1;32m----> 1\u001b[1;33m \u001b[0mdf\u001b[0m \u001b[1;33m=\u001b[0m \u001b[0mpd\u001b[0m\u001b[1;33m.\u001b[0m\u001b[0mread_csv\u001b[0m\u001b[1;33m(\u001b[0m\u001b[1;34m'C:/Users/admin/Documents/PythonStudy0/Pandas/source/Upgarde/petition/petition.csv'\u001b[0m\u001b[1;33m,\u001b[0m \u001b[0mencoding\u001b[0m\u001b[1;33m=\u001b[0m\u001b[1;34m'utf-8'\u001b[0m\u001b[1;33m,\u001b[0m \u001b[0mparser_dates\u001b[0m\u001b[1;33m=\u001b[0m\u001b[1;33m[\u001b[0m\u001b[1;34m'start'\u001b[0m\u001b[1;33m,\u001b[0m\u001b[1;34m'end'\u001b[0m\u001b[1;33m]\u001b[0m\u001b[1;33m)\u001b[0m\u001b[1;33m\u001b[0m\u001b[1;33m\u001b[0m\u001b[0m\n\u001b[0m",
      "\u001b[1;31mTypeError\u001b[0m: parser_f() got an unexpected keyword argument 'parser_dates'"
     ]
    }
   ],
   "source": [
    "df = pd.read_csv('C:/Users/admin/Documents/PythonStudy0/Pandas/source/Upgarde/petition/petition.csv', encoding='utf-8')"
   ]
  },
  {
   "cell_type": "markdown",
   "metadata": {},
   "source": [
    "## 읽어온 데이터가 몇 행 몇 열인지 봅니다."
   ]
  },
  {
   "cell_type": "code",
   "execution_count": 12,
   "metadata": {},
   "outputs": [
    {
     "data": {
      "text/html": [
       "<div>\n",
       "<style scoped>\n",
       "    .dataframe tbody tr th:only-of-type {\n",
       "        vertical-align: middle;\n",
       "    }\n",
       "\n",
       "    .dataframe tbody tr th {\n",
       "        vertical-align: top;\n",
       "    }\n",
       "\n",
       "    .dataframe thead th {\n",
       "        text-align: right;\n",
       "    }\n",
       "</style>\n",
       "<table border=\"1\" class=\"dataframe\">\n",
       "  <thead>\n",
       "    <tr style=\"text-align: right;\">\n",
       "      <th></th>\n",
       "      <th>article_id</th>\n",
       "      <th>start</th>\n",
       "      <th>end</th>\n",
       "      <th>answered</th>\n",
       "      <th>votes</th>\n",
       "      <th>category</th>\n",
       "      <th>title</th>\n",
       "      <th>content</th>\n",
       "    </tr>\n",
       "  </thead>\n",
       "  <tbody>\n",
       "    <tr>\n",
       "      <td>0</td>\n",
       "      <td>21</td>\n",
       "      <td>2017-08-19</td>\n",
       "      <td>2017-11-17</td>\n",
       "      <td>0</td>\n",
       "      <td>9</td>\n",
       "      <td>안전/환경</td>\n",
       "      <td>스텔라 데이지호에 대한 제안입니다.</td>\n",
       "      <td>스텔라 데이지호에 대한 제안입니다.\\n3월31일 스텔라 데이지호가 침몰하고 5달째가...</td>\n",
       "    </tr>\n",
       "    <tr>\n",
       "      <td>1</td>\n",
       "      <td>22</td>\n",
       "      <td>2017-08-19</td>\n",
       "      <td>2017-11-17</td>\n",
       "      <td>0</td>\n",
       "      <td>17</td>\n",
       "      <td>기타</td>\n",
       "      <td>비리제보처를 만들어주세요.</td>\n",
       "      <td>현 정부에 국민들이 가장 원하는 것은 부패척결입니다.  우리 사회에 각종 비리들이 ...</td>\n",
       "    </tr>\n",
       "    <tr>\n",
       "      <td>2</td>\n",
       "      <td>23</td>\n",
       "      <td>2017-08-19</td>\n",
       "      <td>2017-09-03</td>\n",
       "      <td>0</td>\n",
       "      <td>0</td>\n",
       "      <td>미래</td>\n",
       "      <td>제2의 개성공단</td>\n",
       "      <td>만일 하시는 대통령님 및 각 부처 장관님,주무관님들 안녕하세요!!\\n전남 목포에서 ...</td>\n",
       "    </tr>\n",
       "    <tr>\n",
       "      <td>3</td>\n",
       "      <td>24</td>\n",
       "      <td>2017-08-19</td>\n",
       "      <td>2017-08-26</td>\n",
       "      <td>0</td>\n",
       "      <td>53</td>\n",
       "      <td>일자리</td>\n",
       "      <td>공공기관 무조건적인 정규직전환을 반대합니다.</td>\n",
       "      <td>현정부에서 정규직 일자리를 늘리는 것에 찬성합니다. 그런데 공공기관 비정규직들은 인...</td>\n",
       "    </tr>\n",
       "    <tr>\n",
       "      <td>4</td>\n",
       "      <td>25</td>\n",
       "      <td>2017-08-19</td>\n",
       "      <td>2017-09-03</td>\n",
       "      <td>0</td>\n",
       "      <td>0</td>\n",
       "      <td>미래</td>\n",
       "      <td>제2의 개성공단</td>\n",
       "      <td>만일 하시는 대통령님 및 각 부처 장관님,주무관님들 안녕하세요!!\\n전남 목포에서 ...</td>\n",
       "    </tr>\n",
       "    <tr>\n",
       "      <td>...</td>\n",
       "      <td>...</td>\n",
       "      <td>...</td>\n",
       "      <td>...</td>\n",
       "      <td>...</td>\n",
       "      <td>...</td>\n",
       "      <td>...</td>\n",
       "      <td>...</td>\n",
       "      <td>...</td>\n",
       "    </tr>\n",
       "    <tr>\n",
       "      <td>395542</td>\n",
       "      <td>517117</td>\n",
       "      <td>2019-02-04</td>\n",
       "      <td>2019-03-06</td>\n",
       "      <td>0</td>\n",
       "      <td>3</td>\n",
       "      <td>보건복지</td>\n",
       "      <td>명절연휴 고속도로 무료반대</td>\n",
       "      <td>명절고속도로 무료보단 대다수의 서민들이 이용하는 대중교통 무료와 명절기간 증차로 했...</td>\n",
       "    </tr>\n",
       "    <tr>\n",
       "      <td>395543</td>\n",
       "      <td>517119</td>\n",
       "      <td>2019-02-04</td>\n",
       "      <td>2019-03-06</td>\n",
       "      <td>0</td>\n",
       "      <td>23</td>\n",
       "      <td>보건복지</td>\n",
       "      <td>광주사태 가짜 유공자들 정수기로 걸려내야함</td>\n",
       "      <td>광주사태 유공자들 차고 넘치는데 이래 많은 유공자들 그냥놓아두면 재앙이다.\\n김대중...</td>\n",
       "    </tr>\n",
       "    <tr>\n",
       "      <td>395544</td>\n",
       "      <td>517120</td>\n",
       "      <td>2019-02-04</td>\n",
       "      <td>2019-03-06</td>\n",
       "      <td>0</td>\n",
       "      <td>0</td>\n",
       "      <td>안전/환경</td>\n",
       "      <td>환경문제</td>\n",
       "      <td>명절이면 후로 제일문제는 쓰레기 문제 입니다.\\n제일문제는 선물세트와 농산물세트 입...</td>\n",
       "    </tr>\n",
       "    <tr>\n",
       "      <td>395545</td>\n",
       "      <td>517121</td>\n",
       "      <td>2019-02-04</td>\n",
       "      <td>2019-03-06</td>\n",
       "      <td>0</td>\n",
       "      <td>20</td>\n",
       "      <td>정치개혁</td>\n",
       "      <td>청화대,더불어민주당, 당장 답하라,,,,,,</td>\n",
       "      <td>좌파 더불어민주당, 좌파 정권 청화대는 선한 국민들을 더는 기망하지 말고 담장 답하...</td>\n",
       "    </tr>\n",
       "    <tr>\n",
       "      <td>395546</td>\n",
       "      <td>517122</td>\n",
       "      <td>2019-02-04</td>\n",
       "      <td>2019-03-06</td>\n",
       "      <td>0</td>\n",
       "      <td>16</td>\n",
       "      <td>인권/성평등</td>\n",
       "      <td>여성부 폐지</td>\n",
       "      <td>국민들이 원합니다\\n폐지 좀 시키세요;</td>\n",
       "    </tr>\n",
       "  </tbody>\n",
       "</table>\n",
       "<p>395547 rows × 8 columns</p>\n",
       "</div>"
      ],
      "text/plain": [
       "        article_id       start         end  answered  votes category  \\\n",
       "0               21  2017-08-19  2017-11-17         0      9    안전/환경   \n",
       "1               22  2017-08-19  2017-11-17         0     17       기타   \n",
       "2               23  2017-08-19  2017-09-03         0      0       미래   \n",
       "3               24  2017-08-19  2017-08-26         0     53      일자리   \n",
       "4               25  2017-08-19  2017-09-03         0      0       미래   \n",
       "...            ...         ...         ...       ...    ...      ...   \n",
       "395542      517117  2019-02-04  2019-03-06         0      3     보건복지   \n",
       "395543      517119  2019-02-04  2019-03-06         0     23     보건복지   \n",
       "395544      517120  2019-02-04  2019-03-06         0      0    안전/환경   \n",
       "395545      517121  2019-02-04  2019-03-06         0     20     정치개혁   \n",
       "395546      517122  2019-02-04  2019-03-06         0     16   인권/성평등   \n",
       "\n",
       "                           title  \\\n",
       "0            스텔라 데이지호에 대한 제안입니다.   \n",
       "1                 비리제보처를 만들어주세요.   \n",
       "2                       제2의 개성공단   \n",
       "3       공공기관 무조건적인 정규직전환을 반대합니다.   \n",
       "4                       제2의 개성공단   \n",
       "...                          ...   \n",
       "395542            명절연휴 고속도로 무료반대   \n",
       "395543   광주사태 가짜 유공자들 정수기로 걸려내야함   \n",
       "395544                      환경문제   \n",
       "395545  청화대,더불어민주당, 당장 답하라,,,,,,   \n",
       "395546                    여성부 폐지   \n",
       "\n",
       "                                                  content  \n",
       "0       스텔라 데이지호에 대한 제안입니다.\\n3월31일 스텔라 데이지호가 침몰하고 5달째가...  \n",
       "1       현 정부에 국민들이 가장 원하는 것은 부패척결입니다.  우리 사회에 각종 비리들이 ...  \n",
       "2       만일 하시는 대통령님 및 각 부처 장관님,주무관님들 안녕하세요!!\\n전남 목포에서 ...  \n",
       "3       현정부에서 정규직 일자리를 늘리는 것에 찬성합니다. 그런데 공공기관 비정규직들은 인...  \n",
       "4       만일 하시는 대통령님 및 각 부처 장관님,주무관님들 안녕하세요!!\\n전남 목포에서 ...  \n",
       "...                                                   ...  \n",
       "395542  명절고속도로 무료보단 대다수의 서민들이 이용하는 대중교통 무료와 명절기간 증차로 했...  \n",
       "395543  광주사태 유공자들 차고 넘치는데 이래 많은 유공자들 그냥놓아두면 재앙이다.\\n김대중...  \n",
       "395544  명절이면 후로 제일문제는 쓰레기 문제 입니다.\\n제일문제는 선물세트와 농산물세트 입...  \n",
       "395545  좌파 더불어민주당, 좌파 정권 청화대는 선한 국민들을 더는 기망하지 말고 담장 답하...  \n",
       "395546                              국민들이 원합니다\\n폐지 좀 시키세요;  \n",
       "\n",
       "[395547 rows x 8 columns]"
      ]
     },
     "execution_count": 12,
     "metadata": {},
     "output_type": "execute_result"
    }
   ],
   "source": [
    "df"
   ]
  },
  {
   "cell_type": "markdown",
   "metadata": {},
   "source": [
    "## 일부 데이터 미리 보기\n",
    "* 상단 5개의 데이터를 불러옵니다."
   ]
  },
  {
   "cell_type": "code",
   "execution_count": 13,
   "metadata": {},
   "outputs": [
    {
     "data": {
      "text/html": [
       "<div>\n",
       "<style scoped>\n",
       "    .dataframe tbody tr th:only-of-type {\n",
       "        vertical-align: middle;\n",
       "    }\n",
       "\n",
       "    .dataframe tbody tr th {\n",
       "        vertical-align: top;\n",
       "    }\n",
       "\n",
       "    .dataframe thead th {\n",
       "        text-align: right;\n",
       "    }\n",
       "</style>\n",
       "<table border=\"1\" class=\"dataframe\">\n",
       "  <thead>\n",
       "    <tr style=\"text-align: right;\">\n",
       "      <th></th>\n",
       "      <th>article_id</th>\n",
       "      <th>start</th>\n",
       "      <th>end</th>\n",
       "      <th>answered</th>\n",
       "      <th>votes</th>\n",
       "      <th>category</th>\n",
       "      <th>title</th>\n",
       "      <th>content</th>\n",
       "    </tr>\n",
       "  </thead>\n",
       "  <tbody>\n",
       "    <tr>\n",
       "      <td>0</td>\n",
       "      <td>21</td>\n",
       "      <td>2017-08-19</td>\n",
       "      <td>2017-11-17</td>\n",
       "      <td>0</td>\n",
       "      <td>9</td>\n",
       "      <td>안전/환경</td>\n",
       "      <td>스텔라 데이지호에 대한 제안입니다.</td>\n",
       "      <td>스텔라 데이지호에 대한 제안입니다.\\n3월31일 스텔라 데이지호가 침몰하고 5달째가...</td>\n",
       "    </tr>\n",
       "    <tr>\n",
       "      <td>1</td>\n",
       "      <td>22</td>\n",
       "      <td>2017-08-19</td>\n",
       "      <td>2017-11-17</td>\n",
       "      <td>0</td>\n",
       "      <td>17</td>\n",
       "      <td>기타</td>\n",
       "      <td>비리제보처를 만들어주세요.</td>\n",
       "      <td>현 정부에 국민들이 가장 원하는 것은 부패척결입니다.  우리 사회에 각종 비리들이 ...</td>\n",
       "    </tr>\n",
       "    <tr>\n",
       "      <td>2</td>\n",
       "      <td>23</td>\n",
       "      <td>2017-08-19</td>\n",
       "      <td>2017-09-03</td>\n",
       "      <td>0</td>\n",
       "      <td>0</td>\n",
       "      <td>미래</td>\n",
       "      <td>제2의 개성공단</td>\n",
       "      <td>만일 하시는 대통령님 및 각 부처 장관님,주무관님들 안녕하세요!!\\n전남 목포에서 ...</td>\n",
       "    </tr>\n",
       "    <tr>\n",
       "      <td>3</td>\n",
       "      <td>24</td>\n",
       "      <td>2017-08-19</td>\n",
       "      <td>2017-08-26</td>\n",
       "      <td>0</td>\n",
       "      <td>53</td>\n",
       "      <td>일자리</td>\n",
       "      <td>공공기관 무조건적인 정규직전환을 반대합니다.</td>\n",
       "      <td>현정부에서 정규직 일자리를 늘리는 것에 찬성합니다. 그런데 공공기관 비정규직들은 인...</td>\n",
       "    </tr>\n",
       "    <tr>\n",
       "      <td>4</td>\n",
       "      <td>25</td>\n",
       "      <td>2017-08-19</td>\n",
       "      <td>2017-09-03</td>\n",
       "      <td>0</td>\n",
       "      <td>0</td>\n",
       "      <td>미래</td>\n",
       "      <td>제2의 개성공단</td>\n",
       "      <td>만일 하시는 대통령님 및 각 부처 장관님,주무관님들 안녕하세요!!\\n전남 목포에서 ...</td>\n",
       "    </tr>\n",
       "  </tbody>\n",
       "</table>\n",
       "</div>"
      ],
      "text/plain": [
       "   article_id       start         end  answered  votes category  \\\n",
       "0          21  2017-08-19  2017-11-17         0      9    안전/환경   \n",
       "1          22  2017-08-19  2017-11-17         0     17       기타   \n",
       "2          23  2017-08-19  2017-09-03         0      0       미래   \n",
       "3          24  2017-08-19  2017-08-26         0     53      일자리   \n",
       "4          25  2017-08-19  2017-09-03         0      0       미래   \n",
       "\n",
       "                      title                                            content  \n",
       "0       스텔라 데이지호에 대한 제안입니다.  스텔라 데이지호에 대한 제안입니다.\\n3월31일 스텔라 데이지호가 침몰하고 5달째가...  \n",
       "1            비리제보처를 만들어주세요.  현 정부에 국민들이 가장 원하는 것은 부패척결입니다.  우리 사회에 각종 비리들이 ...  \n",
       "2                  제2의 개성공단  만일 하시는 대통령님 및 각 부처 장관님,주무관님들 안녕하세요!!\\n전남 목포에서 ...  \n",
       "3  공공기관 무조건적인 정규직전환을 반대합니다.  현정부에서 정규직 일자리를 늘리는 것에 찬성합니다. 그런데 공공기관 비정규직들은 인...  \n",
       "4                  제2의 개성공단  만일 하시는 대통령님 및 각 부처 장관님,주무관님들 안녕하세요!!\\n전남 목포에서 ...  "
      ]
     },
     "execution_count": 13,
     "metadata": {},
     "output_type": "execute_result"
    }
   ],
   "source": [
    "df.head()"
   ]
  },
  {
   "cell_type": "markdown",
   "metadata": {},
   "source": [
    "* 하단 3개의 데이터를 불러옵니다."
   ]
  },
  {
   "cell_type": "code",
   "execution_count": 14,
   "metadata": {},
   "outputs": [
    {
     "data": {
      "text/html": [
       "<div>\n",
       "<style scoped>\n",
       "    .dataframe tbody tr th:only-of-type {\n",
       "        vertical-align: middle;\n",
       "    }\n",
       "\n",
       "    .dataframe tbody tr th {\n",
       "        vertical-align: top;\n",
       "    }\n",
       "\n",
       "    .dataframe thead th {\n",
       "        text-align: right;\n",
       "    }\n",
       "</style>\n",
       "<table border=\"1\" class=\"dataframe\">\n",
       "  <thead>\n",
       "    <tr style=\"text-align: right;\">\n",
       "      <th></th>\n",
       "      <th>article_id</th>\n",
       "      <th>start</th>\n",
       "      <th>end</th>\n",
       "      <th>answered</th>\n",
       "      <th>votes</th>\n",
       "      <th>category</th>\n",
       "      <th>title</th>\n",
       "      <th>content</th>\n",
       "    </tr>\n",
       "  </thead>\n",
       "  <tbody>\n",
       "    <tr>\n",
       "      <td>395544</td>\n",
       "      <td>517120</td>\n",
       "      <td>2019-02-04</td>\n",
       "      <td>2019-03-06</td>\n",
       "      <td>0</td>\n",
       "      <td>0</td>\n",
       "      <td>안전/환경</td>\n",
       "      <td>환경문제</td>\n",
       "      <td>명절이면 후로 제일문제는 쓰레기 문제 입니다.\\n제일문제는 선물세트와 농산물세트 입...</td>\n",
       "    </tr>\n",
       "    <tr>\n",
       "      <td>395545</td>\n",
       "      <td>517121</td>\n",
       "      <td>2019-02-04</td>\n",
       "      <td>2019-03-06</td>\n",
       "      <td>0</td>\n",
       "      <td>20</td>\n",
       "      <td>정치개혁</td>\n",
       "      <td>청화대,더불어민주당, 당장 답하라,,,,,,</td>\n",
       "      <td>좌파 더불어민주당, 좌파 정권 청화대는 선한 국민들을 더는 기망하지 말고 담장 답하...</td>\n",
       "    </tr>\n",
       "    <tr>\n",
       "      <td>395546</td>\n",
       "      <td>517122</td>\n",
       "      <td>2019-02-04</td>\n",
       "      <td>2019-03-06</td>\n",
       "      <td>0</td>\n",
       "      <td>16</td>\n",
       "      <td>인권/성평등</td>\n",
       "      <td>여성부 폐지</td>\n",
       "      <td>국민들이 원합니다\\n폐지 좀 시키세요;</td>\n",
       "    </tr>\n",
       "  </tbody>\n",
       "</table>\n",
       "</div>"
      ],
      "text/plain": [
       "        article_id       start         end  answered  votes category  \\\n",
       "395544      517120  2019-02-04  2019-03-06         0      0    안전/환경   \n",
       "395545      517121  2019-02-04  2019-03-06         0     20     정치개혁   \n",
       "395546      517122  2019-02-04  2019-03-06         0     16   인권/성평등   \n",
       "\n",
       "                           title  \\\n",
       "395544                      환경문제   \n",
       "395545  청화대,더불어민주당, 당장 답하라,,,,,,   \n",
       "395546                    여성부 폐지   \n",
       "\n",
       "                                                  content  \n",
       "395544  명절이면 후로 제일문제는 쓰레기 문제 입니다.\\n제일문제는 선물세트와 농산물세트 입...  \n",
       "395545  좌파 더불어민주당, 좌파 정권 청화대는 선한 국민들을 더는 기망하지 말고 담장 답하...  \n",
       "395546                              국민들이 원합니다\\n폐지 좀 시키세요;  "
      ]
     },
     "execution_count": 14,
     "metadata": {},
     "output_type": "execute_result"
    }
   ],
   "source": [
    "df.tail(3)"
   ]
  },
  {
   "cell_type": "markdown",
   "metadata": {},
   "source": [
    "## 결측치가 있는지 확인해 봅니다."
   ]
  },
  {
   "cell_type": "code",
   "execution_count": 16,
   "metadata": {},
   "outputs": [
    {
     "data": {
      "text/plain": [
       "article_id    0\n",
       "start         0\n",
       "end           0\n",
       "answered      0\n",
       "votes         0\n",
       "category      0\n",
       "title         0\n",
       "content       1\n",
       "dtype: int64"
      ]
     },
     "execution_count": 16,
     "metadata": {},
     "output_type": "execute_result"
    }
   ],
   "source": [
    "df.isnull().sum(axis=0)"
   ]
  },
  {
   "cell_type": "markdown",
   "metadata": {},
   "source": [
    "## 데이터 요약하기\n",
    "* 어떤 컬럼이 있고 어떤 타입인지 출력해 봅니다."
   ]
  },
  {
   "cell_type": "code",
   "execution_count": 17,
   "metadata": {},
   "outputs": [
    {
     "name": "stdout",
     "output_type": "stream",
     "text": [
      "<class 'pandas.core.frame.DataFrame'>\n",
      "RangeIndex: 395547 entries, 0 to 395546\n",
      "Data columns (total 8 columns):\n",
      "article_id    395547 non-null int64\n",
      "start         395547 non-null object\n",
      "end           395547 non-null object\n",
      "answered      395547 non-null int64\n",
      "votes         395547 non-null int64\n",
      "category      395547 non-null object\n",
      "title         395547 non-null object\n",
      "content       395546 non-null object\n",
      "dtypes: int64(3), object(5)\n",
      "memory usage: 24.1+ MB\n"
     ]
    }
   ],
   "source": [
    "df.info()"
   ]
  },
  {
   "cell_type": "markdown",
   "metadata": {},
   "source": [
    "* 데이터 타입만 따로 뽑아 봅니다."
   ]
  },
  {
   "cell_type": "code",
   "execution_count": 21,
   "metadata": {},
   "outputs": [
    {
     "data": {
      "text/plain": [
       "article_id     int64\n",
       "start         object\n",
       "end           object\n",
       "answered       int64\n",
       "votes          int64\n",
       "category      object\n",
       "title         object\n",
       "content       object\n",
       "dtype: object"
      ]
     },
     "execution_count": 21,
     "metadata": {},
     "output_type": "execute_result"
    }
   ],
   "source": [
    "df.dtypes"
   ]
  },
  {
   "cell_type": "markdown",
   "metadata": {},
   "source": [
    "* 컬럼명만 따로 추출해 봅니다."
   ]
  },
  {
   "cell_type": "code",
   "execution_count": 22,
   "metadata": {},
   "outputs": [
    {
     "data": {
      "text/plain": [
       "Index(['article_id', 'start', 'end', 'answered', 'votes', 'category', 'title',\n",
       "       'content'],\n",
       "      dtype='object')"
      ]
     },
     "execution_count": 22,
     "metadata": {},
     "output_type": "execute_result"
    }
   ],
   "source": [
    "df.columns"
   ]
  },
  {
   "cell_type": "markdown",
   "metadata": {},
   "source": [
    "* 수치형 데이터에 대한 요약을 봅니다."
   ]
  },
  {
   "cell_type": "code",
   "execution_count": 25,
   "metadata": {},
   "outputs": [
    {
     "data": {
      "text/html": [
       "<div>\n",
       "<style scoped>\n",
       "    .dataframe tbody tr th:only-of-type {\n",
       "        vertical-align: middle;\n",
       "    }\n",
       "\n",
       "    .dataframe tbody tr th {\n",
       "        vertical-align: top;\n",
       "    }\n",
       "\n",
       "    .dataframe thead th {\n",
       "        text-align: right;\n",
       "    }\n",
       "</style>\n",
       "<table border=\"1\" class=\"dataframe\">\n",
       "  <thead>\n",
       "    <tr style=\"text-align: right;\">\n",
       "      <th></th>\n",
       "      <th>article_id</th>\n",
       "      <th>answered</th>\n",
       "      <th>votes</th>\n",
       "    </tr>\n",
       "  </thead>\n",
       "  <tbody>\n",
       "    <tr>\n",
       "      <td>count</td>\n",
       "      <td>395547.000000</td>\n",
       "      <td>395547.000000</td>\n",
       "      <td>3.955470e+05</td>\n",
       "    </tr>\n",
       "    <tr>\n",
       "      <td>mean</td>\n",
       "      <td>251608.934635</td>\n",
       "      <td>0.000073</td>\n",
       "      <td>1.501188e+02</td>\n",
       "    </tr>\n",
       "    <tr>\n",
       "      <td>std</td>\n",
       "      <td>153219.216242</td>\n",
       "      <td>0.008562</td>\n",
       "      <td>4.802583e+03</td>\n",
       "    </tr>\n",
       "    <tr>\n",
       "      <td>min</td>\n",
       "      <td>21.000000</td>\n",
       "      <td>0.000000</td>\n",
       "      <td>0.000000e+00</td>\n",
       "    </tr>\n",
       "    <tr>\n",
       "      <td>25%</td>\n",
       "      <td>115236.500000</td>\n",
       "      <td>0.000000</td>\n",
       "      <td>2.000000e+00</td>\n",
       "    </tr>\n",
       "    <tr>\n",
       "      <td>50%</td>\n",
       "      <td>253682.000000</td>\n",
       "      <td>0.000000</td>\n",
       "      <td>5.000000e+00</td>\n",
       "    </tr>\n",
       "    <tr>\n",
       "      <td>75%</td>\n",
       "      <td>386137.500000</td>\n",
       "      <td>0.000000</td>\n",
       "      <td>1.500000e+01</td>\n",
       "    </tr>\n",
       "    <tr>\n",
       "      <td>max</td>\n",
       "      <td>517122.000000</td>\n",
       "      <td>1.000000</td>\n",
       "      <td>1.192049e+06</td>\n",
       "    </tr>\n",
       "  </tbody>\n",
       "</table>\n",
       "</div>"
      ],
      "text/plain": [
       "          article_id       answered         votes\n",
       "count  395547.000000  395547.000000  3.955470e+05\n",
       "mean   251608.934635       0.000073  1.501188e+02\n",
       "std    153219.216242       0.008562  4.802583e+03\n",
       "min        21.000000       0.000000  0.000000e+00\n",
       "25%    115236.500000       0.000000  2.000000e+00\n",
       "50%    253682.000000       0.000000  5.000000e+00\n",
       "75%    386137.500000       0.000000  1.500000e+01\n",
       "max    517122.000000       1.000000  1.192049e+06"
      ]
     },
     "execution_count": 25,
     "metadata": {},
     "output_type": "execute_result"
    }
   ],
   "source": [
    "df.describe()"
   ]
  },
  {
   "cell_type": "markdown",
   "metadata": {},
   "source": [
    "* 카테고리(object) 형태의 데이터에 대한 요약을 봅니다."
   ]
  },
  {
   "cell_type": "code",
   "execution_count": 26,
   "metadata": {},
   "outputs": [
    {
     "name": "stdout",
     "output_type": "stream",
     "text": [
      "<class 'pandas.core.frame.DataFrame'>\n",
      "RangeIndex: 395547 entries, 0 to 395546\n",
      "Data columns (total 8 columns):\n",
      "article_id    395547 non-null int64\n",
      "start         395547 non-null object\n",
      "end           395547 non-null object\n",
      "answered      395547 non-null int64\n",
      "votes         395547 non-null int64\n",
      "category      395547 non-null object\n",
      "title         395547 non-null object\n",
      "content       395546 non-null object\n",
      "dtypes: int64(3), object(5)\n",
      "memory usage: 24.1+ MB\n"
     ]
    }
   ],
   "source": [
    "df.info()"
   ]
  },
  {
   "cell_type": "markdown",
   "metadata": {},
   "source": [
    "## 답변대상 청원 보기\n",
    "20만건 이상 투표를 받으면 답변 대상 청원이 됩니다.<br/>20만건 이상 투표를 받은 청원의 갯수를 세어보세요."
   ]
  },
  {
   "cell_type": "code",
   "execution_count": 27,
   "metadata": {},
   "outputs": [
    {
     "data": {
      "text/html": [
       "<div>\n",
       "<style scoped>\n",
       "    .dataframe tbody tr th:only-of-type {\n",
       "        vertical-align: middle;\n",
       "    }\n",
       "\n",
       "    .dataframe tbody tr th {\n",
       "        vertical-align: top;\n",
       "    }\n",
       "\n",
       "    .dataframe thead th {\n",
       "        text-align: right;\n",
       "    }\n",
       "</style>\n",
       "<table border=\"1\" class=\"dataframe\">\n",
       "  <thead>\n",
       "    <tr style=\"text-align: right;\">\n",
       "      <th></th>\n",
       "      <th>article_id</th>\n",
       "      <th>start</th>\n",
       "      <th>end</th>\n",
       "      <th>answered</th>\n",
       "      <th>votes</th>\n",
       "      <th>category</th>\n",
       "      <th>title</th>\n",
       "      <th>content</th>\n",
       "    </tr>\n",
       "  </thead>\n",
       "  <tbody>\n",
       "    <tr>\n",
       "      <td>0</td>\n",
       "      <td>21</td>\n",
       "      <td>2017-08-19</td>\n",
       "      <td>2017-11-17</td>\n",
       "      <td>0</td>\n",
       "      <td>9</td>\n",
       "      <td>안전/환경</td>\n",
       "      <td>스텔라 데이지호에 대한 제안입니다.</td>\n",
       "      <td>스텔라 데이지호에 대한 제안입니다.\\n3월31일 스텔라 데이지호가 침몰하고 5달째가...</td>\n",
       "    </tr>\n",
       "    <tr>\n",
       "      <td>1</td>\n",
       "      <td>22</td>\n",
       "      <td>2017-08-19</td>\n",
       "      <td>2017-11-17</td>\n",
       "      <td>0</td>\n",
       "      <td>17</td>\n",
       "      <td>기타</td>\n",
       "      <td>비리제보처를 만들어주세요.</td>\n",
       "      <td>현 정부에 국민들이 가장 원하는 것은 부패척결입니다.  우리 사회에 각종 비리들이 ...</td>\n",
       "    </tr>\n",
       "    <tr>\n",
       "      <td>2</td>\n",
       "      <td>23</td>\n",
       "      <td>2017-08-19</td>\n",
       "      <td>2017-09-03</td>\n",
       "      <td>0</td>\n",
       "      <td>0</td>\n",
       "      <td>미래</td>\n",
       "      <td>제2의 개성공단</td>\n",
       "      <td>만일 하시는 대통령님 및 각 부처 장관님,주무관님들 안녕하세요!!\\n전남 목포에서 ...</td>\n",
       "    </tr>\n",
       "    <tr>\n",
       "      <td>3</td>\n",
       "      <td>24</td>\n",
       "      <td>2017-08-19</td>\n",
       "      <td>2017-08-26</td>\n",
       "      <td>0</td>\n",
       "      <td>53</td>\n",
       "      <td>일자리</td>\n",
       "      <td>공공기관 무조건적인 정규직전환을 반대합니다.</td>\n",
       "      <td>현정부에서 정규직 일자리를 늘리는 것에 찬성합니다. 그런데 공공기관 비정규직들은 인...</td>\n",
       "    </tr>\n",
       "    <tr>\n",
       "      <td>4</td>\n",
       "      <td>25</td>\n",
       "      <td>2017-08-19</td>\n",
       "      <td>2017-09-03</td>\n",
       "      <td>0</td>\n",
       "      <td>0</td>\n",
       "      <td>미래</td>\n",
       "      <td>제2의 개성공단</td>\n",
       "      <td>만일 하시는 대통령님 및 각 부처 장관님,주무관님들 안녕하세요!!\\n전남 목포에서 ...</td>\n",
       "    </tr>\n",
       "    <tr>\n",
       "      <td>...</td>\n",
       "      <td>...</td>\n",
       "      <td>...</td>\n",
       "      <td>...</td>\n",
       "      <td>...</td>\n",
       "      <td>...</td>\n",
       "      <td>...</td>\n",
       "      <td>...</td>\n",
       "      <td>...</td>\n",
       "    </tr>\n",
       "    <tr>\n",
       "      <td>395542</td>\n",
       "      <td>517117</td>\n",
       "      <td>2019-02-04</td>\n",
       "      <td>2019-03-06</td>\n",
       "      <td>0</td>\n",
       "      <td>3</td>\n",
       "      <td>보건복지</td>\n",
       "      <td>명절연휴 고속도로 무료반대</td>\n",
       "      <td>명절고속도로 무료보단 대다수의 서민들이 이용하는 대중교통 무료와 명절기간 증차로 했...</td>\n",
       "    </tr>\n",
       "    <tr>\n",
       "      <td>395543</td>\n",
       "      <td>517119</td>\n",
       "      <td>2019-02-04</td>\n",
       "      <td>2019-03-06</td>\n",
       "      <td>0</td>\n",
       "      <td>23</td>\n",
       "      <td>보건복지</td>\n",
       "      <td>광주사태 가짜 유공자들 정수기로 걸려내야함</td>\n",
       "      <td>광주사태 유공자들 차고 넘치는데 이래 많은 유공자들 그냥놓아두면 재앙이다.\\n김대중...</td>\n",
       "    </tr>\n",
       "    <tr>\n",
       "      <td>395544</td>\n",
       "      <td>517120</td>\n",
       "      <td>2019-02-04</td>\n",
       "      <td>2019-03-06</td>\n",
       "      <td>0</td>\n",
       "      <td>0</td>\n",
       "      <td>안전/환경</td>\n",
       "      <td>환경문제</td>\n",
       "      <td>명절이면 후로 제일문제는 쓰레기 문제 입니다.\\n제일문제는 선물세트와 농산물세트 입...</td>\n",
       "    </tr>\n",
       "    <tr>\n",
       "      <td>395545</td>\n",
       "      <td>517121</td>\n",
       "      <td>2019-02-04</td>\n",
       "      <td>2019-03-06</td>\n",
       "      <td>0</td>\n",
       "      <td>20</td>\n",
       "      <td>정치개혁</td>\n",
       "      <td>청화대,더불어민주당, 당장 답하라,,,,,,</td>\n",
       "      <td>좌파 더불어민주당, 좌파 정권 청화대는 선한 국민들을 더는 기망하지 말고 담장 답하...</td>\n",
       "    </tr>\n",
       "    <tr>\n",
       "      <td>395546</td>\n",
       "      <td>517122</td>\n",
       "      <td>2019-02-04</td>\n",
       "      <td>2019-03-06</td>\n",
       "      <td>0</td>\n",
       "      <td>16</td>\n",
       "      <td>인권/성평등</td>\n",
       "      <td>여성부 폐지</td>\n",
       "      <td>국민들이 원합니다\\n폐지 좀 시키세요;</td>\n",
       "    </tr>\n",
       "  </tbody>\n",
       "</table>\n",
       "<p>395547 rows × 8 columns</p>\n",
       "</div>"
      ],
      "text/plain": [
       "        article_id       start         end  answered  votes category  \\\n",
       "0               21  2017-08-19  2017-11-17         0      9    안전/환경   \n",
       "1               22  2017-08-19  2017-11-17         0     17       기타   \n",
       "2               23  2017-08-19  2017-09-03         0      0       미래   \n",
       "3               24  2017-08-19  2017-08-26         0     53      일자리   \n",
       "4               25  2017-08-19  2017-09-03         0      0       미래   \n",
       "...            ...         ...         ...       ...    ...      ...   \n",
       "395542      517117  2019-02-04  2019-03-06         0      3     보건복지   \n",
       "395543      517119  2019-02-04  2019-03-06         0     23     보건복지   \n",
       "395544      517120  2019-02-04  2019-03-06         0      0    안전/환경   \n",
       "395545      517121  2019-02-04  2019-03-06         0     20     정치개혁   \n",
       "395546      517122  2019-02-04  2019-03-06         0     16   인권/성평등   \n",
       "\n",
       "                           title  \\\n",
       "0            스텔라 데이지호에 대한 제안입니다.   \n",
       "1                 비리제보처를 만들어주세요.   \n",
       "2                       제2의 개성공단   \n",
       "3       공공기관 무조건적인 정규직전환을 반대합니다.   \n",
       "4                       제2의 개성공단   \n",
       "...                          ...   \n",
       "395542            명절연휴 고속도로 무료반대   \n",
       "395543   광주사태 가짜 유공자들 정수기로 걸려내야함   \n",
       "395544                      환경문제   \n",
       "395545  청화대,더불어민주당, 당장 답하라,,,,,,   \n",
       "395546                    여성부 폐지   \n",
       "\n",
       "                                                  content  \n",
       "0       스텔라 데이지호에 대한 제안입니다.\\n3월31일 스텔라 데이지호가 침몰하고 5달째가...  \n",
       "1       현 정부에 국민들이 가장 원하는 것은 부패척결입니다.  우리 사회에 각종 비리들이 ...  \n",
       "2       만일 하시는 대통령님 및 각 부처 장관님,주무관님들 안녕하세요!!\\n전남 목포에서 ...  \n",
       "3       현정부에서 정규직 일자리를 늘리는 것에 찬성합니다. 그런데 공공기관 비정규직들은 인...  \n",
       "4       만일 하시는 대통령님 및 각 부처 장관님,주무관님들 안녕하세요!!\\n전남 목포에서 ...  \n",
       "...                                                   ...  \n",
       "395542  명절고속도로 무료보단 대다수의 서민들이 이용하는 대중교통 무료와 명절기간 증차로 했...  \n",
       "395543  광주사태 유공자들 차고 넘치는데 이래 많은 유공자들 그냥놓아두면 재앙이다.\\n김대중...  \n",
       "395544  명절이면 후로 제일문제는 쓰레기 문제 입니다.\\n제일문제는 선물세트와 농산물세트 입...  \n",
       "395545  좌파 더불어민주당, 좌파 정권 청화대는 선한 국민들을 더는 기망하지 말고 담장 답하...  \n",
       "395546                              국민들이 원합니다\\n폐지 좀 시키세요;  \n",
       "\n",
       "[395547 rows x 8 columns]"
      ]
     },
     "execution_count": 27,
     "metadata": {},
     "output_type": "execute_result"
    }
   ],
   "source": [
    "df"
   ]
  },
  {
   "cell_type": "code",
   "execution_count": 112,
   "metadata": {},
   "outputs": [
    {
     "data": {
      "text/plain": [
       "0         False\n",
       "1         False\n",
       "2         False\n",
       "3         False\n",
       "4         False\n",
       "          ...  \n",
       "395542    False\n",
       "395543    False\n",
       "395544    False\n",
       "395545    False\n",
       "395546    False\n",
       "Name: votes, Length: 395547, dtype: bool"
      ]
     },
     "execution_count": 112,
     "metadata": {},
     "output_type": "execute_result"
    }
   ],
   "source": [
    "df['votes'] >= 200000"
   ]
  },
  {
   "cell_type": "code",
   "execution_count": 113,
   "metadata": {},
   "outputs": [
    {
     "data": {
      "text/html": [
       "<div>\n",
       "<style scoped>\n",
       "    .dataframe tbody tr th:only-of-type {\n",
       "        vertical-align: middle;\n",
       "    }\n",
       "\n",
       "    .dataframe tbody tr th {\n",
       "        vertical-align: top;\n",
       "    }\n",
       "\n",
       "    .dataframe thead th {\n",
       "        text-align: right;\n",
       "    }\n",
       "</style>\n",
       "<table border=\"1\" class=\"dataframe\">\n",
       "  <thead>\n",
       "    <tr style=\"text-align: right;\">\n",
       "      <th></th>\n",
       "      <th>article_id</th>\n",
       "      <th>start</th>\n",
       "      <th>end</th>\n",
       "      <th>answered</th>\n",
       "      <th>votes</th>\n",
       "      <th>category</th>\n",
       "      <th>title</th>\n",
       "      <th>content</th>\n",
       "    </tr>\n",
       "  </thead>\n",
       "  <tbody>\n",
       "    <tr>\n",
       "      <td>313314</td>\n",
       "      <td>408609</td>\n",
       "      <td>2018-10-17</td>\n",
       "      <td>2018-11-16</td>\n",
       "      <td>0</td>\n",
       "      <td>1192049</td>\n",
       "      <td>안전/환경</td>\n",
       "      <td>강서구 피시방 살인 사건. 또 심신미약 피의자입니다.</td>\n",
       "      <td>2018년 10월 14일 엊그제 일어난 강서구 피시방 살인사건에 대한 청원입니다.\\...</td>\n",
       "    </tr>\n",
       "    <tr>\n",
       "      <td>208597</td>\n",
       "      <td>269548</td>\n",
       "      <td>2018-06-13</td>\n",
       "      <td>2018-07-13</td>\n",
       "      <td>0</td>\n",
       "      <td>714875</td>\n",
       "      <td>외교/통일/국방</td>\n",
       "      <td>제주도 불법 난민 신청 문제에 따른 난민법, 무사증 입국, 난민신청허가 폐지/개헌 ...</td>\n",
       "      <td>2012년 난민법 제정으로 인해 외국인은 한달 무비자로 입국할 수 있으나 난민신청자...</td>\n",
       "    </tr>\n",
       "    <tr>\n",
       "      <td>10894</td>\n",
       "      <td>10949</td>\n",
       "      <td>2017-09-06</td>\n",
       "      <td>2017-12-05</td>\n",
       "      <td>1</td>\n",
       "      <td>615354</td>\n",
       "      <td>미래</td>\n",
       "      <td>조두순 출소반대</td>\n",
       "      <td>제발 조두순 재심다시해서 무기징역으로 해야됩니다!!!</td>\n",
       "    </tr>\n",
       "    <tr>\n",
       "      <td>118970</td>\n",
       "      <td>142600</td>\n",
       "      <td>2018-02-19</td>\n",
       "      <td>2018-03-21</td>\n",
       "      <td>1</td>\n",
       "      <td>614127</td>\n",
       "      <td>문화/예술/체육/언론</td>\n",
       "      <td>김보름, 박지우 선수의 자격박탈과 적폐 빙상연맹의 엄중 처벌을 청원합니다</td>\n",
       "      <td>오늘 여자 단체전 팀추월에서 김보름, 박지우 선수는 팀전인데도 불구하고 개인의 영달...</td>\n",
       "    </tr>\n",
       "    <tr>\n",
       "      <td>183791</td>\n",
       "      <td>230552</td>\n",
       "      <td>2018-05-11</td>\n",
       "      <td>2018-06-10</td>\n",
       "      <td>1</td>\n",
       "      <td>419006</td>\n",
       "      <td>인권/성평등</td>\n",
       "      <td>여성도 대한민국 국민입니다. 성별 관계없는 국가의 보호를 요청합니다.</td>\n",
       "      <td>최근 홍대 누드크로키 모델의 불법촬영 사건이 있었습니다.\\n사건은 굉장히 빠르게 처...</td>\n",
       "    </tr>\n",
       "  </tbody>\n",
       "</table>\n",
       "</div>"
      ],
      "text/plain": [
       "        article_id       start         end  answered    votes     category  \\\n",
       "313314      408609  2018-10-17  2018-11-16         0  1192049        안전/환경   \n",
       "208597      269548  2018-06-13  2018-07-13         0   714875     외교/통일/국방   \n",
       "10894        10949  2017-09-06  2017-12-05         1   615354           미래   \n",
       "118970      142600  2018-02-19  2018-03-21         1   614127  문화/예술/체육/언론   \n",
       "183791      230552  2018-05-11  2018-06-10         1   419006       인권/성평등   \n",
       "\n",
       "                                                    title  \\\n",
       "313314                      강서구 피시방 살인 사건. 또 심신미약 피의자입니다.   \n",
       "208597  제주도 불법 난민 신청 문제에 따른 난민법, 무사증 입국, 난민신청허가 폐지/개헌 ...   \n",
       "10894                                            조두순 출소반대   \n",
       "118970           김보름, 박지우 선수의 자격박탈과 적폐 빙상연맹의 엄중 처벌을 청원합니다   \n",
       "183791             여성도 대한민국 국민입니다. 성별 관계없는 국가의 보호를 요청합니다.   \n",
       "\n",
       "                                                  content  \n",
       "313314  2018년 10월 14일 엊그제 일어난 강서구 피시방 살인사건에 대한 청원입니다.\\...  \n",
       "208597  2012년 난민법 제정으로 인해 외국인은 한달 무비자로 입국할 수 있으나 난민신청자...  \n",
       "10894                       제발 조두순 재심다시해서 무기징역으로 해야됩니다!!!  \n",
       "118970  오늘 여자 단체전 팀추월에서 김보름, 박지우 선수는 팀전인데도 불구하고 개인의 영달...  \n",
       "183791  최근 홍대 누드크로키 모델의 불법촬영 사건이 있었습니다.\\n사건은 굉장히 빠르게 처...  "
      ]
     },
     "execution_count": 113,
     "metadata": {},
     "output_type": "execute_result"
    }
   ],
   "source": [
    "df_20_loc = df.loc[df['votes'] >= 200000]\n",
    "df_20_loc.sort_values(by='votes', ascending=False).head()"
   ]
  },
  {
   "cell_type": "code",
   "execution_count": 114,
   "metadata": {},
   "outputs": [
    {
     "data": {
      "text/plain": [
       "article_id    3472\n",
       "start         3472\n",
       "end           3472\n",
       "answered      3472\n",
       "votes         3472\n",
       "category      3472\n",
       "title         3472\n",
       "content       3472\n",
       "dtype: int64"
      ]
     },
     "execution_count": 114,
     "metadata": {},
     "output_type": "execute_result"
    }
   ],
   "source": [
    "df.loc[df['votes'] > 1000].count()"
   ]
  },
  {
   "cell_type": "markdown",
   "metadata": {},
   "source": [
    "* 20만건 이상 투표를 받은 상위 5개의 청원을 head()를 통해 출력해 보세요."
   ]
  },
  {
   "cell_type": "code",
   "execution_count": 115,
   "metadata": {},
   "outputs": [
    {
     "data": {
      "text/plain": [
       "인권/성평등         24\n",
       "안전/환경          10\n",
       "정치개혁            8\n",
       "기타              8\n",
       "문화/예술/체육/언론     7\n",
       "외교/통일/국방        4\n",
       "반려동물            4\n",
       "보건복지            3\n",
       "육아/교육           3\n",
       "교통/건축/국토        3\n",
       "경제민주화           2\n",
       "성장동력            2\n",
       "행정              1\n",
       "미래              1\n",
       "Name: category, dtype: int64"
      ]
     },
     "execution_count": 115,
     "metadata": {},
     "output_type": "execute_result"
    }
   ],
   "source": [
    "df_20.category.value_counts()"
   ]
  },
  {
   "cell_type": "markdown",
   "metadata": {},
   "source": [
    "* 20만건 이상 투표를 받은 청원을 별도의 컬럼을 만들어 줍니다. 컬럼 이름은 `answer`로 합니다."
   ]
  },
  {
   "cell_type": "code",
   "execution_count": 116,
   "metadata": {},
   "outputs": [],
   "source": [
    "df['answer'] = (df['votes'] > 200000) == 1"
   ]
  },
  {
   "cell_type": "markdown",
   "metadata": {},
   "source": [
    "* df 데이터프레임의 크기를 다시 찍어 보세요. 컬럼 하나가 늘었나요?"
   ]
  },
  {
   "cell_type": "code",
   "execution_count": 110,
   "metadata": {},
   "outputs": [
    {
     "data": {
      "text/plain": [
       "(395547, 8)"
      ]
     },
     "execution_count": 110,
     "metadata": {},
     "output_type": "execute_result"
    }
   ],
   "source": [
    "df.shape"
   ]
  },
  {
   "cell_type": "markdown",
   "metadata": {},
   "source": [
    "* 새로 생성해 준 answer의 타입은 boolean 타입입니다. int로 변경해 보세요."
   ]
  },
  {
   "cell_type": "code",
   "execution_count": 117,
   "metadata": {},
   "outputs": [],
   "source": [
    "df['answer'] = df['answer'].astype(int)"
   ]
  },
  {
   "cell_type": "markdown",
   "metadata": {},
   "source": [
    "* 답변대상 청원중 아직 답변되지 않은 청원의 수를 계산해 보세요."
   ]
  },
  {
   "cell_type": "code",
   "execution_count": 120,
   "metadata": {},
   "outputs": [],
   "source": [
    "df['answer_diff'] = df['answer'] - df['answered']\n",
    "df['answer_diff'] = sum"
   ]
  },
  {
   "cell_type": "markdown",
   "metadata": {},
   "source": [
    "## 답변 대상 청원 중 투표를 가장 많이 받은 것"
   ]
  },
  {
   "cell_type": "code",
   "execution_count": 121,
   "metadata": {},
   "outputs": [
    {
     "data": {
      "text/html": [
       "<div>\n",
       "<style scoped>\n",
       "    .dataframe tbody tr th:only-of-type {\n",
       "        vertical-align: middle;\n",
       "    }\n",
       "\n",
       "    .dataframe tbody tr th {\n",
       "        vertical-align: top;\n",
       "    }\n",
       "\n",
       "    .dataframe thead th {\n",
       "        text-align: right;\n",
       "    }\n",
       "</style>\n",
       "<table border=\"1\" class=\"dataframe\">\n",
       "  <thead>\n",
       "    <tr style=\"text-align: right;\">\n",
       "      <th></th>\n",
       "      <th>article_id</th>\n",
       "      <th>start</th>\n",
       "      <th>end</th>\n",
       "      <th>answered</th>\n",
       "      <th>votes</th>\n",
       "      <th>category</th>\n",
       "      <th>title</th>\n",
       "      <th>content</th>\n",
       "      <th>answer</th>\n",
       "      <th>answer_diff</th>\n",
       "    </tr>\n",
       "  </thead>\n",
       "  <tbody>\n",
       "    <tr>\n",
       "      <td>313314</td>\n",
       "      <td>408609</td>\n",
       "      <td>2018-10-17</td>\n",
       "      <td>2018-11-16</td>\n",
       "      <td>0</td>\n",
       "      <td>1192049</td>\n",
       "      <td>안전/환경</td>\n",
       "      <td>강서구 피시방 살인 사건. 또 심신미약 피의자입니다.</td>\n",
       "      <td>2018년 10월 14일 엊그제 일어난 강서구 피시방 살인사건에 대한 청원입니다.\\...</td>\n",
       "      <td>1</td>\n",
       "      <td>&lt;built-in function sum&gt;</td>\n",
       "    </tr>\n",
       "    <tr>\n",
       "      <td>208597</td>\n",
       "      <td>269548</td>\n",
       "      <td>2018-06-13</td>\n",
       "      <td>2018-07-13</td>\n",
       "      <td>0</td>\n",
       "      <td>714875</td>\n",
       "      <td>외교/통일/국방</td>\n",
       "      <td>제주도 불법 난민 신청 문제에 따른 난민법, 무사증 입국, 난민신청허가 폐지/개헌 ...</td>\n",
       "      <td>2012년 난민법 제정으로 인해 외국인은 한달 무비자로 입국할 수 있으나 난민신청자...</td>\n",
       "      <td>1</td>\n",
       "      <td>&lt;built-in function sum&gt;</td>\n",
       "    </tr>\n",
       "    <tr>\n",
       "      <td>10894</td>\n",
       "      <td>10949</td>\n",
       "      <td>2017-09-06</td>\n",
       "      <td>2017-12-05</td>\n",
       "      <td>1</td>\n",
       "      <td>615354</td>\n",
       "      <td>미래</td>\n",
       "      <td>조두순 출소반대</td>\n",
       "      <td>제발 조두순 재심다시해서 무기징역으로 해야됩니다!!!</td>\n",
       "      <td>1</td>\n",
       "      <td>&lt;built-in function sum&gt;</td>\n",
       "    </tr>\n",
       "    <tr>\n",
       "      <td>118970</td>\n",
       "      <td>142600</td>\n",
       "      <td>2018-02-19</td>\n",
       "      <td>2018-03-21</td>\n",
       "      <td>1</td>\n",
       "      <td>614127</td>\n",
       "      <td>문화/예술/체육/언론</td>\n",
       "      <td>김보름, 박지우 선수의 자격박탈과 적폐 빙상연맹의 엄중 처벌을 청원합니다</td>\n",
       "      <td>오늘 여자 단체전 팀추월에서 김보름, 박지우 선수는 팀전인데도 불구하고 개인의 영달...</td>\n",
       "      <td>1</td>\n",
       "      <td>&lt;built-in function sum&gt;</td>\n",
       "    </tr>\n",
       "    <tr>\n",
       "      <td>183791</td>\n",
       "      <td>230552</td>\n",
       "      <td>2018-05-11</td>\n",
       "      <td>2018-06-10</td>\n",
       "      <td>1</td>\n",
       "      <td>419006</td>\n",
       "      <td>인권/성평등</td>\n",
       "      <td>여성도 대한민국 국민입니다. 성별 관계없는 국가의 보호를 요청합니다.</td>\n",
       "      <td>최근 홍대 누드크로키 모델의 불법촬영 사건이 있었습니다.\\n사건은 굉장히 빠르게 처...</td>\n",
       "      <td>1</td>\n",
       "      <td>&lt;built-in function sum&gt;</td>\n",
       "    </tr>\n",
       "  </tbody>\n",
       "</table>\n",
       "</div>"
      ],
      "text/plain": [
       "        article_id       start         end  answered    votes     category  \\\n",
       "313314      408609  2018-10-17  2018-11-16         0  1192049        안전/환경   \n",
       "208597      269548  2018-06-13  2018-07-13         0   714875     외교/통일/국방   \n",
       "10894        10949  2017-09-06  2017-12-05         1   615354           미래   \n",
       "118970      142600  2018-02-19  2018-03-21         1   614127  문화/예술/체육/언론   \n",
       "183791      230552  2018-05-11  2018-06-10         1   419006       인권/성평등   \n",
       "\n",
       "                                                    title  \\\n",
       "313314                      강서구 피시방 살인 사건. 또 심신미약 피의자입니다.   \n",
       "208597  제주도 불법 난민 신청 문제에 따른 난민법, 무사증 입국, 난민신청허가 폐지/개헌 ...   \n",
       "10894                                            조두순 출소반대   \n",
       "118970           김보름, 박지우 선수의 자격박탈과 적폐 빙상연맹의 엄중 처벌을 청원합니다   \n",
       "183791             여성도 대한민국 국민입니다. 성별 관계없는 국가의 보호를 요청합니다.   \n",
       "\n",
       "                                                  content  answer  \\\n",
       "313314  2018년 10월 14일 엊그제 일어난 강서구 피시방 살인사건에 대한 청원입니다.\\...       1   \n",
       "208597  2012년 난민법 제정으로 인해 외국인은 한달 무비자로 입국할 수 있으나 난민신청자...       1   \n",
       "10894                       제발 조두순 재심다시해서 무기징역으로 해야됩니다!!!       1   \n",
       "118970  오늘 여자 단체전 팀추월에서 김보름, 박지우 선수는 팀전인데도 불구하고 개인의 영달...       1   \n",
       "183791  최근 홍대 누드크로키 모델의 불법촬영 사건이 있었습니다.\\n사건은 굉장히 빠르게 처...       1   \n",
       "\n",
       "                    answer_diff  \n",
       "313314  <built-in function sum>  \n",
       "208597  <built-in function sum>  \n",
       "10894   <built-in function sum>  \n",
       "118970  <built-in function sum>  \n",
       "183791  <built-in function sum>  "
      ]
     },
     "execution_count": 121,
     "metadata": {},
     "output_type": "execute_result"
    }
   ],
   "source": [
    "answered_df = df.loc[df['answer'] == 1]\n",
    "answered_df.sort_values('votes', ascending=False).head()\n",
    "#df에서 answer이 1개 인것을 보아서, 내림차순으로 정렬"
   ]
  },
  {
   "cell_type": "markdown",
   "metadata": {},
   "source": [
    "## 어느 분야의 청원이 가장 많이 들어왔는지?\n",
    "pandas의 value_counts로 특정 컬럼의 데이터를 그룹화하여 카운된 숫자를 볼 수 있습니다.<br/>\n",
    "어느 분야의 청원이 가장 많이 들어왔는지 찾아보세요."
   ]
  },
  {
   "cell_type": "code",
   "execution_count": 123,
   "metadata": {},
   "outputs": [
    {
     "data": {
      "text/html": [
       "<div>\n",
       "<style scoped>\n",
       "    .dataframe tbody tr th:only-of-type {\n",
       "        vertical-align: middle;\n",
       "    }\n",
       "\n",
       "    .dataframe tbody tr th {\n",
       "        vertical-align: top;\n",
       "    }\n",
       "\n",
       "    .dataframe thead th {\n",
       "        text-align: right;\n",
       "    }\n",
       "</style>\n",
       "<table border=\"1\" class=\"dataframe\">\n",
       "  <thead>\n",
       "    <tr style=\"text-align: right;\">\n",
       "      <th></th>\n",
       "      <th>category</th>\n",
       "      <th>counts</th>\n",
       "    </tr>\n",
       "  </thead>\n",
       "  <tbody>\n",
       "    <tr>\n",
       "      <td>0</td>\n",
       "      <td>정치개혁</td>\n",
       "      <td>62750</td>\n",
       "    </tr>\n",
       "    <tr>\n",
       "      <td>1</td>\n",
       "      <td>기타</td>\n",
       "      <td>48682</td>\n",
       "    </tr>\n",
       "    <tr>\n",
       "      <td>2</td>\n",
       "      <td>인권/성평등</td>\n",
       "      <td>34993</td>\n",
       "    </tr>\n",
       "    <tr>\n",
       "      <td>3</td>\n",
       "      <td>안전/환경</td>\n",
       "      <td>30638</td>\n",
       "    </tr>\n",
       "    <tr>\n",
       "      <td>4</td>\n",
       "      <td>교통/건축/국토</td>\n",
       "      <td>28184</td>\n",
       "    </tr>\n",
       "    <tr>\n",
       "      <td>5</td>\n",
       "      <td>외교/통일/국방</td>\n",
       "      <td>26626</td>\n",
       "    </tr>\n",
       "    <tr>\n",
       "      <td>6</td>\n",
       "      <td>육아/교육</td>\n",
       "      <td>25537</td>\n",
       "    </tr>\n",
       "    <tr>\n",
       "      <td>7</td>\n",
       "      <td>보건복지</td>\n",
       "      <td>24848</td>\n",
       "    </tr>\n",
       "    <tr>\n",
       "      <td>8</td>\n",
       "      <td>일자리</td>\n",
       "      <td>23225</td>\n",
       "    </tr>\n",
       "    <tr>\n",
       "      <td>9</td>\n",
       "      <td>행정</td>\n",
       "      <td>20268</td>\n",
       "    </tr>\n",
       "    <tr>\n",
       "      <td>10</td>\n",
       "      <td>문화/예술/체육/언론</td>\n",
       "      <td>18207</td>\n",
       "    </tr>\n",
       "    <tr>\n",
       "      <td>11</td>\n",
       "      <td>미래</td>\n",
       "      <td>18000</td>\n",
       "    </tr>\n",
       "    <tr>\n",
       "      <td>12</td>\n",
       "      <td>경제민주화</td>\n",
       "      <td>16793</td>\n",
       "    </tr>\n",
       "    <tr>\n",
       "      <td>13</td>\n",
       "      <td>성장동력</td>\n",
       "      <td>7253</td>\n",
       "    </tr>\n",
       "    <tr>\n",
       "      <td>14</td>\n",
       "      <td>반려동물</td>\n",
       "      <td>4057</td>\n",
       "    </tr>\n",
       "    <tr>\n",
       "      <td>15</td>\n",
       "      <td>저출산/고령화대책</td>\n",
       "      <td>3584</td>\n",
       "    </tr>\n",
       "    <tr>\n",
       "      <td>16</td>\n",
       "      <td>농산어촌</td>\n",
       "      <td>1902</td>\n",
       "    </tr>\n",
       "  </tbody>\n",
       "</table>\n",
       "</div>"
      ],
      "text/plain": [
       "       category  counts\n",
       "0          정치개혁   62750\n",
       "1            기타   48682\n",
       "2        인권/성평등   34993\n",
       "3         안전/환경   30638\n",
       "4      교통/건축/국토   28184\n",
       "5      외교/통일/국방   26626\n",
       "6         육아/교육   25537\n",
       "7          보건복지   24848\n",
       "8           일자리   23225\n",
       "9            행정   20268\n",
       "10  문화/예술/체육/언론   18207\n",
       "11           미래   18000\n",
       "12        경제민주화   16793\n",
       "13         성장동력    7253\n",
       "14         반려동물    4057\n",
       "15    저출산/고령화대책    3584\n",
       "16         농산어촌    1902"
      ]
     },
     "execution_count": 123,
     "metadata": {},
     "output_type": "execute_result"
    }
   ],
   "source": [
    "category = pd.DataFrame(df['category'].value_counts()).reset_index()\n",
    "category.columns =['category', 'counts']\n",
    "category"
   ]
  },
  {
   "cell_type": "markdown",
   "metadata": {},
   "source": [
    "## 청원이 가장 많이 들어 온 날은 언제인지 정렬해 보세요.\n",
    "청원이 가장 많이 들어 온 날은 언제인지 정렬해 보세요."
   ]
  },
  {
   "cell_type": "code",
   "execution_count": 126,
   "metadata": {},
   "outputs": [
    {
     "name": "stdout",
     "output_type": "stream",
     "text": [
      "청원 집계: 535일\n"
     ]
    },
    {
     "data": {
      "text/html": [
       "<div>\n",
       "<style scoped>\n",
       "    .dataframe tbody tr th:only-of-type {\n",
       "        vertical-align: middle;\n",
       "    }\n",
       "\n",
       "    .dataframe tbody tr th {\n",
       "        vertical-align: top;\n",
       "    }\n",
       "\n",
       "    .dataframe thead th {\n",
       "        text-align: right;\n",
       "    }\n",
       "</style>\n",
       "<table border=\"1\" class=\"dataframe\">\n",
       "  <thead>\n",
       "    <tr style=\"text-align: right;\">\n",
       "      <th></th>\n",
       "      <th>start</th>\n",
       "      <th>counts</th>\n",
       "    </tr>\n",
       "  </thead>\n",
       "  <tbody>\n",
       "    <tr>\n",
       "      <td>0</td>\n",
       "      <td>2017-11-11</td>\n",
       "      <td>9623</td>\n",
       "    </tr>\n",
       "    <tr>\n",
       "      <td>1</td>\n",
       "      <td>2017-09-05</td>\n",
       "      <td>5952</td>\n",
       "    </tr>\n",
       "    <tr>\n",
       "      <td>2</td>\n",
       "      <td>2018-01-11</td>\n",
       "      <td>3368</td>\n",
       "    </tr>\n",
       "    <tr>\n",
       "      <td>3</td>\n",
       "      <td>2018-02-06</td>\n",
       "      <td>2631</td>\n",
       "    </tr>\n",
       "    <tr>\n",
       "      <td>4</td>\n",
       "      <td>2017-11-09</td>\n",
       "      <td>2487</td>\n",
       "    </tr>\n",
       "  </tbody>\n",
       "</table>\n",
       "</div>"
      ],
      "text/plain": [
       "        start  counts\n",
       "0  2017-11-11    9623\n",
       "1  2017-09-05    5952\n",
       "2  2018-01-11    3368\n",
       "3  2018-02-06    2631\n",
       "4  2017-11-09    2487"
      ]
     },
     "execution_count": 126,
     "metadata": {},
     "output_type": "execute_result"
    }
   ],
   "source": [
    "start_df = pd.DataFrame(df['start'].value_counts()).reset_index()\n",
    "start_df.columns = ['start', 'counts']\n",
    "start_df = start_df.sort_values('counts', ascending=False)\n",
    "print('청원 집계: {}일'.format(start_df.shape[0]))\n",
    "start_df.head()"
   ]
  },
  {
   "cell_type": "markdown",
   "metadata": {},
   "source": [
    "## 피봇 테이블로 투표를 가장 많이 받은 분야를 찾아보세요."
   ]
  },
  {
   "cell_type": "code",
   "execution_count": null,
   "metadata": {},
   "outputs": [],
   "source": []
  },
  {
   "cell_type": "markdown",
   "metadata": {},
   "source": [
    "## 투표를 가장 많이 받은 날은 언제일까요?"
   ]
  },
  {
   "cell_type": "code",
   "execution_count": null,
   "metadata": {},
   "outputs": [],
   "source": []
  },
  {
   "cell_type": "markdown",
   "metadata": {},
   "source": [
    "## 청원을 많이 받은 날 VS 투표를 많이 받은 날에 대해 각각 상위 5개 목록을 추출해 봅니다. \n",
    "이때, title, content는 안 나와도 됩니다."
   ]
  },
  {
   "cell_type": "code",
   "execution_count": null,
   "metadata": {},
   "outputs": [],
   "source": []
  },
  {
   "cell_type": "code",
   "execution_count": null,
   "metadata": {},
   "outputs": [],
   "source": []
  },
  {
   "cell_type": "markdown",
   "metadata": {},
   "source": [
    "## 시계열 데이터 보기\n",
    "* 월별 청원수를 집계해 보세요."
   ]
  },
  {
   "cell_type": "code",
   "execution_count": null,
   "metadata": {},
   "outputs": [],
   "source": []
  },
  {
   "cell_type": "markdown",
   "metadata": {},
   "source": [
    "* 청원이 가장 많이 들어온 달은 언제인가요?\n",
    "* 요일별 청원 수는 어떻게 되나요?"
   ]
  },
  {
   "cell_type": "code",
   "execution_count": null,
   "metadata": {},
   "outputs": [],
   "source": []
  },
  {
   "cell_type": "markdown",
   "metadata": {},
   "source": [
    "* 특정 단어가 들어가는 청원을 찾아보세요."
   ]
  },
  {
   "cell_type": "code",
   "execution_count": null,
   "metadata": {},
   "outputs": [],
   "source": []
  },
  {
   "cell_type": "markdown",
   "metadata": {},
   "source": [
    "## 위 분석 외에 각자 해보고 싶은 분석을 해보세요."
   ]
  },
  {
   "cell_type": "code",
   "execution_count": null,
   "metadata": {},
   "outputs": [],
   "source": []
  }
 ],
 "metadata": {
  "kernelspec": {
   "display_name": "Python 3",
   "language": "python",
   "name": "python3"
  },
  "language_info": {
   "codemirror_mode": {
    "name": "ipython",
    "version": 3
   },
   "file_extension": ".py",
   "mimetype": "text/x-python",
   "name": "python",
   "nbconvert_exporter": "python",
   "pygments_lexer": "ipython3",
   "version": "3.7.4"
  }
 },
 "nbformat": 4,
 "nbformat_minor": 4
}
