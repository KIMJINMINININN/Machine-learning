{
 "cells": [
  {
   "cell_type": "code",
   "execution_count": 5,
   "metadata": {},
   "outputs": [
    {
     "name": "stdout",
     "output_type": "stream",
     "text": [
      "승객수 : 891\n",
      "      age     sex   class     fare  survived\n",
      "0    22.0    male   Third   7.2500         0\n",
      "1    38.0  female   First  71.2833         1\n",
      "2    26.0  female   Third   7.9250         1\n",
      "3    35.0  female   First  53.1000         1\n",
      "4    35.0    male   Third   8.0500         0\n",
      "..    ...     ...     ...      ...       ...\n",
      "886  27.0    male  Second  13.0000         0\n",
      "887  19.0  female   First  30.0000         1\n",
      "888   NaN  female   Third  23.4500         0\n",
      "889  26.0    male   First  30.0000         1\n",
      "890  32.0    male   Third   7.7500         0\n",
      "\n",
      "[891 rows x 5 columns]\n",
      "\n",
      "\n"
     ]
    }
   ],
   "source": [
    "import pandas as pd\n",
    "import seaborn as sns\n",
    "\n",
    "# titanic 데이터셋에서 age, sex등 5개 열을 선택하여 데이터프레임 만들기\n",
    "titanic = sns.load_dataset('titanic')\n",
    "df = titanic.loc[:,['age', 'sex', 'class', 'fare', 'survived']]\n",
    "\n",
    "print('승객수 :', len(df))\n",
    "print(df)\n",
    "print('\\n')"
   ]
  },
  {
   "cell_type": "code",
   "execution_count": 2,
   "metadata": {},
   "outputs": [
    {
     "name": "stdout",
     "output_type": "stream",
     "text": [
      "<pandas.core.groupby.generic.DataFrameGroupBy object at 0x0000018ED1ADF508>\n",
      "\n",
      "\n"
     ]
    }
   ],
   "source": [
    "# class 열을 기준으로 분할\n",
    "grouped = df.groupby(['class'])\n",
    "print(grouped)\n",
    "print('\\n')"
   ]
  },
  {
   "cell_type": "code",
   "execution_count": 3,
   "metadata": {},
   "outputs": [
    {
     "name": "stdout",
     "output_type": "stream",
     "text": [
      "* key: First\n",
      "* number 216\n",
      "     age     sex  class     fare  survived\n",
      "1   38.0  female  First  71.2833         1\n",
      "3   35.0  female  First  53.1000         1\n",
      "6   54.0    male  First  51.8625         0\n",
      "11  58.0  female  First  26.5500         1\n",
      "23  28.0    male  First  35.5000         1\n",
      "\n",
      "\n",
      "* key: Second\n",
      "* number 184\n",
      "     age     sex   class     fare  survived\n",
      "9   14.0  female  Second  30.0708         1\n",
      "15  55.0  female  Second  16.0000         1\n",
      "17   NaN    male  Second  13.0000         1\n",
      "20  35.0    male  Second  26.0000         0\n",
      "21  34.0    male  Second  13.0000         1\n",
      "\n",
      "\n",
      "* key: Third\n",
      "* number 491\n",
      "    age     sex  class     fare  survived\n",
      "0  22.0    male  Third   7.2500         0\n",
      "2  26.0  female  Third   7.9250         1\n",
      "4  35.0    male  Third   8.0500         0\n",
      "5   NaN    male  Third   8.4583         0\n",
      "7   2.0    male  Third  21.0750         0\n",
      "\n",
      "\n"
     ]
    }
   ],
   "source": [
    "# 그룹 객체를 iteration으로 출력: head() 메소드로 첫 5행만을 출력\n",
    "for key, group in grouped:\n",
    "    print('* key:', key)\n",
    "    print('* number', len(group))\n",
    "    print(group.head())\n",
    "    print('\\n')"
   ]
  },
  {
   "cell_type": "code",
   "execution_count": 4,
   "metadata": {},
   "outputs": [
    {
     "name": "stdout",
     "output_type": "stream",
     "text": [
      "              age       fare  survived\n",
      "class                                 \n",
      "First   38.233441  84.154687  0.629630\n",
      "Second  29.877630  20.662183  0.472826\n",
      "Third   25.140620  13.675550  0.242363\n",
      "\n",
      "\n"
     ]
    }
   ],
   "source": [
    "# 연산 메소드 적용\n",
    "average = grouped.mean()\n",
    "print(average)\n",
    "print('\\n')"
   ]
  },
  {
   "cell_type": "code",
   "execution_count": 7,
   "metadata": {},
   "outputs": [
    {
     "name": "stdout",
     "output_type": "stream",
     "text": [
      "    age     sex  class     fare  survived\n",
      "0  22.0    male  Third   7.2500         0\n",
      "2  26.0  female  Third   7.9250         1\n",
      "4  35.0    male  Third   8.0500         0\n",
      "5   NaN    male  Third   8.4583         0\n",
      "7   2.0    male  Third  21.0750         0\n",
      "\n",
      "\n"
     ]
    }
   ],
   "source": [
    "# 개별 그룹 선택하기\n",
    "group3 = grouped.get_group('Third')\n",
    "print(group3.head())\n",
    "print('\\n')"
   ]
  },
  {
   "cell_type": "code",
   "execution_count": 8,
   "metadata": {},
   "outputs": [],
   "source": [
    "# calss 열, sex 열을 기준으로 분할 #key를 class sex 두가지로 잡았기때문에\n",
    "grouped_two = df.groupby(['class', 'sex'])"
   ]
  },
  {
   "cell_type": "code",
   "execution_count": 9,
   "metadata": {},
   "outputs": [
    {
     "name": "stdout",
     "output_type": "stream",
     "text": [
      "* key: ('First', 'female')\n",
      "* number 94\n",
      "     age     sex  class      fare  survived\n",
      "1   38.0  female  First   71.2833         1\n",
      "3   35.0  female  First   53.1000         1\n",
      "11  58.0  female  First   26.5500         1\n",
      "31   NaN  female  First  146.5208         1\n",
      "52  49.0  female  First   76.7292         1\n",
      "\n",
      "\n",
      "* key: ('First', 'male')\n",
      "* number 122\n",
      "     age   sex  class      fare  survived\n",
      "6   54.0  male  First   51.8625         0\n",
      "23  28.0  male  First   35.5000         1\n",
      "27  19.0  male  First  263.0000         0\n",
      "30  40.0  male  First   27.7208         0\n",
      "34  28.0  male  First   82.1708         0\n",
      "\n",
      "\n",
      "* key: ('Second', 'female')\n",
      "* number 76\n",
      "     age     sex   class     fare  survived\n",
      "9   14.0  female  Second  30.0708         1\n",
      "15  55.0  female  Second  16.0000         1\n",
      "41  27.0  female  Second  21.0000         0\n",
      "43   3.0  female  Second  41.5792         1\n",
      "53  29.0  female  Second  26.0000         1\n",
      "\n",
      "\n",
      "* key: ('Second', 'male')\n",
      "* number 108\n",
      "     age   sex   class  fare  survived\n",
      "17   NaN  male  Second  13.0         1\n",
      "20  35.0  male  Second  26.0         0\n",
      "21  34.0  male  Second  13.0         1\n",
      "33  66.0  male  Second  10.5         0\n",
      "70  32.0  male  Second  10.5         0\n",
      "\n",
      "\n",
      "* key: ('Third', 'female')\n",
      "* number 144\n",
      "     age     sex  class     fare  survived\n",
      "2   26.0  female  Third   7.9250         1\n",
      "8   27.0  female  Third  11.1333         1\n",
      "10   4.0  female  Third  16.7000         1\n",
      "14  14.0  female  Third   7.8542         0\n",
      "18  31.0  female  Third  18.0000         0\n",
      "\n",
      "\n",
      "* key: ('Third', 'male')\n",
      "* number 347\n",
      "     age   sex  class     fare  survived\n",
      "0   22.0  male  Third   7.2500         0\n",
      "4   35.0  male  Third   8.0500         0\n",
      "5    NaN  male  Third   8.4583         0\n",
      "7    2.0  male  Third  21.0750         0\n",
      "12  20.0  male  Third   8.0500         0\n",
      "\n",
      "\n"
     ]
    }
   ],
   "source": [
    "# group_two 그룹 객체를 iteration으로 출력\n",
    "# \n",
    "for key, group in grouped_two:\n",
    "    print('* key:', key)\n",
    "    print('* number', len(group))\n",
    "    print(group.head())\n",
    "    print('\\n')"
   ]
  },
  {
   "cell_type": "code",
   "execution_count": 10,
   "metadata": {},
   "outputs": [
    {
     "name": "stdout",
     "output_type": "stream",
     "text": [
      "                     age        fare  survived\n",
      "class  sex                                    \n",
      "First  female  34.611765  106.125798  0.968085\n",
      "       male    41.281386   67.226127  0.368852\n",
      "Second female  28.722973   21.970121  0.921053\n",
      "       male    30.740707   19.741782  0.157407\n",
      "Third  female  21.750000   16.118810  0.500000\n",
      "       male    26.507589   12.661633  0.135447\n",
      "\n",
      "\n",
      "<class 'pandas.core.frame.DataFrame'>\n"
     ]
    }
   ],
   "source": [
    "# grouped_two 그룹 객체에 연산 메소드 적용\n",
    "average_two = grouped_two.mean() #그룹 연산이 된다\n",
    "print(average_two)\n",
    "print('\\n')\n",
    "print(type(average_two))"
   ]
  },
  {
   "cell_type": "code",
   "execution_count": 11,
   "metadata": {},
   "outputs": [
    {
     "name": "stdout",
     "output_type": "stream",
     "text": [
      "    age     sex  class     fare  survived\n",
      "0  22.0    male  Third   7.2500         0\n",
      "2  26.0  female  Third   7.9250         1\n",
      "4  35.0    male  Third   8.0500         0\n",
      "5   NaN    male  Third   8.4583         0\n",
      "7   2.0    male  Third  21.0750         0\n",
      "\n",
      "\n"
     ]
    }
   ],
   "source": [
    "# 개별 그룹 선택하기\n",
    "group3 = grouped.get_group('Third')\n",
    "print(group3.head())\n",
    "print('\\n')"
   ]
  },
  {
   "cell_type": "code",
   "execution_count": 12,
   "metadata": {},
   "outputs": [],
   "source": [
    "# class 열, sex 열을 기준으로 분할\n",
    "grouped_two = df.groupby(['class', 'sex'])"
   ]
  },
  {
   "cell_type": "code",
   "execution_count": 14,
   "metadata": {},
   "outputs": [
    {
     "name": "stdout",
     "output_type": "stream",
     "text": [
      "              age       fare  survived\n",
      "class                                 \n",
      "First   14.802856  78.380373  0.484026\n",
      "Second  14.001077  13.417399  0.500623\n",
      "Third   12.495398  11.778142  0.428949\n",
      "\n",
      "\n",
      "<class 'pandas.core.frame.DataFrame'>\n",
      "\n",
      "\n"
     ]
    }
   ],
   "source": [
    "# 각 그룹에 대한 모든 열의 표준편차를 집계하여 데이터프레임으로 반환\n",
    "std_all = grouped.std()\n",
    "print(std_all)\n",
    "print('\\n')\n",
    "print(type(std_all))\n",
    "print('\\n')"
   ]
  },
  {
   "cell_type": "code",
   "execution_count": 15,
   "metadata": {},
   "outputs": [
    {
     "name": "stdout",
     "output_type": "stream",
     "text": [
      "class\n",
      "First     78.380373\n",
      "Second    13.417399\n",
      "Third     11.778142\n",
      "Name: fare, dtype: float64\n",
      "\\m\n",
      "<class 'pandas.core.series.Series'>\n",
      "\\m\n"
     ]
    }
   ],
   "source": [
    "# 각 그룹에 대한 fare 열의 표준편차를 집계하여 시리즈로 반환\n",
    "std_fare = grouped.fare.std()\n",
    "print(std_fare)\n",
    "print('\\m')\n",
    "print(type(std_fare))\n",
    "print('\\m')"
   ]
  },
  {
   "cell_type": "code",
   "execution_count": 16,
   "metadata": {},
   "outputs": [],
   "source": [
    "# 그룹 객체에 agg() 메소드 적용 - 사용자 정의 함수를 인수로 전달\n",
    "def min_max(x): #최대값 - 최소값\n",
    "    return x.max() - x.min()"
   ]
  },
  {
   "cell_type": "code",
   "execution_count": 17,
   "metadata": {},
   "outputs": [
    {
     "name": "stdout",
     "output_type": "stream",
     "text": [
      "          age      fare  survived\n",
      "class                            \n",
      "First   79.08  512.3292         1\n",
      "Second  69.33   73.5000         1\n",
      "Third   73.58   69.5500         1\n"
     ]
    }
   ],
   "source": [
    "# 각 그룹의 최대값과 최소값의 차이를 계산하여 그룹별로 집계\n",
    "agg_minmax = grouped.agg(min_max)#grouped된 덩어리 단위로 min_max에 x 파라미터로 넘어가게된다\n",
    "print(agg_minmax.head())"
   ]
  },
  {
   "cell_type": "code",
   "execution_count": 18,
   "metadata": {},
   "outputs": [
    {
     "name": "stdout",
     "output_type": "stream",
     "text": [
      "         age           sex       fare           survived    \n",
      "         min   max     min   max  min       max      min max\n",
      "class                                                       \n",
      "First   0.92  80.0  female  male  0.0  512.3292        0   1\n",
      "Second  0.67  70.0  female  male  0.0   73.5000        0   1\n",
      "Third   0.42  74.0  female  male  0.0   69.5500        0   1\n"
     ]
    }
   ],
   "source": [
    "# 여러 함수를 각 열에 동일하게 적용하여 집계\n",
    "agg_all = grouped.agg(['min', 'max']) #하나씩 꺼내와도 되지만, min max 한줄로 나타낼수있다\n",
    "print(agg_all.head())"
   ]
  },
  {
   "cell_type": "code",
   "execution_count": 22,
   "metadata": {},
   "outputs": [
    {
     "name": "stdout",
     "output_type": "stream",
     "text": [
      "       fare                  age\n",
      "        min       max       mean\n",
      "class                           \n",
      "First   0.0  512.3292  38.233441\n",
      "Second  0.0   73.5000  29.877630\n",
      "Third   0.0   69.5500  25.140620\n"
     ]
    }
   ],
   "source": [
    "# 각 열마다 다른 함수를 적용하여 집계\n",
    "agg_sep = grouped.agg({'fare':['min', 'max'], 'age':'mean'})\n",
    "#내장함수로만 사용이 가능하며 사용자정의 때는 복합적으로는 안된다\n",
    "print(agg_sep.head())"
   ]
  },
  {
   "cell_type": "code",
   "execution_count": 23,
   "metadata": {},
   "outputs": [],
   "source": [
    "import pandas as pd\n",
    "import seaborn as sns\n",
    "\n",
    "# titanic 데이터셋에서 age, sex등 5개 열을 선택하여 데이터프레임 만들기\n",
    "titanic = sns.load_dataset('titanic')\n",
    "df = titanic.loc[:,['age', 'sex', 'class', 'fare', 'survived']]\n"
   ]
  },
  {
   "cell_type": "code",
   "execution_count": 24,
   "metadata": {},
   "outputs": [
    {
     "name": "stdout",
     "output_type": "stream",
     "text": [
      "class\n",
      "First     38.233441\n",
      "Second    29.877630\n",
      "Third     25.140620\n",
      "Name: age, dtype: float64\n"
     ]
    }
   ],
   "source": [
    "# 그룹별 age 열의 평균 집계 연산\n",
    "age_mean = grouped.age.mean()\n",
    "print(age_mean)"
   ]
  },
  {
   "cell_type": "code",
   "execution_count": 25,
   "metadata": {},
   "outputs": [
    {
     "name": "stdout",
     "output_type": "stream",
     "text": [
      "class\n",
      "First     14.802856\n",
      "Second    14.001077\n",
      "Third     12.495398\n",
      "Name: age, dtype: float64\n"
     ]
    }
   ],
   "source": [
    "# 그룹별 age 열의 표준편차 집계 연산\n",
    "age_std = grouped.age.std()\n",
    "print(age_std)"
   ]
  },
  {
   "cell_type": "code",
   "execution_count": 26,
   "metadata": {},
   "outputs": [
    {
     "name": "stdout",
     "output_type": "stream",
     "text": [
      "* origin: First\n",
      "1   -0.015770\n",
      "3   -0.218434\n",
      "6    1.065103\n",
      "Name: age, dtype: float64\n",
      "* origin: Second\n",
      "9    -1.134029\n",
      "15    1.794317\n",
      "17         NaN\n",
      "Name: age, dtype: float64\n",
      "* origin: Third\n",
      "0   -0.251342\n",
      "2    0.068776\n",
      "4    0.789041\n",
      "Name: age, dtype: float64\n"
     ]
    }
   ],
   "source": [
    "# 그룹 객체의 age 열을 iteration으로 z-score를 계산하여 출력\n",
    "for key, group in grouped.age:\n",
    "    group_zscore = (group - age_mean.loc[key]) / age_std.loc[key]\n",
    "    print('* origin:', key)\n",
    "    print(group_zscore.head(3)) # 각 그룹의 첫 3개의 행을 출력"
   ]
  },
  {
   "cell_type": "code",
   "execution_count": 27,
   "metadata": {},
   "outputs": [],
   "source": [
    "# z-score를 계산하는 사용자 함수 정의\n",
    "def z_score(x):\n",
    "    return (x - x.mean())/ x.std()"
   ]
  },
  {
   "cell_type": "code",
   "execution_count": 29,
   "metadata": {},
   "outputs": [
    {
     "name": "stdout",
     "output_type": "stream",
     "text": [
      "1   -0.015770\n",
      "9   -1.134029\n",
      "0   -0.251342\n",
      "Name: age, dtype: float64\n"
     ]
    }
   ],
   "source": [
    "# transform() 메소드를 이용하여 age 열의 데이터를 z_score로 변환\n",
    "age_zscore = grouped.age.transform(z_score)\n",
    "print(age_zscore.loc[[1,9,0]]) # 1, 2, 3 그룹의 첫 데이터 확인"
   ]
  },
  {
   "cell_type": "code",
   "execution_count": 30,
   "metadata": {},
   "outputs": [
    {
     "name": "stdout",
     "output_type": "stream",
     "text": [
      "891\n"
     ]
    }
   ],
   "source": [
    "print(len(age_zscore)) # transform 메소드 변환 값의 길이"
   ]
  },
  {
   "cell_type": "code",
   "execution_count": 31,
   "metadata": {},
   "outputs": [
    {
     "name": "stdout",
     "output_type": "stream",
     "text": [
      "0   -0.251342\n",
      "1   -0.015770\n",
      "2    0.068776\n",
      "3   -0.218434\n",
      "4    0.789041\n",
      "5         NaN\n",
      "6    1.065103\n",
      "7   -1.851931\n",
      "8    0.148805\n",
      "9   -1.134029\n",
      "Name: age, dtype: float64\n"
     ]
    }
   ],
   "source": [
    "print(age_zscore.loc[0:9]) # transform  메소드 변환 값 출력"
   ]
  },
  {
   "cell_type": "code",
   "execution_count": 33,
   "metadata": {},
   "outputs": [
    {
     "name": "stdout",
     "output_type": "stream",
     "text": [
      "<class 'pandas.core.series.Series'>\n"
     ]
    }
   ],
   "source": [
    "print(type(age_zscore)) # transform 메소드 변환 객체의 자료형"
   ]
  },
  {
   "cell_type": "markdown",
   "metadata": {},
   "source": [
    "___"
   ]
  },
  {
   "cell_type": "code",
   "execution_count": 34,
   "metadata": {},
   "outputs": [],
   "source": [
    "import pandas as pd\n",
    "import seaborn as sns\n",
    "\n",
    "# titanic 데이터셋에서 age, sex등 5개 열을 선택하여 데이터프레임 만들기\n",
    "titanic = sns.load_dataset('titanic')\n",
    "df = titanic.loc[:,['age', 'sex', 'class', 'fare', 'survived']]\n",
    "# class 열을 기준으로 분할\n",
    "grouped = df.groupby(['class'])"
   ]
  },
  {
   "cell_type": "code",
   "execution_count": 35,
   "metadata": {},
   "outputs": [
    {
     "name": "stdout",
     "output_type": "stream",
     "text": [
      "    age     sex  class     fare  survived\n",
      "0  22.0    male  Third   7.2500         0\n",
      "1  38.0  female  First  71.2833         1\n",
      "2  26.0  female  Third   7.9250         1\n",
      "3  35.0  female  First  53.1000         1\n",
      "4  35.0    male  Third   8.0500         0\n",
      "<class 'pandas.core.frame.DataFrame'>\n"
     ]
    }
   ],
   "source": [
    "# 데이터 개수가 200개 이상인 그룹만을 필터링 하여 데이터프레임으로 변환\n",
    "grouped_filter = grouped.filter(lambda x: len(x) >= 200)\n",
    "print(grouped_filter.head())\n",
    "\n",
    "print(type(grouped_filter))"
   ]
  },
  {
   "cell_type": "code",
   "execution_count": 36,
   "metadata": {},
   "outputs": [
    {
     "name": "stdout",
     "output_type": "stream",
     "text": [
      "      age     sex   class    fare  survived\n",
      "884  25.0    male   Third   7.050         0\n",
      "885  39.0  female   Third  29.125         0\n",
      "886  27.0    male  Second  13.000         0\n",
      "888   NaN  female   Third  23.450         0\n",
      "890  32.0    male   Third   7.750         0\n",
      "<class 'pandas.core.frame.DataFrame'>\n"
     ]
    }
   ],
   "source": [
    "# age열의 평균이 30보다 작은 그룹만을 필터링 하여 데이터프레임으로 변환\n",
    "age_filter = grouped.filter(lambda x : x.age.mean() < 30)\n",
    "print(age_filter.tail())\n",
    "\n",
    "print(type(age_filter))"
   ]
  },
  {
   "cell_type": "markdown",
   "metadata": {},
   "source": [
    "---"
   ]
  },
  {
   "cell_type": "code",
   "execution_count": 37,
   "metadata": {},
   "outputs": [],
   "source": [
    "import pandas as pd\n",
    "import seaborn as sns\n",
    "\n",
    "# titanic 데이터셋에서 age, sex등 5개 열을 선택하여 데이터프레임 만들기\n",
    "titanic = sns.load_dataset('titanic')\n",
    "df = titanic.loc[:,['age', 'sex', 'class', 'fare', 'survived']]\n",
    "# class 열을 기준으로 분할\n",
    "grouped = df.groupby(['class'])"
   ]
  },
  {
   "cell_type": "code",
   "execution_count": 39,
   "metadata": {},
   "outputs": [
    {
     "name": "stdout",
     "output_type": "stream",
     "text": [
      "                     age        fare    survived\n",
      "class                                           \n",
      "First  count  186.000000  216.000000  216.000000\n",
      "       mean    38.233441   84.154687    0.629630\n",
      "       std     14.802856   78.380373    0.484026\n",
      "       min      0.920000    0.000000    0.000000\n",
      "       25%     27.000000   30.923950    0.000000\n",
      "       50%     37.000000   60.287500    1.000000\n",
      "       75%     49.000000   93.500000    1.000000\n",
      "       max     80.000000  512.329200    1.000000\n",
      "Second count  173.000000  184.000000  184.000000\n",
      "       mean    29.877630   20.662183    0.472826\n",
      "       std     14.001077   13.417399    0.500623\n",
      "       min      0.670000    0.000000    0.000000\n",
      "       25%     23.000000   13.000000    0.000000\n",
      "       50%     29.000000   14.250000    0.000000\n",
      "       75%     36.000000   26.000000    1.000000\n",
      "       max     70.000000   73.500000    1.000000\n",
      "Third  count  355.000000  491.000000  491.000000\n",
      "       mean    25.140620   13.675550    0.242363\n",
      "       std     12.495398   11.778142    0.428949\n",
      "       min      0.420000    0.000000    0.000000\n",
      "       25%     18.000000    7.750000    0.000000\n",
      "       50%     24.000000    8.050000    0.000000\n",
      "       75%     32.000000   15.500000    0.000000\n",
      "       max     74.000000   69.550000    1.000000\n"
     ]
    }
   ],
   "source": [
    "# 집계 : 각 그룹별 요약 통꼐정보를 집계(기술통계)\n",
    "agg_grouped = grouped.apply(lambda x: x.describe())\n",
    "print(agg_grouped)"
   ]
  },
  {
   "cell_type": "code",
   "execution_count": 40,
   "metadata": {},
   "outputs": [
    {
     "name": "stdout",
     "output_type": "stream",
     "text": [
      "0   -0.251342\n",
      "1   -0.015770\n",
      "2    0.068776\n",
      "3   -0.218434\n",
      "4    0.789041\n",
      "Name: age, dtype: float64\n"
     ]
    }
   ],
   "source": [
    "# z-score를 계산하는 사용자 함수 정의\n",
    "def z_score(x):\n",
    "    return (x - x.mean()) / x.std()\n",
    "\n",
    "age_zscore = grouped.age.apply(z_score) # 기본값 axis=0\n",
    "print(age_zscore.head())"
   ]
  },
  {
   "cell_type": "code",
   "execution_count": 42,
   "metadata": {},
   "outputs": [
    {
     "name": "stdout",
     "output_type": "stream",
     "text": [
      "class\n",
      "First      True\n",
      "Second    False\n",
      "Third     False\n",
      "dtype: bool\n",
      "<class 'pandas.core.series.Series'>\n",
      "     age     sex  class     fare  survived\n",
      "1   38.0  female  First  71.2833         1\n",
      "3   35.0  female  First  53.1000         1\n",
      "6   54.0    male  First  51.8625         0\n",
      "11  58.0  female  First  26.5500         1\n",
      "23  28.0    male  First  35.5000         1\n"
     ]
    }
   ],
   "source": [
    "# 필터링 : age 열의 데이터 평균이 30 보다 작은 그룹만을 필터링하여 출력\n",
    "age_filter = grouped.apply(lambda x: x.age.mean() > 30)\n",
    "print(age_filter)\n",
    "print(type(age_filter))\n",
    "\n",
    "for x in age_filter.index:\n",
    "    if age_filter[x]==True:\n",
    "        age_filter_df = grouped.get_group(x)\n",
    "        print(age_filter_df.head())"
   ]
  },
  {
   "cell_type": "markdown",
   "metadata": {},
   "source": [
    "---"
   ]
  },
  {
   "cell_type": "code",
   "execution_count": 45,
   "metadata": {},
   "outputs": [
    {
     "data": {
      "text/plain": [
       "<pandas.core.groupby.generic.DataFrameGroupBy object at 0x0000018ED1D1CFC8>"
      ]
     },
     "execution_count": 45,
     "metadata": {},
     "output_type": "execute_result"
    }
   ],
   "source": [
    "import pandas as pd\n",
    "import seaborn as sns\n",
    "\n",
    "# titanic 데이터셋에서 age, sex등 5개 열을 선택하여 데이터프레임 만들기\n",
    "titanic = sns.load_dataset('titanic')\n",
    "df = titanic.loc[:,['age', 'sex', 'class', 'fare', 'survived']]\n",
    "# class sex 열을 기준으로 분할\n",
    "grouped = df.groupby(['class', 'sex'])\n",
    "grouped"
   ]
  },
  {
   "cell_type": "code",
   "execution_count": 46,
   "metadata": {},
   "outputs": [
    {
     "name": "stdout",
     "output_type": "stream",
     "text": [
      "                     age        fare  survived\n",
      "class  sex                                    \n",
      "First  female  34.611765  106.125798  0.968085\n",
      "       male    41.281386   67.226127  0.368852\n",
      "Second female  28.722973   21.970121  0.921053\n",
      "       male    30.740707   19.741782  0.157407\n",
      "Third  female  21.750000   16.118810  0.500000\n",
      "       male    26.507589   12.661633  0.135447\n",
      "<class 'pandas.core.frame.DataFrame'>\n"
     ]
    }
   ],
   "source": [
    "# 그룹 객체에 연산 메서드 적용\n",
    "gdf = grouped.mean()\n",
    "print(gdf)\n",
    "print(type(gdf))"
   ]
  },
  {
   "cell_type": "code",
   "execution_count": 47,
   "metadata": {},
   "outputs": [
    {
     "name": "stdout",
     "output_type": "stream",
     "text": [
      "              age        fare  survived\n",
      "sex                                    \n",
      "female  34.611765  106.125798  0.968085\n",
      "male    41.281386   67.226127  0.368852\n"
     ]
    }
   ],
   "source": [
    "#class 값이 First인 행을 선택하여 출력\n",
    "print(gdf.loc['First'])"
   ]
  },
  {
   "cell_type": "code",
   "execution_count": 48,
   "metadata": {},
   "outputs": [
    {
     "name": "stdout",
     "output_type": "stream",
     "text": [
      "age          34.611765\n",
      "fare        106.125798\n",
      "survived      0.968085\n",
      "Name: (First, female), dtype: float64\n"
     ]
    }
   ],
   "source": [
    "# class 값이 First이고, sex값이 female인 행을 선택하여 출력\n",
    "print(gdf.loc[('First', 'female')])"
   ]
  },
  {
   "cell_type": "code",
   "execution_count": 49,
   "metadata": {},
   "outputs": [
    {
     "name": "stdout",
     "output_type": "stream",
     "text": [
      "              age       fare  survived\n",
      "class                                 \n",
      "First   41.281386  67.226127  0.368852\n",
      "Second  30.740707  19.741782  0.157407\n",
      "Third   26.507589  12.661633  0.135447\n"
     ]
    }
   ],
   "source": [
    "# sex 값이 male인 행을 선택하여 출력\n",
    "print(gdf.xs('male', level='sex'))"
   ]
  },
  {
   "cell_type": "code",
   "execution_count": 51,
   "metadata": {},
   "outputs": [
    {
     "name": "stdout",
     "output_type": "stream",
     "text": [
      "              age       fare  survived\n",
      "class                                 \n",
      "First   41.281386  67.226127  0.368852\n",
      "Second  30.740707  19.741782  0.157407\n",
      "Third   26.507589  12.661633  0.135447\n"
     ]
    }
   ],
   "source": [
    "print(gdf.xs('male', level=1, axis=0))\n",
    "#axis =0 , 1 행과 열"
   ]
  },
  {
   "cell_type": "markdown",
   "metadata": {},
   "source": [
    "---"
   ]
  },
  {
   "cell_type": "markdown",
   "metadata": {},
   "source": [
    "# 피벗"
   ]
  },
  {
   "cell_type": "code",
   "execution_count": null,
   "metadata": {},
   "outputs": [],
   "source": [
    "import pandas as pd\n",
    "import seaborn as sns\n",
    "\n",
    "# IPython 디스플레이 설정 변경\n",
    "pd.set_option('display.max_columns', 10) #출력할 최대 열의 개수\n",
    "pd.set_option('display.max_colwidth', 20) # 출력할 열의 너비\n",
    "\n",
    "# titanic 데이터셋에서 age, sex등 5개 열을 선택하여 데이터프레임 만들기\n",
    "titanic = sns.load_dataset('titanic')\n",
    "df = titanic.loc[:,['age', 'sex', 'class', 'fare', 'survived']]\n",
    "print(df.head())"
   ]
  },
  {
   "cell_type": "code",
   "execution_count": 53,
   "metadata": {},
   "outputs": [
    {
     "name": "stdout",
     "output_type": "stream",
     "text": [
      "sex        female       male\n",
      "class                       \n",
      "First   34.611765  41.281386\n",
      "Second  28.722973  30.740707\n",
      "Third   21.750000  26.507589\n"
     ]
    }
   ],
   "source": [
    "# 행,열, 값,집계에 사용할 열을 1개씩 지정 - 평균 집계\n",
    "pdf1 = pd.pivot_table(df, # 피벗할 데이터프레임\n",
    "                     index='class', # 행 위치에 들어갈 열\n",
    "                     columns='sex', # 열 위치에 들어갈 열\n",
    "                     values='age', # 데이터로 사용할 열\n",
    "                     aggfunc='mean') # 데이터 집계 함수(groupby처럼 group연산을 해주는 메소드)\n",
    "print(pdf1.head())"
   ]
  },
  {
   "cell_type": "code",
   "execution_count": 54,
   "metadata": {},
   "outputs": [
    {
     "name": "stdout",
     "output_type": "stream",
     "text": [
      "            mean              sum     \n",
      "sex       female      male female male\n",
      "class                                 \n",
      "First   0.968085  0.368852     91   45\n",
      "Second  0.921053  0.157407     70   17\n",
      "Third   0.500000  0.135447     72   47\n"
     ]
    }
   ],
   "source": [
    "# 값에 적용하는 집계 함수를 2개 이상 지정 가능 - 생존율, 생존자 수 집계\n",
    "pdf2 = pd.pivot_table(df, # 피벗할 데이터프레임\n",
    "                     index='class', # 행 위치에 들어갈 열\n",
    "                     columns='sex', # 열 위치에 들어갈 열\n",
    "                     values='survived', # 데이터로 사용할 열\n",
    "                     aggfunc=['mean','sum']) # 데이터 집계 함수(groupby처럼 group연산을 해주는 메소드)\n",
    "print(pdf2.head())"
   ]
  },
  {
   "cell_type": "code",
   "execution_count": 55,
   "metadata": {},
   "outputs": [],
   "source": [
    "# 행, 열 ,값에 사용할 열을 2개 이상 지정 가능 -평균 나이, 최대 요금 집계\n",
    "pdf3 = pd.pivot_table(df, # 피벗할 데이터프레임\n",
    "                     index=['class','sex'], # 행 위치에 들어갈 열\n",
    "                     columns='survived', # 열 위치에 들어갈 열\n",
    "                     values=['age','fare'], # 데이터로 사용할 열\n",
    "                     aggfunc=['mean','max']) # 데이터 집계 함수(groupby처럼 group연산을 해주는 메소드)"
   ]
  },
  {
   "cell_type": "code",
   "execution_count": 56,
   "metadata": {},
   "outputs": [
    {
     "name": "stdout",
     "output_type": "stream",
     "text": [
      "                    mean                                      max        \\\n",
      "                     age                   fare               age         \n",
      "survived               0          1           0           1     0     1   \n",
      "class  sex                                                                \n",
      "First  female  25.666667  34.939024  110.604167  105.978159  50.0  63.0   \n",
      "       male    44.581967  36.248000   62.894910   74.637320  71.0  80.0   \n",
      "Second female  36.000000  28.080882   18.250000   22.288989  57.0  55.0   \n",
      "       male    33.369048  16.022000   19.488965   21.095100  70.0  62.0   \n",
      "Third  female  23.818182  19.329787   19.773093   12.464526  48.0  63.0   \n",
      "\n",
      "                                 \n",
      "                 fare            \n",
      "survived            0         1  \n",
      "class  sex                       \n",
      "First  female  151.55  512.3292  \n",
      "       male    263.00  512.3292  \n",
      "Second female   26.00   65.0000  \n",
      "       male     73.50   39.0000  \n",
      "Third  female   69.55   31.3875  \n",
      "\n",
      "\n"
     ]
    }
   ],
   "source": [
    "# IPython Console 디스플레이 옵션 설정\n",
    "pd.set_option('display.max_columns', 10) #출력할 열의 개수 한도\n",
    "print(pdf3.head())\n",
    "print('\\n')"
   ]
  },
  {
   "cell_type": "code",
   "execution_count": 57,
   "metadata": {},
   "outputs": [
    {
     "name": "stdout",
     "output_type": "stream",
     "text": [
      "               mean                                      max                \\\n",
      "                age                   fare               age          fare   \n",
      "survived          0          1           0           1     0     1       0   \n",
      "sex                                                                          \n",
      "female    25.666667  34.939024  110.604167  105.978159  50.0  63.0  151.55   \n",
      "male      44.581967  36.248000   62.894910   74.637320  71.0  80.0  263.00   \n",
      "\n",
      "                    \n",
      "                    \n",
      "survived         1  \n",
      "sex                 \n",
      "female    512.3292  \n",
      "male      512.3292  \n",
      "\n",
      "\n"
     ]
    }
   ],
   "source": [
    "# xs 인덱서 사용 - 행 선택(default: axis=0)\n",
    "print(pdf3.xs('First')) # 행 인덱스가 First인 행을 선택\n",
    "print('\\n')"
   ]
  },
  {
   "cell_type": "code",
   "execution_count": 60,
   "metadata": {},
   "outputs": [
    {
     "name": "stdout",
     "output_type": "stream",
     "text": [
      "            survived\n",
      "mean  age   0            25.666667\n",
      "            1            34.939024\n",
      "      fare  0           110.604167\n",
      "            1           105.978159\n",
      "max   age   0            50.000000\n",
      "            1            63.000000\n",
      "      fare  0           151.550000\n",
      "            1           512.329200\n",
      "Name: (First, female), dtype: float64\n",
      "\n",
      "\n"
     ]
    }
   ],
   "source": [
    "print(pdf3.xs(('First', 'female'))) # 행 인덱스가 First, female인 행을 선택\n",
    "print('\\n')"
   ]
  },
  {
   "cell_type": "code",
   "execution_count": 62,
   "metadata": {},
   "outputs": [
    {
     "name": "stdout",
     "output_type": "stream",
     "text": [
      "               mean                                    max                \\\n",
      "                age                  fare              age          fare   \n",
      "survived          0          1          0          1     0     1       0   \n",
      "class                                                                      \n",
      "First     44.581967  36.248000  62.894910  74.637320  71.0  80.0  263.00   \n",
      "Second    33.369048  16.022000  19.488965  21.095100  70.0  62.0   73.50   \n",
      "Third     27.255814  22.274211  12.204469  15.579696  74.0  45.0   69.55   \n",
      "\n",
      "                    \n",
      "                    \n",
      "survived         1  \n",
      "class               \n",
      "First     512.3292  \n",
      "Second     39.0000  \n",
      "Third      56.4958  \n",
      "\n",
      "\n"
     ]
    }
   ],
   "source": [
    "print(pdf3.xs('male', level='sex')) # 행 인덱스가 sex 레벨이 male인 행을 선택\n",
    "print('\\n')"
   ]
  },
  {
   "cell_type": "code",
   "execution_count": 63,
   "metadata": {},
   "outputs": [
    {
     "name": "stdout",
     "output_type": "stream",
     "text": [
      "                  mean                               max                  \n",
      "                   age               fare            age        fare      \n",
      "survived             0       1          0        1     0     1     0     1\n",
      "class  sex                                                                \n",
      "Second male  33.369048  16.022  19.488965  21.0951  70.0  62.0  73.5  39.0\n",
      "\n",
      "\n",
      "                     age                   fare            \n",
      "survived               0          1           0           1\n",
      "class  sex                                                 \n",
      "First  female  25.666667  34.939024  110.604167  105.978159\n",
      "       male    44.581967  36.248000   62.894910   74.637320\n",
      "Second female  36.000000  28.080882   18.250000   22.288989\n",
      "       male    33.369048  16.022000   19.488965   21.095100\n",
      "Third  female  23.818182  19.329787   19.773093   12.464526\n",
      "       male    27.255814  22.274211   12.204469   15.579696\n",
      "\n",
      "\n"
     ]
    }
   ],
   "source": [
    "print(pdf3.xs(('Second','male'), level=[0, 'sex'])) # Second, male인 행을 선택\n",
    "print('\\n')\n",
    "\n",
    "# xs 인덱서 사용 - 열 선택(axis=1 설정)\n",
    "print(pdf3.xs('mean', axis=1)) # 열 인덱스가 mean인 데이터를 선택\n",
    "print('\\n')"
   ]
  },
  {
   "cell_type": "code",
   "execution_count": 64,
   "metadata": {},
   "outputs": [
    {
     "name": "stdout",
     "output_type": "stream",
     "text": [
      "survived               0          1\n",
      "class  sex                         \n",
      "First  female  25.666667  34.939024\n",
      "       male    44.581967  36.248000\n",
      "Second female  36.000000  28.080882\n",
      "       male    33.369048  16.022000\n",
      "Third  female  23.818182  19.329787\n",
      "       male    27.255814  22.274211\n",
      "\n",
      "\n"
     ]
    }
   ],
   "source": [
    "print(pdf3.xs(('mean', 'age'), axis=1)) # 열 인덱스가 ('mean', 'age')인 데이터 선택\n",
    "print('\\n')"
   ]
  },
  {
   "cell_type": "code",
   "execution_count": 65,
   "metadata": {},
   "outputs": [
    {
     "name": "stdout",
     "output_type": "stream",
     "text": [
      "                    mean               max          \n",
      "                     age        fare   age      fare\n",
      "class  sex                                          \n",
      "First  female  34.939024  105.978159  63.0  512.3292\n",
      "       male    36.248000   74.637320  80.0  512.3292\n",
      "Second female  28.080882   22.288989  55.0   65.0000\n",
      "       male    16.022000   21.095100  62.0   39.0000\n",
      "Third  female  19.329787   12.464526  63.0   31.3875\n",
      "       male    22.274211   15.579696  45.0   56.4958\n",
      "\n",
      "\n"
     ]
    }
   ],
   "source": [
    "print(pdf3.xs(1, level='survived', axis=1)) # 열 인덱스가 ('mean', 'age')인 데이터 선택\n",
    "print('\\n')"
   ]
  },
  {
   "cell_type": "code",
   "execution_count": 66,
   "metadata": {},
   "outputs": [
    {
     "name": "stdout",
     "output_type": "stream",
     "text": [
      "                  max\n",
      "                 fare\n",
      "survived            0\n",
      "class  sex           \n",
      "First  female  151.55\n",
      "       male    263.00\n",
      "Second female   26.00\n",
      "       male     73.50\n",
      "Third  female   69.55\n",
      "       male     69.55\n"
     ]
    }
   ],
   "source": [
    "print(pdf3.xs(('max', 'fare', 0), level=[0,1,2], axis=1)) # max,fare, survived=0인 데이터 선택"
   ]
  },
  {
   "cell_type": "markdown",
   "metadata": {},
   "source": [
    "---"
   ]
  },
  {
   "cell_type": "code",
   "execution_count": 100,
   "metadata": {},
   "outputs": [],
   "source": [
    "import pandas as pd\n",
    "import numpy as np\n",
    "\n",
    "# read_csv() 함수로 df 생성\n",
    "df = pd.read_csv('./part6/apart.csv', encoding='euc-kr')\n",
    "\n",
    "\n",
    "\n",
    "# grouped = df.groupby(['지역명','연도'])\n",
    "# grouped"
   ]
  },
  {
   "cell_type": "code",
   "execution_count": 105,
   "metadata": {},
   "outputs": [
    {
     "data": {
      "text/html": [
       "<div>\n",
       "<style scoped>\n",
       "    .dataframe tbody tr th:only-of-type {\n",
       "        vertical-align: middle;\n",
       "    }\n",
       "\n",
       "    .dataframe tbody tr th {\n",
       "        vertical-align: top;\n",
       "    }\n",
       "\n",
       "    .dataframe thead th {\n",
       "        text-align: right;\n",
       "    }\n",
       "</style>\n",
       "<table border=\"1\" class=\"dataframe\">\n",
       "  <thead>\n",
       "    <tr style=\"text-align: right;\">\n",
       "      <th></th>\n",
       "      <th>지역명</th>\n",
       "      <th>규모구분</th>\n",
       "      <th>연도</th>\n",
       "      <th>월</th>\n",
       "      <th>분양가격(㎡)</th>\n",
       "    </tr>\n",
       "  </thead>\n",
       "  <tbody>\n",
       "    <tr>\n",
       "      <td>0</td>\n",
       "      <td>서울</td>\n",
       "      <td>전체</td>\n",
       "      <td>2015</td>\n",
       "      <td>10</td>\n",
       "      <td>5841</td>\n",
       "    </tr>\n",
       "    <tr>\n",
       "      <td>1</td>\n",
       "      <td>서울</td>\n",
       "      <td>전용면적 60㎡이하</td>\n",
       "      <td>2015</td>\n",
       "      <td>10</td>\n",
       "      <td>5652</td>\n",
       "    </tr>\n",
       "    <tr>\n",
       "      <td>2</td>\n",
       "      <td>서울</td>\n",
       "      <td>전용면적 60㎡초과 85㎡이하</td>\n",
       "      <td>2015</td>\n",
       "      <td>10</td>\n",
       "      <td>5882</td>\n",
       "    </tr>\n",
       "    <tr>\n",
       "      <td>3</td>\n",
       "      <td>서울</td>\n",
       "      <td>전용면적 85㎡초과 102㎡이하</td>\n",
       "      <td>2015</td>\n",
       "      <td>10</td>\n",
       "      <td>5721</td>\n",
       "    </tr>\n",
       "    <tr>\n",
       "      <td>4</td>\n",
       "      <td>서울</td>\n",
       "      <td>전용면적 102㎡초과</td>\n",
       "      <td>2015</td>\n",
       "      <td>10</td>\n",
       "      <td>5879</td>\n",
       "    </tr>\n",
       "    <tr>\n",
       "      <td>...</td>\n",
       "      <td>...</td>\n",
       "      <td>...</td>\n",
       "      <td>...</td>\n",
       "      <td>...</td>\n",
       "      <td>...</td>\n",
       "    </tr>\n",
       "    <tr>\n",
       "      <td>4245</td>\n",
       "      <td>제주</td>\n",
       "      <td>전체</td>\n",
       "      <td>2019</td>\n",
       "      <td>11</td>\n",
       "      <td>3882</td>\n",
       "    </tr>\n",
       "    <tr>\n",
       "      <td>4246</td>\n",
       "      <td>제주</td>\n",
       "      <td>전용면적 60㎡이하</td>\n",
       "      <td>2019</td>\n",
       "      <td>11</td>\n",
       "      <td>NaN</td>\n",
       "    </tr>\n",
       "    <tr>\n",
       "      <td>4247</td>\n",
       "      <td>제주</td>\n",
       "      <td>전용면적 60㎡초과 85㎡이하</td>\n",
       "      <td>2019</td>\n",
       "      <td>11</td>\n",
       "      <td>3898</td>\n",
       "    </tr>\n",
       "    <tr>\n",
       "      <td>4248</td>\n",
       "      <td>제주</td>\n",
       "      <td>전용면적 85㎡초과 102㎡이하</td>\n",
       "      <td>2019</td>\n",
       "      <td>11</td>\n",
       "      <td>NaN</td>\n",
       "    </tr>\n",
       "    <tr>\n",
       "      <td>4249</td>\n",
       "      <td>제주</td>\n",
       "      <td>전용면적 102㎡초과</td>\n",
       "      <td>2019</td>\n",
       "      <td>11</td>\n",
       "      <td>3601</td>\n",
       "    </tr>\n",
       "  </tbody>\n",
       "</table>\n",
       "<p>4250 rows × 5 columns</p>\n",
       "</div>"
      ],
      "text/plain": [
       "     지역명               규모구분    연도   월 분양가격(㎡)\n",
       "0     서울                 전체  2015  10    5841\n",
       "1     서울         전용면적 60㎡이하  2015  10    5652\n",
       "2     서울   전용면적 60㎡초과 85㎡이하  2015  10    5882\n",
       "3     서울  전용면적 85㎡초과 102㎡이하  2015  10    5721\n",
       "4     서울        전용면적 102㎡초과  2015  10    5879\n",
       "...   ..                ...   ...  ..     ...\n",
       "4245  제주                 전체  2019  11    3882\n",
       "4246  제주         전용면적 60㎡이하  2019  11     NaN\n",
       "4247  제주   전용면적 60㎡초과 85㎡이하  2019  11    3898\n",
       "4248  제주  전용면적 85㎡초과 102㎡이하  2019  11     NaN\n",
       "4249  제주        전용면적 102㎡초과  2019  11    3601\n",
       "\n",
       "[4250 rows x 5 columns]"
      ]
     },
     "execution_count": 105,
     "metadata": {},
     "output_type": "execute_result"
    }
   ],
   "source": [
    "df"
   ]
  },
  {
   "cell_type": "code",
   "execution_count": 110,
   "metadata": {},
   "outputs": [],
   "source": [
    "# if df['분양가격(㎡)'].isnull().any():\n",
    "df['분양가격(㎡)'] = df['분양가격(㎡)'].fillna(0)"
   ]
  },
  {
   "cell_type": "code",
   "execution_count": 131,
   "metadata": {},
   "outputs": [
    {
     "ename": "KeyError",
     "evalue": "'분양가격'",
     "output_type": "error",
     "traceback": [
      "\u001b[1;31m---------------------------------------------------------------------------\u001b[0m",
      "\u001b[1;31mKeyError\u001b[0m                                  Traceback (most recent call last)",
      "\u001b[1;32m~\\Anaconda3\\lib\\site-packages\\pandas\\core\\indexes\\base.py\u001b[0m in \u001b[0;36mget_loc\u001b[1;34m(self, key, method, tolerance)\u001b[0m\n\u001b[0;32m   2896\u001b[0m             \u001b[1;32mtry\u001b[0m\u001b[1;33m:\u001b[0m\u001b[1;33m\u001b[0m\u001b[1;33m\u001b[0m\u001b[0m\n\u001b[1;32m-> 2897\u001b[1;33m                 \u001b[1;32mreturn\u001b[0m \u001b[0mself\u001b[0m\u001b[1;33m.\u001b[0m\u001b[0m_engine\u001b[0m\u001b[1;33m.\u001b[0m\u001b[0mget_loc\u001b[0m\u001b[1;33m(\u001b[0m\u001b[0mkey\u001b[0m\u001b[1;33m)\u001b[0m\u001b[1;33m\u001b[0m\u001b[1;33m\u001b[0m\u001b[0m\n\u001b[0m\u001b[0;32m   2898\u001b[0m             \u001b[1;32mexcept\u001b[0m \u001b[0mKeyError\u001b[0m\u001b[1;33m:\u001b[0m\u001b[1;33m\u001b[0m\u001b[1;33m\u001b[0m\u001b[0m\n",
      "\u001b[1;32mpandas\\_libs\\index.pyx\u001b[0m in \u001b[0;36mpandas._libs.index.IndexEngine.get_loc\u001b[1;34m()\u001b[0m\n",
      "\u001b[1;32mpandas\\_libs\\index.pyx\u001b[0m in \u001b[0;36mpandas._libs.index.IndexEngine.get_loc\u001b[1;34m()\u001b[0m\n",
      "\u001b[1;32mpandas\\_libs\\hashtable_class_helper.pxi\u001b[0m in \u001b[0;36mpandas._libs.hashtable.PyObjectHashTable.get_item\u001b[1;34m()\u001b[0m\n",
      "\u001b[1;32mpandas\\_libs\\hashtable_class_helper.pxi\u001b[0m in \u001b[0;36mpandas._libs.hashtable.PyObjectHashTable.get_item\u001b[1;34m()\u001b[0m\n",
      "\u001b[1;31mKeyError\u001b[0m: '분양가격'",
      "\nDuring handling of the above exception, another exception occurred:\n",
      "\u001b[1;31mKeyError\u001b[0m                                  Traceback (most recent call last)",
      "\u001b[1;32m<ipython-input-131-cfe4dd61c2c9>\u001b[0m in \u001b[0;36m<module>\u001b[1;34m\u001b[0m\n\u001b[1;32m----> 1\u001b[1;33m \u001b[0mdf\u001b[0m\u001b[1;33m[\u001b[0m\u001b[1;34m'분양가격'\u001b[0m\u001b[1;33m]\u001b[0m\u001b[1;33m.\u001b[0m\u001b[0mapply\u001b[0m\u001b[1;33m(\u001b[0m\u001b[1;32mlambda\u001b[0m \u001b[0mx\u001b[0m\u001b[1;33m:\u001b[0m \u001b[0mx\u001b[0m\u001b[1;33m*\u001b[0m\u001b[1;36m1.0\u001b[0m\u001b[1;33m)\u001b[0m\u001b[1;33m\u001b[0m\u001b[1;33m\u001b[0m\u001b[0m\n\u001b[0m\u001b[0;32m      2\u001b[0m \u001b[1;31m# df['평당분양가격'] = df['분양가격(㎡)'] * 3.3\u001b[0m\u001b[1;33m\u001b[0m\u001b[1;33m\u001b[0m\u001b[1;33m\u001b[0m\u001b[0m\n\u001b[0;32m      3\u001b[0m \u001b[1;31m# df['평당분양가격']\u001b[0m\u001b[1;33m\u001b[0m\u001b[1;33m\u001b[0m\u001b[1;33m\u001b[0m\u001b[0m\n",
      "\u001b[1;32m~\\Anaconda3\\lib\\site-packages\\pandas\\core\\frame.py\u001b[0m in \u001b[0;36m__getitem__\u001b[1;34m(self, key)\u001b[0m\n\u001b[0;32m   2978\u001b[0m             \u001b[1;32mif\u001b[0m \u001b[0mself\u001b[0m\u001b[1;33m.\u001b[0m\u001b[0mcolumns\u001b[0m\u001b[1;33m.\u001b[0m\u001b[0mnlevels\u001b[0m \u001b[1;33m>\u001b[0m \u001b[1;36m1\u001b[0m\u001b[1;33m:\u001b[0m\u001b[1;33m\u001b[0m\u001b[1;33m\u001b[0m\u001b[0m\n\u001b[0;32m   2979\u001b[0m                 \u001b[1;32mreturn\u001b[0m \u001b[0mself\u001b[0m\u001b[1;33m.\u001b[0m\u001b[0m_getitem_multilevel\u001b[0m\u001b[1;33m(\u001b[0m\u001b[0mkey\u001b[0m\u001b[1;33m)\u001b[0m\u001b[1;33m\u001b[0m\u001b[1;33m\u001b[0m\u001b[0m\n\u001b[1;32m-> 2980\u001b[1;33m             \u001b[0mindexer\u001b[0m \u001b[1;33m=\u001b[0m \u001b[0mself\u001b[0m\u001b[1;33m.\u001b[0m\u001b[0mcolumns\u001b[0m\u001b[1;33m.\u001b[0m\u001b[0mget_loc\u001b[0m\u001b[1;33m(\u001b[0m\u001b[0mkey\u001b[0m\u001b[1;33m)\u001b[0m\u001b[1;33m\u001b[0m\u001b[1;33m\u001b[0m\u001b[0m\n\u001b[0m\u001b[0;32m   2981\u001b[0m             \u001b[1;32mif\u001b[0m \u001b[0mis_integer\u001b[0m\u001b[1;33m(\u001b[0m\u001b[0mindexer\u001b[0m\u001b[1;33m)\u001b[0m\u001b[1;33m:\u001b[0m\u001b[1;33m\u001b[0m\u001b[1;33m\u001b[0m\u001b[0m\n\u001b[0;32m   2982\u001b[0m                 \u001b[0mindexer\u001b[0m \u001b[1;33m=\u001b[0m \u001b[1;33m[\u001b[0m\u001b[0mindexer\u001b[0m\u001b[1;33m]\u001b[0m\u001b[1;33m\u001b[0m\u001b[1;33m\u001b[0m\u001b[0m\n",
      "\u001b[1;32m~\\Anaconda3\\lib\\site-packages\\pandas\\core\\indexes\\base.py\u001b[0m in \u001b[0;36mget_loc\u001b[1;34m(self, key, method, tolerance)\u001b[0m\n\u001b[0;32m   2897\u001b[0m                 \u001b[1;32mreturn\u001b[0m \u001b[0mself\u001b[0m\u001b[1;33m.\u001b[0m\u001b[0m_engine\u001b[0m\u001b[1;33m.\u001b[0m\u001b[0mget_loc\u001b[0m\u001b[1;33m(\u001b[0m\u001b[0mkey\u001b[0m\u001b[1;33m)\u001b[0m\u001b[1;33m\u001b[0m\u001b[1;33m\u001b[0m\u001b[0m\n\u001b[0;32m   2898\u001b[0m             \u001b[1;32mexcept\u001b[0m \u001b[0mKeyError\u001b[0m\u001b[1;33m:\u001b[0m\u001b[1;33m\u001b[0m\u001b[1;33m\u001b[0m\u001b[0m\n\u001b[1;32m-> 2899\u001b[1;33m                 \u001b[1;32mreturn\u001b[0m \u001b[0mself\u001b[0m\u001b[1;33m.\u001b[0m\u001b[0m_engine\u001b[0m\u001b[1;33m.\u001b[0m\u001b[0mget_loc\u001b[0m\u001b[1;33m(\u001b[0m\u001b[0mself\u001b[0m\u001b[1;33m.\u001b[0m\u001b[0m_maybe_cast_indexer\u001b[0m\u001b[1;33m(\u001b[0m\u001b[0mkey\u001b[0m\u001b[1;33m)\u001b[0m\u001b[1;33m)\u001b[0m\u001b[1;33m\u001b[0m\u001b[1;33m\u001b[0m\u001b[0m\n\u001b[0m\u001b[0;32m   2900\u001b[0m         \u001b[0mindexer\u001b[0m \u001b[1;33m=\u001b[0m \u001b[0mself\u001b[0m\u001b[1;33m.\u001b[0m\u001b[0mget_indexer\u001b[0m\u001b[1;33m(\u001b[0m\u001b[1;33m[\u001b[0m\u001b[0mkey\u001b[0m\u001b[1;33m]\u001b[0m\u001b[1;33m,\u001b[0m \u001b[0mmethod\u001b[0m\u001b[1;33m=\u001b[0m\u001b[0mmethod\u001b[0m\u001b[1;33m,\u001b[0m \u001b[0mtolerance\u001b[0m\u001b[1;33m=\u001b[0m\u001b[0mtolerance\u001b[0m\u001b[1;33m)\u001b[0m\u001b[1;33m\u001b[0m\u001b[1;33m\u001b[0m\u001b[0m\n\u001b[0;32m   2901\u001b[0m         \u001b[1;32mif\u001b[0m \u001b[0mindexer\u001b[0m\u001b[1;33m.\u001b[0m\u001b[0mndim\u001b[0m \u001b[1;33m>\u001b[0m \u001b[1;36m1\u001b[0m \u001b[1;32mor\u001b[0m \u001b[0mindexer\u001b[0m\u001b[1;33m.\u001b[0m\u001b[0msize\u001b[0m \u001b[1;33m>\u001b[0m \u001b[1;36m1\u001b[0m\u001b[1;33m:\u001b[0m\u001b[1;33m\u001b[0m\u001b[1;33m\u001b[0m\u001b[0m\n",
      "\u001b[1;32mpandas\\_libs\\index.pyx\u001b[0m in \u001b[0;36mpandas._libs.index.IndexEngine.get_loc\u001b[1;34m()\u001b[0m\n",
      "\u001b[1;32mpandas\\_libs\\index.pyx\u001b[0m in \u001b[0;36mpandas._libs.index.IndexEngine.get_loc\u001b[1;34m()\u001b[0m\n",
      "\u001b[1;32mpandas\\_libs\\hashtable_class_helper.pxi\u001b[0m in \u001b[0;36mpandas._libs.hashtable.PyObjectHashTable.get_item\u001b[1;34m()\u001b[0m\n",
      "\u001b[1;32mpandas\\_libs\\hashtable_class_helper.pxi\u001b[0m in \u001b[0;36mpandas._libs.hashtable.PyObjectHashTable.get_item\u001b[1;34m()\u001b[0m\n",
      "\u001b[1;31mKeyError\u001b[0m: '분양가격'"
     ]
    }
   ],
   "source": [
    "df['분양가격'].apply(lambda x: x*1.0)\n",
    "# df['평당분양가격'] = df['분양가격(㎡)'] * 3.3\n",
    "# df['평당분양가격']"
   ]
  },
  {
   "cell_type": "code",
   "execution_count": 77,
   "metadata": {},
   "outputs": [
    {
     "name": "stdout",
     "output_type": "stream",
     "text": [
      "* key: ('강원', 2015)\n",
      "* number 15\n",
      "   지역명               규모구분    연도   월 분양가격(㎡)\n",
      "45  강원                 전체  2015  10    2167\n",
      "46  강원         전용면적 60㎡이하  2015  10    2286\n",
      "47  강원   전용면적 60㎡초과 85㎡이하  2015  10    2212\n",
      "48  강원  전용면적 85㎡초과 102㎡이하  2015  10    2061\n",
      "49  강원        전용면적 102㎡초과  2015  10    2171\n",
      "\n",
      "\n",
      "* key: ('강원', 2016)\n",
      "* number 60\n",
      "    지역명               규모구분    연도  월 분양가격(㎡)\n",
      "300  강원                 전체  2016  1    2173\n",
      "301  강원         전용면적 60㎡이하  2016  1    2290\n",
      "302  강원   전용면적 60㎡초과 85㎡이하  2016  1    2199\n",
      "303  강원  전용면적 85㎡초과 102㎡이하  2016  1    2061\n",
      "304  강원        전용면적 102㎡초과  2016  1    2171\n",
      "\n",
      "\n",
      "* key: ('강원', 2017)\n",
      "* number 60\n",
      "     지역명               규모구분    연도  월 분양가격(㎡)\n",
      "1320  강원                 전체  2017  1    2085\n",
      "1321  강원         전용면적 60㎡이하  2017  1    2084\n",
      "1322  강원   전용면적 60㎡초과 85㎡이하  2017  1    2083\n",
      "1323  강원  전용면적 85㎡초과 102㎡이하  2017  1    2213\n",
      "1324  강원        전용면적 102㎡초과  2017  1    2246\n",
      "\n",
      "\n",
      "* key: ('강원', 2018)\n",
      "* number 60\n",
      "     지역명               규모구분    연도  월 분양가격(㎡)\n",
      "2340  강원                 전체  2018  1    2324\n",
      "2341  강원         전용면적 60㎡이하  2018  1    2216\n",
      "2342  강원   전용면적 60㎡초과 85㎡이하  2018  1    2322\n",
      "2343  강원  전용면적 85㎡초과 102㎡이하  2018  1    2591\n",
      "2344  강원        전용면적 102㎡초과  2018  1    2704\n",
      "\n",
      "\n",
      "* key: ('강원', 2019)\n",
      "* number 55\n",
      "     지역명               규모구분    연도  월 분양가격(㎡)\n",
      "3360  강원                 전체  2019  1    2359\n",
      "3361  강원         전용면적 60㎡이하  2019  1    2525\n",
      "3362  강원   전용면적 60㎡초과 85㎡이하  2019  1    2347\n",
      "3363  강원  전용면적 85㎡초과 102㎡이하  2019  1    3068\n",
      "3364  강원        전용면적 102㎡초과  2019  1    2319\n",
      "\n",
      "\n",
      "* key: ('경기', 2015)\n",
      "* number 15\n",
      "   지역명               규모구분    연도   월 분양가격(㎡)\n",
      "10  경기                 전체  2015  10    3138\n",
      "11  경기         전용면적 60㎡이하  2015  10    3126\n",
      "12  경기   전용면적 60㎡초과 85㎡이하  2015  10    3239\n",
      "13  경기  전용면적 85㎡초과 102㎡이하  2015  10    3496\n",
      "14  경기        전용면적 102㎡초과  2015  10    3680\n",
      "\n",
      "\n",
      "* key: ('경기', 2016)\n",
      "* number 60\n",
      "    지역명               규모구분    연도  월 분양가격(㎡)\n",
      "265  경기                 전체  2016  1    3198\n",
      "266  경기         전용면적 60㎡이하  2016  1    3293\n",
      "267  경기   전용면적 60㎡초과 85㎡이하  2016  1    3313\n",
      "268  경기  전용면적 85㎡초과 102㎡이하  2016  1    3450\n",
      "269  경기        전용면적 102㎡초과  2016  1    3850\n",
      "\n",
      "\n",
      "* key: ('경기', 2017)\n",
      "* number 60\n",
      "     지역명               규모구분    연도  월 분양가격(㎡)\n",
      "1285  경기                 전체  2017  1    3554\n",
      "1286  경기         전용면적 60㎡이하  2017  1    3609\n",
      "1287  경기   전용면적 60㎡초과 85㎡이하  2017  1    3508\n",
      "1288  경기  전용면적 85㎡초과 102㎡이하  2017  1    3360\n",
      "1289  경기        전용면적 102㎡초과  2017  1    4229\n",
      "\n",
      "\n",
      "* key: ('경기', 2018)\n",
      "* number 60\n",
      "     지역명               규모구분    연도  월 분양가격(㎡)\n",
      "2305  경기                 전체  2018  1    3846\n",
      "2306  경기         전용면적 60㎡이하  2018  1    4119\n",
      "2307  경기   전용면적 60㎡초과 85㎡이하  2018  1    3793\n",
      "2308  경기  전용면적 85㎡초과 102㎡이하  2018  1    4350\n",
      "2309  경기        전용면적 102㎡초과  2018  1    4632\n",
      "\n",
      "\n",
      "* key: ('경기', 2019)\n",
      "* number 55\n",
      "     지역명               규모구분    연도  월 분양가격(㎡)\n",
      "3325  경기                 전체  2019  1    4258\n",
      "3326  경기         전용면적 60㎡이하  2019  1    4440\n",
      "3327  경기   전용면적 60㎡초과 85㎡이하  2019  1    4216\n",
      "3328  경기  전용면적 85㎡초과 102㎡이하  2019  1    4905\n",
      "3329  경기        전용면적 102㎡초과  2019  1    4931\n",
      "\n",
      "\n",
      "* key: ('경남', 2015)\n",
      "* number 15\n",
      "   지역명               규모구분    연도   월 분양가격(㎡)\n",
      "75  경남                 전체  2015  10    2291\n",
      "76  경남         전용면적 60㎡이하  2015  10    2239\n",
      "77  경남   전용면적 60㎡초과 85㎡이하  2015  10    2305\n",
      "78  경남  전용면적 85㎡초과 102㎡이하  2015  10    2890\n",
      "79  경남        전용면적 102㎡초과  2015  10    3014\n",
      "\n",
      "\n",
      "* key: ('경남', 2016)\n",
      "* number 60\n",
      "    지역명               규모구분    연도  월 분양가격(㎡)\n",
      "330  경남                 전체  2016  1    2327\n",
      "331  경남         전용면적 60㎡이하  2016  1    2270\n",
      "332  경남   전용면적 60㎡초과 85㎡이하  2016  1    2348\n",
      "333  경남  전용면적 85㎡초과 102㎡이하  2016  1    2925\n",
      "334  경남        전용면적 102㎡초과  2016  1    2828\n",
      "\n",
      "\n",
      "* key: ('경남', 2017)\n",
      "* number 60\n",
      "     지역명               규모구분    연도  월 분양가격(㎡)\n",
      "1350  경남                 전체  2017  1    2390\n",
      "1351  경남         전용면적 60㎡이하  2017  1    2478\n",
      "1352  경남   전용면적 60㎡초과 85㎡이하  2017  1    2382\n",
      "1353  경남  전용면적 85㎡초과 102㎡이하  2017  1    2872\n",
      "1354  경남        전용면적 102㎡초과  2017  1    2623\n",
      "\n",
      "\n",
      "* key: ('경남', 2018)\n",
      "* number 60\n",
      "     지역명               규모구분    연도  월 분양가격(㎡)\n",
      "2370  경남                 전체  2018  1    2696\n",
      "2371  경남         전용면적 60㎡이하  2018  1    2784\n",
      "2372  경남   전용면적 60㎡초과 85㎡이하  2018  1    2666\n",
      "2373  경남  전용면적 85㎡초과 102㎡이하  2018  1    2914\n",
      "2374  경남        전용면적 102㎡초과  2018  1    2836\n",
      "\n",
      "\n",
      "* key: ('경남', 2019)\n",
      "* number 55\n",
      "     지역명               규모구분    연도  월 분양가격(㎡)\n",
      "3390  경남                 전체  2019  1    2932\n",
      "3391  경남         전용면적 60㎡이하  2019  1    2887\n",
      "3392  경남   전용면적 60㎡초과 85㎡이하  2019  1    2914\n",
      "3393  경남  전용면적 85㎡초과 102㎡이하  2019  1    3173\n",
      "3394  경남        전용면적 102㎡초과  2019  1    3703\n",
      "\n",
      "\n",
      "* key: ('경북', 2015)\n",
      "* number 15\n",
      "   지역명               규모구분    연도   월 분양가격(㎡)\n",
      "70  경북                 전체  2015  10    2148\n",
      "71  경북         전용면적 60㎡이하  2015  10    2204\n",
      "72  경북   전용면적 60㎡초과 85㎡이하  2015  10    2145\n",
      "73  경북  전용면적 85㎡초과 102㎡이하  2015  10    2308\n",
      "74  경북        전용면적 102㎡초과  2015  10    2222\n",
      "\n",
      "\n",
      "* key: ('경북', 2016)\n",
      "* number 60\n",
      "    지역명               규모구분    연도  월 분양가격(㎡)\n",
      "325  경북                 전체  2016  1    2181\n",
      "326  경북         전용면적 60㎡이하  2016  1    2178\n",
      "327  경북   전용면적 60㎡초과 85㎡이하  2016  1    2185\n",
      "328  경북  전용면적 85㎡초과 102㎡이하  2016  1    2516\n",
      "329  경북        전용면적 102㎡초과  2016  1    2346\n",
      "\n",
      "\n",
      "* key: ('경북', 2017)\n",
      "* number 60\n",
      "     지역명               규모구분    연도  월 분양가격(㎡)\n",
      "1345  경북                 전체  2017  1    2312\n",
      "1346  경북         전용면적 60㎡이하  2017  1    2328\n",
      "1347  경북   전용면적 60㎡초과 85㎡이하  2017  1    2315\n",
      "1348  경북  전용면적 85㎡초과 102㎡이하  2017  1    2690\n",
      "1349  경북        전용면적 102㎡초과  2017  1    2540\n",
      "\n",
      "\n",
      "* key: ('경북', 2018)\n",
      "* number 60\n",
      "     지역명               규모구분    연도  월 분양가격(㎡)\n",
      "2365  경북                 전체  2018  1    2441\n",
      "2366  경북         전용면적 60㎡이하  2018  1    2525\n",
      "2367  경북   전용면적 60㎡초과 85㎡이하  2018  1    2435\n",
      "2368  경북  전용면적 85㎡초과 102㎡이하  2018  1     NaN\n",
      "2369  경북        전용면적 102㎡초과  2018  1    2867\n",
      "\n",
      "\n",
      "* key: ('경북', 2019)\n",
      "* number 55\n",
      "     지역명               규모구분    연도  월 분양가격(㎡)\n",
      "3385  경북                 전체  2019  1    2638\n",
      "3386  경북         전용면적 60㎡이하  2019  1    2486\n",
      "3387  경북   전용면적 60㎡초과 85㎡이하  2019  1    2626\n",
      "3388  경북  전용면적 85㎡초과 102㎡이하  2019  1    2667\n",
      "3389  경북        전용면적 102㎡초과  2019  1    2905\n",
      "\n",
      "\n",
      "* key: ('광주', 2015)\n",
      "* number 15\n",
      "   지역명               규모구분    연도   월 분양가격(㎡)\n",
      "25  광주                 전체  2015  10    2420\n",
      "26  광주         전용면적 60㎡이하  2015  10    2253\n",
      "27  광주   전용면적 60㎡초과 85㎡이하  2015  10    2439\n",
      "28  광주  전용면적 85㎡초과 102㎡이하  2015  10        \n",
      "29  광주        전용면적 102㎡초과  2015  10        \n",
      "\n",
      "\n",
      "* key: ('광주', 2016)\n",
      "* number 60\n",
      "    지역명               규모구분    연도  월 분양가격(㎡)\n",
      "280  광주                 전체  2016  1    2569\n",
      "281  광주         전용면적 60㎡이하  2016  1    2395\n",
      "282  광주   전용면적 60㎡초과 85㎡이하  2016  1    2582\n",
      "283  광주  전용면적 85㎡초과 102㎡이하  2016  1        \n",
      "284  광주        전용면적 102㎡초과  2016  1        \n",
      "\n",
      "\n",
      "* key: ('광주', 2017)\n",
      "* number 60\n",
      "     지역명               규모구분    연도  월 분양가격(㎡)\n",
      "1300  광주                 전체  2017  1    2778\n",
      "1301  광주         전용면적 60㎡이하  2017  1    2557\n",
      "1302  광주   전용면적 60㎡초과 85㎡이하  2017  1    2790\n",
      "1303  광주  전용면적 85㎡초과 102㎡이하  2017  1    2817\n",
      "1304  광주        전용면적 102㎡초과  2017  1    3273\n",
      "\n",
      "\n",
      "* key: ('광주', 2018)\n",
      "* number 60\n",
      "     지역명               규모구분    연도  월 분양가격(㎡)\n",
      "2320  광주                 전체  2018  1    2894\n",
      "2321  광주         전용면적 60㎡이하  2018  1    2776\n",
      "2322  광주   전용면적 60㎡초과 85㎡이하  2018  1    2887\n",
      "2323  광주  전용면적 85㎡초과 102㎡이하  2018  1     NaN\n",
      "2324  광주        전용면적 102㎡초과  2018  1    2865\n",
      "\n",
      "\n",
      "* key: ('광주', 2019)\n",
      "* number 55\n",
      "     지역명               규모구분    연도  월 분양가격(㎡)\n",
      "3340  광주                 전체  2019  1    3311\n",
      "3341  광주         전용면적 60㎡이하  2019  1    3207\n",
      "3342  광주   전용면적 60㎡초과 85㎡이하  2019  1    3313\n",
      "3343  광주  전용면적 85㎡초과 102㎡이하  2019  1     NaN\n",
      "3344  광주        전용면적 102㎡초과  2019  1     NaN\n",
      "\n",
      "\n",
      "* key: ('대구', 2015)\n",
      "* number 15\n",
      "   지역명               규모구분    연도   월 분양가격(㎡)\n",
      "20  대구                 전체  2015  10    2682\n",
      "21  대구         전용면적 60㎡이하  2015  10    2614\n",
      "22  대구   전용면적 60㎡초과 85㎡이하  2015  10    2696\n",
      "23  대구  전용면적 85㎡초과 102㎡이하  2015  10    2557\n",
      "24  대구        전용면적 102㎡초과  2015  10    2598\n",
      "\n",
      "\n",
      "* key: ('대구', 2016)\n",
      "* number 60\n",
      "    지역명               규모구분    연도  월 분양가격(㎡)\n",
      "275  대구                 전체  2016  1    3086\n",
      "276  대구         전용면적 60㎡이하  2016  1    3341\n",
      "277  대구   전용면적 60㎡초과 85㎡이하  2016  1    3103\n",
      "278  대구  전용면적 85㎡초과 102㎡이하  2016  1    2532\n",
      "279  대구        전용면적 102㎡초과  2016  1    2743\n",
      "\n",
      "\n",
      "* key: ('대구', 2017)\n",
      "* number 60\n",
      "     지역명               규모구분    연도  월 분양가격(㎡)\n",
      "1295  대구                 전체  2017  1    3121\n",
      "1296  대구         전용면적 60㎡이하  2017  1    3608\n",
      "1297  대구   전용면적 60㎡초과 85㎡이하  2017  1    3129\n",
      "1298  대구  전용면적 85㎡초과 102㎡이하  2017  1    3045\n",
      "1299  대구        전용면적 102㎡초과  2017  1    5014\n",
      "\n",
      "\n",
      "* key: ('대구', 2018)\n",
      "* number 60\n",
      "     지역명               규모구분    연도  월 분양가격(㎡)\n",
      "2315  대구                 전체  2018  1    3585\n",
      "2316  대구         전용면적 60㎡이하  2018  1    3521\n",
      "2317  대구   전용면적 60㎡초과 85㎡이하  2018  1    3587\n",
      "2318  대구  전용면적 85㎡초과 102㎡이하  2018  1     NaN\n",
      "2319  대구        전용면적 102㎡초과  2018  1    3543\n",
      "\n",
      "\n",
      "* key: ('대구', 2019)\n",
      "* number 55\n",
      "     지역명               규모구분    연도  월 분양가격(㎡)\n",
      "3335  대구                 전체  2019  1    3983\n",
      "3336  대구         전용면적 60㎡이하  2019  1    3977\n",
      "3337  대구   전용면적 60㎡초과 85㎡이하  2019  1    3967\n",
      "3338  대구  전용면적 85㎡초과 102㎡이하  2019  1    4019\n",
      "3339  대구        전용면적 102㎡초과  2019  1    4067\n",
      "\n",
      "\n",
      "* key: ('대전', 2015)\n",
      "* number 15\n",
      "   지역명               규모구분    연도   월 분양가격(㎡)\n",
      "30  대전                 전체  2015  10    2454\n",
      "31  대전         전용면적 60㎡이하  2015  10    2585\n",
      "32  대전   전용면적 60㎡초과 85㎡이하  2015  10    2428\n",
      "33  대전  전용면적 85㎡초과 102㎡이하  2015  10    2461\n",
      "34  대전        전용면적 102㎡초과  2015  10        \n",
      "\n",
      "\n",
      "* key: ('대전', 2016)\n",
      "* number 60\n",
      "    지역명               규모구분    연도  월 분양가격(㎡)\n",
      "285  대전                 전체  2016  1    2454\n",
      "286  대전         전용면적 60㎡이하  2016  1    2585\n",
      "287  대전   전용면적 60㎡초과 85㎡이하  2016  1    2428\n",
      "288  대전  전용면적 85㎡초과 102㎡이하  2016  1    2461\n",
      "289  대전        전용면적 102㎡초과  2016  1        \n",
      "\n",
      "\n",
      "* key: ('대전', 2017)\n",
      "* number 60\n",
      "     지역명               규모구분    연도  월 분양가격(㎡)\n",
      "1305  대전                 전체  2017  1    2685\n",
      "1306  대전         전용면적 60㎡이하  2017  1    2671\n",
      "1307  대전   전용면적 60㎡초과 85㎡이하  2017  1    2660\n",
      "1308  대전  전용면적 85㎡초과 102㎡이하  2017  1    2600\n",
      "1309  대전        전용면적 102㎡초과  2017  1    4328\n",
      "\n",
      "\n",
      "* key: ('대전', 2018)\n",
      "* number 60\n",
      "     지역명               규모구분    연도  월 분양가격(㎡)\n",
      "2325  대전                 전체  2018  1    2744\n",
      "2326  대전         전용면적 60㎡이하  2018  1    2628\n",
      "2327  대전   전용면적 60㎡초과 85㎡이하  2018  1    2750\n",
      "2328  대전  전용면적 85㎡초과 102㎡이하  2018  1    3067\n",
      "2329  대전        전용면적 102㎡초과  2018  1     NaN\n",
      "\n",
      "\n",
      "* key: ('대전', 2019)\n",
      "* number 55\n",
      "     지역명               규모구분    연도  월 분양가격(㎡)\n",
      "3345  대전                 전체  2019  1    3689\n",
      "3346  대전         전용면적 60㎡이하  2019  1     NaN\n",
      "3347  대전   전용면적 60㎡초과 85㎡이하  2019  1    3677\n",
      "3348  대전  전용면적 85㎡초과 102㎡이하  2019  1     NaN\n",
      "3349  대전        전용면적 102㎡초과  2019  1    4877\n",
      "\n",
      "\n",
      "* key: ('부산', 2015)\n",
      "* number 15\n",
      "   지역명               규모구분    연도   월 분양가격(㎡)\n",
      "15  부산                 전체  2015  10    3112\n",
      "16  부산         전용면적 60㎡이하  2015  10    2950\n",
      "17  부산   전용면적 60㎡초과 85㎡이하  2015  10    2999\n",
      "18  부산  전용면적 85㎡초과 102㎡이하  2015  10    2957\n",
      "19  부산        전용면적 102㎡초과  2015  10    3500\n",
      "\n",
      "\n",
      "* key: ('부산', 2016)\n",
      "* number 60\n",
      "    지역명               규모구분    연도  월 분양가격(㎡)\n",
      "270  부산                 전체  2016  1    3152\n",
      "271  부산         전용면적 60㎡이하  2016  1    2951\n",
      "272  부산   전용면적 60㎡초과 85㎡이하  2016  1    3057\n",
      "273  부산  전용면적 85㎡초과 102㎡이하  2016  1    2957\n",
      "274  부산        전용면적 102㎡초과  2016  1    3812\n",
      "\n",
      "\n",
      "* key: ('부산', 2017)\n",
      "* number 60\n",
      "     지역명               규모구분    연도  월 분양가격(㎡)\n",
      "1290  부산                 전체  2017  1    3244\n",
      "1291  부산         전용면적 60㎡이하  2017  1    3030\n",
      "1292  부산   전용면적 60㎡초과 85㎡이하  2017  1    3240\n",
      "1293  부산  전용면적 85㎡초과 102㎡이하  2017  1    3354\n",
      "1294  부산        전용면적 102㎡초과  2017  1    4214\n",
      "\n",
      "\n",
      "* key: ('부산', 2018)\n",
      "* number 60\n",
      "     지역명               규모구분    연도  월 분양가격(㎡)\n",
      "2310  부산                 전체  2018  1    3842\n",
      "2311  부산         전용면적 60㎡이하  2018  1    3737\n",
      "2312  부산   전용면적 60㎡초과 85㎡이하  2018  1    3803\n",
      "2313  부산  전용면적 85㎡초과 102㎡이하  2018  1    3692\n",
      "2314  부산        전용면적 102㎡초과  2018  1    3869\n",
      "\n",
      "\n",
      "* key: ('부산', 2019)\n",
      "* number 55\n",
      "     지역명               규모구분    연도  월 분양가격(㎡)\n",
      "3330  부산                 전체  2019  1    4068\n",
      "3331  부산         전용면적 60㎡이하  2019  1    3778\n",
      "3332  부산   전용면적 60㎡초과 85㎡이하  2019  1    4064\n",
      "3333  부산  전용면적 85㎡초과 102㎡이하  2019  1    4066\n",
      "3334  부산        전용면적 102㎡초과  2019  1    4293\n",
      "\n",
      "\n",
      "* key: ('서울', 2015)\n",
      "* number 15\n",
      "  지역명               규모구분    연도   월 분양가격(㎡)\n",
      "0  서울                 전체  2015  10    5841\n",
      "1  서울         전용면적 60㎡이하  2015  10    5652\n",
      "2  서울   전용면적 60㎡초과 85㎡이하  2015  10    5882\n",
      "3  서울  전용면적 85㎡초과 102㎡이하  2015  10    5721\n",
      "4  서울        전용면적 102㎡초과  2015  10    5879\n",
      "\n",
      "\n",
      "* key: ('서울', 2016)\n",
      "* number 60\n",
      "    지역명               규모구분    연도  월 분양가격(㎡)\n",
      "255  서울                 전체  2016  1    6108\n",
      "256  서울         전용면적 60㎡이하  2016  1    6427\n",
      "257  서울   전용면적 60㎡초과 85㎡이하  2016  1    6036\n",
      "258  서울  전용면적 85㎡초과 102㎡이하  2016  1    6513\n",
      "259  서울        전용면적 102㎡초과  2016  1    6551\n",
      "\n",
      "\n",
      "* key: ('서울', 2017)\n",
      "* number 60\n",
      "     지역명               규모구분    연도  월 분양가격(㎡)\n",
      "1275  서울                 전체  2017  1    6450\n",
      "1276  서울         전용면적 60㎡이하  2017  1    6662\n",
      "1277  서울   전용면적 60㎡초과 85㎡이하  2017  1    6500\n",
      "1278  서울  전용면적 85㎡초과 102㎡이하  2017  1    7030\n",
      "1279  서울        전용면적 102㎡초과  2017  1    6771\n",
      "\n",
      "\n",
      "* key: ('서울', 2018)\n",
      "* number 60\n",
      "     지역명               규모구분    연도  월 분양가격(㎡)\n",
      "2295  서울                 전체  2018  1    6623\n",
      "2296  서울         전용면적 60㎡이하  2018  1    6898\n",
      "2297  서울   전용면적 60㎡초과 85㎡이하  2018  1    5857\n",
      "2298  서울  전용면적 85㎡초과 102㎡이하  2018  1    7478\n",
      "2299  서울        전용면적 102㎡초과  2018  1    6916\n",
      "\n",
      "\n",
      "* key: ('서울', 2019)\n",
      "* number 55\n",
      "     지역명               규모구분    연도  월 분양가격(㎡)\n",
      "3315  서울                 전체  2019  1    7600\n",
      "3316  서울         전용면적 60㎡이하  2019  1    7400\n",
      "3317  서울   전용면적 60㎡초과 85㎡이하  2019  1    8105\n",
      "3318  서울  전용면적 85㎡초과 102㎡이하  2019  1    6842\n",
      "3319  서울        전용면적 102㎡초과  2019  1    7787\n",
      "\n",
      "\n",
      "* key: ('세종', 2015)\n",
      "* number 15\n",
      "   지역명               규모구분    연도   월 분양가격(㎡)\n",
      "40  세종                 전체  2015  10    2642\n",
      "41  세종         전용면적 60㎡이하  2015  10    2572\n",
      "42  세종   전용면적 60㎡초과 85㎡이하  2015  10    2657\n",
      "43  세종  전용면적 85㎡초과 102㎡이하  2015  10    2644\n",
      "44  세종        전용면적 102㎡초과  2015  10    2692\n",
      "\n",
      "\n",
      "* key: ('세종', 2016)\n",
      "* number 60\n",
      "    지역명               규모구분    연도  월 분양가격(㎡)\n",
      "295  세종                 전체  2016  1    2665\n",
      "296  세종         전용면적 60㎡이하  2016  1    2601\n",
      "297  세종   전용면적 60㎡초과 85㎡이하  2016  1    2676\n",
      "298  세종  전용면적 85㎡초과 102㎡이하  2016  1    2661\n",
      "299  세종        전용면적 102㎡초과  2016  1    2752\n",
      "\n",
      "\n",
      "* key: ('세종', 2017)\n",
      "* number 60\n",
      "     지역명               규모구분    연도  월 분양가격(㎡)\n",
      "1315  세종                 전체  2017  1    2705\n",
      "1316  세종         전용면적 60㎡이하  2017  1    2769\n",
      "1317  세종   전용면적 60㎡초과 85㎡이하  2017  1    2706\n",
      "1318  세종  전용면적 85㎡초과 102㎡이하  2017  1    2676\n",
      "1319  세종        전용면적 102㎡초과  2017  1    2673\n",
      "\n",
      "\n",
      "* key: ('세종', 2018)\n",
      "* number 60\n",
      "     지역명               규모구분    연도  월 분양가격(㎡)\n",
      "2335  세종                 전체  2018  1    3161\n",
      "2336  세종         전용면적 60㎡이하  2018  1     NaN\n",
      "2337  세종   전용면적 60㎡초과 85㎡이하  2018  1    3164\n",
      "2338  세종  전용면적 85㎡초과 102㎡이하  2018  1    3099\n",
      "2339  세종        전용면적 102㎡초과  2018  1    3227\n",
      "\n",
      "\n",
      "* key: ('세종', 2019)\n",
      "* number 55\n",
      "     지역명               규모구분    연도  월 분양가격(㎡)\n",
      "3355  세종                 전체  2019  1    3055\n",
      "3356  세종         전용면적 60㎡이하  2019  1    3064\n",
      "3357  세종   전용면적 60㎡초과 85㎡이하  2019  1    3063\n",
      "3358  세종  전용면적 85㎡초과 102㎡이하  2019  1    3155\n",
      "3359  세종        전용면적 102㎡초과  2019  1    2990\n",
      "\n",
      "\n",
      "* key: ('울산', 2015)\n",
      "* number 15\n",
      "   지역명               규모구분    연도   월 분양가격(㎡)\n",
      "35  울산                 전체  2015  10    3053\n",
      "36  울산         전용면적 60㎡이하  2015  10    2422\n",
      "37  울산   전용면적 60㎡초과 85㎡이하  2015  10    3040\n",
      "38  울산  전용면적 85㎡초과 102㎡이하  2015  10    2951\n",
      "39  울산        전용면적 102㎡초과  2015  10    2690\n",
      "\n",
      "\n",
      "* key: ('울산', 2016)\n",
      "* number 60\n",
      "    지역명               규모구분    연도  월 분양가격(㎡)\n",
      "290  울산                 전체  2016  1    3046\n",
      "291  울산         전용면적 60㎡이하  2016  1    2584\n",
      "292  울산   전용면적 60㎡초과 85㎡이하  2016  1    3053\n",
      "293  울산  전용면적 85㎡초과 102㎡이하  2016  1    2663\n",
      "294  울산        전용면적 102㎡초과  2016  1    2874\n",
      "\n",
      "\n",
      "* key: ('울산', 2017)\n",
      "* number 60\n",
      "     지역명               규모구분    연도  월 분양가격(㎡)\n",
      "1310  울산                 전체  2017  1    3260\n",
      "1311  울산         전용면적 60㎡이하  2017  1    2858\n",
      "1312  울산   전용면적 60㎡초과 85㎡이하  2017  1    3272\n",
      "1313  울산  전용면적 85㎡초과 102㎡이하  2017  1     NaN\n",
      "1314  울산        전용면적 102㎡초과  2017  1    3177\n",
      "\n",
      "\n",
      "* key: ('울산', 2018)\n",
      "* number 60\n",
      "     지역명               규모구분    연도  월 분양가격(㎡)\n",
      "2330  울산                 전체  2018  1    3162\n",
      "2331  울산         전용면적 60㎡이하  2018  1     NaN\n",
      "2332  울산   전용면적 60㎡초과 85㎡이하  2018  1    3162\n",
      "2333  울산  전용면적 85㎡초과 102㎡이하  2018  1     NaN\n",
      "2334  울산        전용면적 102㎡초과  2018  1     NaN\n",
      "\n",
      "\n",
      "* key: ('울산', 2019)\n",
      "* number 55\n",
      "     지역명               규모구분    연도  월 분양가격(㎡)\n",
      "3350  울산                 전체  2019  1     NaN\n",
      "3351  울산         전용면적 60㎡이하  2019  1     NaN\n",
      "3352  울산   전용면적 60㎡초과 85㎡이하  2019  1     NaN\n",
      "3353  울산  전용면적 85㎡초과 102㎡이하  2019  1     NaN\n",
      "3354  울산        전용면적 102㎡초과  2019  1     NaN\n",
      "\n",
      "\n",
      "* key: ('인천', 2015)\n",
      "* number 15\n",
      "  지역명               규모구분    연도   월 분양가격(㎡)\n",
      "5  인천                 전체  2015  10    3163\n",
      "6  인천         전용면적 60㎡이하  2015  10    3488\n",
      "7  인천   전용면적 60㎡초과 85㎡이하  2015  10    3119\n",
      "8  인천  전용면적 85㎡초과 102㎡이하  2015  10    3545\n",
      "9  인천        전용면적 102㎡초과  2015  10    3408\n",
      "\n",
      "\n",
      "* key: ('인천', 2016)\n",
      "* number 60\n",
      "    지역명               규모구분    연도  월 분양가격(㎡)\n",
      "260  인천                 전체  2016  1    3191\n",
      "261  인천         전용면적 60㎡이하  2016  1    3328\n",
      "262  인천   전용면적 60㎡초과 85㎡이하  2016  1    3110\n",
      "263  인천  전용면적 85㎡초과 102㎡이하  2016  1    3545\n",
      "264  인천        전용면적 102㎡초과  2016  1    3408\n",
      "\n",
      "\n",
      "* key: ('인천', 2017)\n",
      "* number 60\n",
      "     지역명               규모구분    연도  월 분양가격(㎡)\n",
      "1280  인천                 전체  2017  1    3132\n",
      "1281  인천         전용면적 60㎡이하  2017  1    3181\n",
      "1282  인천   전용면적 60㎡초과 85㎡이하  2017  1    3137\n",
      "1283  인천  전용면적 85㎡초과 102㎡이하  2017  1    3275\n",
      "1284  인천        전용면적 102㎡초과  2017  1    4201\n",
      "\n",
      "\n",
      "* key: ('인천', 2018)\n",
      "* number 60\n",
      "     지역명               규모구분    연도  월 분양가격(㎡)\n",
      "2300  인천                 전체  2018  1    3333\n",
      "2301  인천         전용면적 60㎡이하  2018  1    3376\n",
      "2302  인천   전용면적 60㎡초과 85㎡이하  2018  1    3324\n",
      "2303  인천  전용면적 85㎡초과 102㎡이하  2018  1    3478\n",
      "2304  인천        전용면적 102㎡초과  2018  1    4835\n",
      "\n",
      "\n",
      "* key: ('인천', 2019)\n",
      "* number 55\n",
      "     지역명               규모구분    연도  월 분양가격(㎡)\n",
      "3320  인천                 전체  2019  1    3583\n",
      "3321  인천         전용면적 60㎡이하  2019  1    3461\n",
      "3322  인천   전용면적 60㎡초과 85㎡이하  2019  1    3766\n",
      "3323  인천  전용면적 85㎡초과 102㎡이하  2019  1    3492\n",
      "3324  인천        전용면적 102㎡초과  2019  1    4455\n",
      "\n",
      "\n",
      "* key: ('전남', 2015)\n",
      "* number 15\n",
      "   지역명               규모구분    연도   월 분양가격(㎡)\n",
      "65  전남                 전체  2015  10    1925\n",
      "66  전남         전용면적 60㎡이하  2015  10    1999\n",
      "67  전남   전용면적 60㎡초과 85㎡이하  2015  10    1922\n",
      "68  전남  전용면적 85㎡초과 102㎡이하  2015  10    2262\n",
      "69  전남        전용면적 102㎡초과  2015  10    2292\n",
      "\n",
      "\n",
      "* key: ('전남', 2016)\n",
      "* number 60\n",
      "    지역명               규모구분    연도  월 분양가격(㎡)\n",
      "320  전남                 전체  2016  1    1909\n",
      "321  전남         전용면적 60㎡이하  2016  1    1999\n",
      "322  전남   전용면적 60㎡초과 85㎡이하  2016  1    1906\n",
      "323  전남  전용면적 85㎡초과 102㎡이하  2016  1    2262\n",
      "324  전남        전용면적 102㎡초과  2016  1    2176\n",
      "\n",
      "\n",
      "* key: ('전남', 2017)\n",
      "* number 60\n",
      "     지역명               규모구분    연도  월 분양가격(㎡)\n",
      "1340  전남                 전체  2017  1    2078\n",
      "1341  전남         전용면적 60㎡이하  2017  1    2058\n",
      "1342  전남   전용면적 60㎡초과 85㎡이하  2017  1    2074\n",
      "1343  전남  전용면적 85㎡초과 102㎡이하  2017  1    2467\n",
      "1344  전남        전용면적 102㎡초과  2017  1    2319\n",
      "\n",
      "\n",
      "* key: ('전남', 2018)\n",
      "* number 60\n",
      "     지역명               규모구분    연도  월 분양가격(㎡)\n",
      "2360  전남                 전체  2018  1    2400\n",
      "2361  전남         전용면적 60㎡이하  2018  1    2427\n",
      "2362  전남   전용면적 60㎡초과 85㎡이하  2018  1    2380\n",
      "2363  전남  전용면적 85㎡초과 102㎡이하  2018  1    2459\n",
      "2364  전남        전용면적 102㎡초과  2018  1    2458\n",
      "\n",
      "\n",
      "* key: ('전남', 2019)\n",
      "* number 55\n",
      "     지역명               규모구분    연도  월 분양가격(㎡)\n",
      "3380  전남                 전체  2019  1    2414\n",
      "3381  전남         전용면적 60㎡이하  2019  1    2152\n",
      "3382  전남   전용면적 60㎡초과 85㎡이하  2019  1    2405\n",
      "3383  전남  전용면적 85㎡초과 102㎡이하  2019  1    2337\n",
      "3384  전남        전용면적 102㎡초과  2019  1    2664\n",
      "\n",
      "\n",
      "* key: ('전북', 2015)\n",
      "* number 15\n",
      "   지역명               규모구분    연도   월 분양가격(㎡)\n",
      "60  전북                 전체  2015  10    2054\n",
      "61  전북         전용면적 60㎡이하  2015  10    2127\n",
      "62  전북   전용면적 60㎡초과 85㎡이하  2015  10    2056\n",
      "63  전북  전용면적 85㎡초과 102㎡이하  2015  10    2377\n",
      "64  전북        전용면적 102㎡초과  2015  10    2250\n",
      "\n",
      "\n",
      "* key: ('전북', 2016)\n",
      "* number 60\n",
      "    지역명               규모구분    연도  월 분양가격(㎡)\n",
      "315  전북                 전체  2016  1    1980\n",
      "316  전북         전용면적 60㎡이하  2016  1    1908\n",
      "317  전북   전용면적 60㎡초과 85㎡이하  2016  1    1987\n",
      "318  전북  전용면적 85㎡초과 102㎡이하  2016  1    2377\n",
      "319  전북        전용면적 102㎡초과  2016  1    2282\n",
      "\n",
      "\n",
      "* key: ('전북', 2017)\n",
      "* number 60\n",
      "     지역명               규모구분    연도  월 분양가격(㎡)\n",
      "1335  전북                 전체  2017  1    2006\n",
      "1336  전북         전용면적 60㎡이하  2017  1    2315\n",
      "1337  전북   전용면적 60㎡초과 85㎡이하  2017  1    2004\n",
      "1338  전북  전용면적 85㎡초과 102㎡이하  2017  1    2305\n",
      "1339  전북        전용면적 102㎡초과  2017  1    2321\n",
      "\n",
      "\n",
      "* key: ('전북', 2018)\n",
      "* number 60\n",
      "     지역명               규모구분    연도  월 분양가격(㎡)\n",
      "2355  전북                 전체  2018  1    2226\n",
      "2356  전북         전용면적 60㎡이하  2018  1    2259\n",
      "2357  전북   전용면적 60㎡초과 85㎡이하  2018  1    2215\n",
      "2358  전북  전용면적 85㎡초과 102㎡이하  2018  1    2221\n",
      "2359  전북        전용면적 102㎡초과  2018  1    2433\n",
      "\n",
      "\n",
      "* key: ('전북', 2019)\n",
      "* number 55\n",
      "     지역명               규모구분    연도  월 분양가격(㎡)\n",
      "3375  전북                 전체  2019  1    2380\n",
      "3376  전북         전용면적 60㎡이하  2019  1    2666\n",
      "3377  전북   전용면적 60㎡초과 85㎡이하  2019  1    2365\n",
      "3378  전북  전용면적 85㎡초과 102㎡이하  2019  1    3052\n",
      "3379  전북        전용면적 102㎡초과  2019  1    2651\n",
      "\n",
      "\n",
      "* key: ('제주', 2015)\n",
      "* number 15\n",
      "   지역명               규모구분    연도   월 분양가격(㎡)\n",
      "80  제주                 전체  2015  10    2232\n",
      "81  제주         전용면적 60㎡이하  2015  10        \n",
      "82  제주   전용면적 60㎡초과 85㎡이하  2015  10    2225\n",
      "83  제주  전용면적 85㎡초과 102㎡이하  2015  10    2583\n",
      "84  제주        전용면적 102㎡초과  2015  10    2574\n",
      "\n",
      "\n",
      "* key: ('제주', 2016)\n",
      "* number 60\n",
      "    지역명               규모구분    연도  월 분양가격(㎡)\n",
      "335  제주                 전체  2016  1    2268\n",
      "336  제주         전용면적 60㎡이하  2016  1        \n",
      "337  제주   전용면적 60㎡초과 85㎡이하  2016  1    2260\n",
      "338  제주  전용면적 85㎡초과 102㎡이하  2016  1    2583\n",
      "339  제주        전용면적 102㎡초과  2016  1    2574\n",
      "\n",
      "\n",
      "* key: ('제주', 2017)\n",
      "* number 60\n",
      "     지역명               규모구분    연도  월 분양가격(㎡)\n",
      "1355  제주                 전체  2017  1    3124\n",
      "1356  제주         전용면적 60㎡이하  2017  1    4091\n",
      "1357  제주   전용면적 60㎡초과 85㎡이하  2017  1    3036\n",
      "1358  제주  전용면적 85㎡초과 102㎡이하  2017  1    3157\n",
      "1359  제주        전용면적 102㎡초과  2017  1    3082\n",
      "\n",
      "\n",
      "* key: ('제주', 2018)\n",
      "* number 60\n",
      "     지역명               규모구분    연도  월 분양가격(㎡)\n",
      "2375  제주                 전체  2018  1    3636\n",
      "2376  제주         전용면적 60㎡이하  2018  1    5380\n",
      "2377  제주   전용면적 60㎡초과 85㎡이하  2018  1    3512\n",
      "2378  제주  전용면적 85㎡초과 102㎡이하  2018  1     NaN\n",
      "2379  제주        전용면적 102㎡초과  2018  1    3029\n",
      "\n",
      "\n",
      "* key: ('제주', 2019)\n",
      "* number 55\n",
      "     지역명               규모구분    연도  월 분양가격(㎡)\n",
      "3395  제주                 전체  2019  1    3424\n",
      "3396  제주         전용면적 60㎡이하  2019  1    3804\n",
      "3397  제주   전용면적 60㎡초과 85㎡이하  2019  1    3504\n",
      "3398  제주  전용면적 85㎡초과 102㎡이하  2019  1    3226\n",
      "3399  제주        전용면적 102㎡초과  2019  1    2952\n",
      "\n",
      "\n",
      "* key: ('충남', 2015)\n",
      "* number 15\n",
      "   지역명               규모구분    연도   월 분양가격(㎡)\n",
      "55  충남                 전체  2015  10    2099\n",
      "56  충남         전용면적 60㎡이하  2015  10    2206\n",
      "57  충남   전용면적 60㎡초과 85㎡이하  2015  10    2101\n",
      "58  충남  전용면적 85㎡초과 102㎡이하  2015  10    2743\n",
      "59  충남        전용면적 102㎡초과  2015  10    2442\n",
      "\n",
      "\n",
      "* key: ('충남', 2016)\n",
      "* number 60\n",
      "    지역명               규모구분    연도  월 분양가격(㎡)\n",
      "310  충남                 전체  2016  1    2270\n",
      "311  충남         전용면적 60㎡이하  2016  1    2481\n",
      "312  충남   전용면적 60㎡초과 85㎡이하  2016  1    2281\n",
      "313  충남  전용면적 85㎡초과 102㎡이하  2016  1    2541\n",
      "314  충남        전용면적 102㎡초과  2016  1    2444\n",
      "\n",
      "\n",
      "* key: ('충남', 2017)\n",
      "* number 60\n",
      "     지역명               규모구분    연도  월 분양가격(㎡)\n",
      "1330  충남                 전체  2017  1    2235\n",
      "1331  충남         전용면적 60㎡이하  2017  1    2335\n",
      "1332  충남   전용면적 60㎡초과 85㎡이하  2017  1    2236\n",
      "1333  충남  전용면적 85㎡초과 102㎡이하  2017  1    2963\n",
      "1334  충남        전용면적 102㎡초과  2017  1    2679\n",
      "\n",
      "\n",
      "* key: ('충남', 2018)\n",
      "* number 60\n",
      "     지역명               규모구분    연도  월 분양가격(㎡)\n",
      "2350  충남                 전체  2018  1    2394\n",
      "2351  충남         전용면적 60㎡이하  2018  1    2421\n",
      "2352  충남   전용면적 60㎡초과 85㎡이하  2018  1    2409\n",
      "2353  충남  전용면적 85㎡초과 102㎡이하  2018  1     NaN\n",
      "2354  충남        전용면적 102㎡초과  2018  1    2283\n",
      "\n",
      "\n",
      "* key: ('충남', 2019)\n",
      "* number 55\n",
      "     지역명               규모구분    연도  월 분양가격(㎡)\n",
      "3370  충남                 전체  2019  1    2463\n",
      "3371  충남         전용면적 60㎡이하  2019  1    2487\n",
      "3372  충남   전용면적 60㎡초과 85㎡이하  2019  1    2437\n",
      "3373  충남  전용면적 85㎡초과 102㎡이하  2019  1    2657\n",
      "3374  충남        전용면적 102㎡초과  2019  1    2729\n",
      "\n",
      "\n",
      "* key: ('충북', 2015)\n",
      "* number 15\n",
      "   지역명               규모구분    연도   월 분양가격(㎡)\n",
      "50  충북                 전체  2015  10    2032\n",
      "51  충북         전용면적 60㎡이하  2015  10    1919\n",
      "52  충북   전용면적 60㎡초과 85㎡이하  2015  10    2033\n",
      "53  충북  전용면적 85㎡초과 102㎡이하  2015  10    2102\n",
      "54  충북        전용면적 102㎡초과  2015  10    2369\n",
      "\n",
      "\n",
      "* key: ('충북', 2016)\n",
      "* number 60\n",
      "    지역명               규모구분    연도  월 분양가격(㎡)\n",
      "305  충북                 전체  2016  1    2008\n",
      "306  충북         전용면적 60㎡이하  2016  1    1952\n",
      "307  충북   전용면적 60㎡초과 85㎡이하  2016  1    2021\n",
      "308  충북  전용면적 85㎡초과 102㎡이하  2016  1    2276\n",
      "309  충북        전용면적 102㎡초과  2016  1    2261\n",
      "\n",
      "\n",
      "* key: ('충북', 2017)\n",
      "* number 60\n",
      "     지역명               규모구분    연도  월 분양가격(㎡)\n",
      "1325  충북                 전체  2017  1    2105\n",
      "1326  충북         전용면적 60㎡이하  2017  1    2142\n",
      "1327  충북   전용면적 60㎡초과 85㎡이하  2017  1    2124\n",
      "1328  충북  전용면적 85㎡초과 102㎡이하  2017  1    2855\n",
      "1329  충북        전용면적 102㎡초과  2017  1    2362\n",
      "\n",
      "\n",
      "* key: ('충북', 2018)\n",
      "* number 60\n",
      "     지역명               규모구분    연도  월 분양가격(㎡)\n",
      "2345  충북                 전체  2018  1    2077\n",
      "2346  충북         전용면적 60㎡이하  2018  1    2203\n",
      "2347  충북   전용면적 60㎡초과 85㎡이하  2018  1    2076\n",
      "2348  충북  전용면적 85㎡초과 102㎡이하  2018  1    2271\n",
      "2349  충북        전용면적 102㎡초과  2018  1    2504\n",
      "\n",
      "\n",
      "* key: ('충북', 2019)\n",
      "* number 55\n",
      "     지역명               규모구분    연도  월 분양가격(㎡)\n",
      "3365  충북                 전체  2019  1    2367\n",
      "3366  충북         전용면적 60㎡이하  2019  1    2261\n",
      "3367  충북   전용면적 60㎡초과 85㎡이하  2019  1    2383\n",
      "3368  충북  전용면적 85㎡초과 102㎡이하  2019  1    2725\n",
      "3369  충북        전용면적 102㎡초과  2019  1    2689\n",
      "\n",
      "\n"
     ]
    }
   ],
   "source": [
    "for key, group in grouped:\n",
    "    print('* key:', key)\n",
    "    print('* number', len(group))\n",
    "    print(group.head())\n",
    "    print('\\n')"
   ]
  },
  {
   "cell_type": "markdown",
   "metadata": {},
   "source": [
    "---"
   ]
  },
  {
   "cell_type": "markdown",
   "metadata": {},
   "source": [
    "# 문제1번"
   ]
  },
  {
   "cell_type": "code",
   "execution_count": 119,
   "metadata": {},
   "outputs": [],
   "source": [
    "import warnings #\n",
    "warnings.filterwarnings('ignore')"
   ]
  },
  {
   "cell_type": "code",
   "execution_count": 41,
   "metadata": {},
   "outputs": [],
   "source": [
    "import statsmodels.api as sm\n",
    "from plotnine import *\n",
    "import plotnine"
   ]
  },
  {
   "cell_type": "code",
   "execution_count": 170,
   "metadata": {},
   "outputs": [],
   "source": [
    "import pandas as pd\n",
    "import numpy as np\n",
    "\n",
    "%config InlineBackend.figure_format ='retina'\n",
    "\n",
    "import matplotlib.font_manager as fm\n",
    "fontpath = 'C:/Windows/Fonts/gulim.ttf'\n",
    "font = fm.FontProperties(fname=fontpath, size=9)"
   ]
  },
  {
   "cell_type": "code",
   "execution_count": 171,
   "metadata": {},
   "outputs": [],
   "source": [
    "import matplotlib as mpl\n",
    "mpl.font_manager._rebuild()\n",
    "mpl.pyplot.rc('font', family='gulim')"
   ]
  },
  {
   "cell_type": "code",
   "execution_count": 172,
   "metadata": {},
   "outputs": [
    {
     "data": {
      "text/plain": [
       "(4250, 5)"
      ]
     },
     "execution_count": 172,
     "metadata": {},
     "output_type": "execute_result"
    }
   ],
   "source": [
    "pre_sale = pd.read_csv('./part6/apart.csv', encoding='euc-kr')\n",
    "pre_sale.shape"
   ]
  },
  {
   "cell_type": "code",
   "execution_count": 173,
   "metadata": {},
   "outputs": [
    {
     "data": {
      "text/html": [
       "<div>\n",
       "<style scoped>\n",
       "    .dataframe tbody tr th:only-of-type {\n",
       "        vertical-align: middle;\n",
       "    }\n",
       "\n",
       "    .dataframe tbody tr th {\n",
       "        vertical-align: top;\n",
       "    }\n",
       "\n",
       "    .dataframe thead th {\n",
       "        text-align: right;\n",
       "    }\n",
       "</style>\n",
       "<table border=\"1\" class=\"dataframe\">\n",
       "  <thead>\n",
       "    <tr style=\"text-align: right;\">\n",
       "      <th></th>\n",
       "      <th>지역명</th>\n",
       "      <th>규모구분</th>\n",
       "      <th>연도</th>\n",
       "      <th>월</th>\n",
       "      <th>분양가격(㎡)</th>\n",
       "    </tr>\n",
       "  </thead>\n",
       "  <tbody>\n",
       "    <tr>\n",
       "      <td>0</td>\n",
       "      <td>서울</td>\n",
       "      <td>전체</td>\n",
       "      <td>2015</td>\n",
       "      <td>10</td>\n",
       "      <td>5841</td>\n",
       "    </tr>\n",
       "    <tr>\n",
       "      <td>1</td>\n",
       "      <td>서울</td>\n",
       "      <td>전용면적 60㎡이하</td>\n",
       "      <td>2015</td>\n",
       "      <td>10</td>\n",
       "      <td>5652</td>\n",
       "    </tr>\n",
       "    <tr>\n",
       "      <td>2</td>\n",
       "      <td>서울</td>\n",
       "      <td>전용면적 60㎡초과 85㎡이하</td>\n",
       "      <td>2015</td>\n",
       "      <td>10</td>\n",
       "      <td>5882</td>\n",
       "    </tr>\n",
       "    <tr>\n",
       "      <td>3</td>\n",
       "      <td>서울</td>\n",
       "      <td>전용면적 85㎡초과 102㎡이하</td>\n",
       "      <td>2015</td>\n",
       "      <td>10</td>\n",
       "      <td>5721</td>\n",
       "    </tr>\n",
       "    <tr>\n",
       "      <td>4</td>\n",
       "      <td>서울</td>\n",
       "      <td>전용면적 102㎡초과</td>\n",
       "      <td>2015</td>\n",
       "      <td>10</td>\n",
       "      <td>5879</td>\n",
       "    </tr>\n",
       "  </tbody>\n",
       "</table>\n",
       "</div>"
      ],
      "text/plain": [
       "  지역명               규모구분    연도   월 분양가격(㎡)\n",
       "0  서울                 전체  2015  10    5841\n",
       "1  서울         전용면적 60㎡이하  2015  10    5652\n",
       "2  서울   전용면적 60㎡초과 85㎡이하  2015  10    5882\n",
       "3  서울  전용면적 85㎡초과 102㎡이하  2015  10    5721\n",
       "4  서울        전용면적 102㎡초과  2015  10    5879"
      ]
     },
     "execution_count": 173,
     "metadata": {},
     "output_type": "execute_result"
    }
   ],
   "source": [
    "pre_sale.head()"
   ]
  },
  {
   "cell_type": "code",
   "execution_count": 179,
   "metadata": {},
   "outputs": [
    {
     "data": {
      "text/plain": [
       "<matplotlib.axes._subplots.AxesSubplot at 0x18ed61459c8>"
      ]
     },
     "execution_count": 179,
     "metadata": {},
     "output_type": "execute_result"
    },
    {
     "data": {
      "image/png": "[encoded data removed]",
      "text/plain": [
       "<Figure size 1296x432 with 2 Axes>"
      ]
     },
     "metadata": {
      "image/png": {
       "height": 433,
       "width": 1079
      },
      "needs_background": "light"
     },
     "output_type": "display_data"
    }
   ],
   "source": [
    "import missingno as msno #결측치나 누락치를 확인할수있는 도구!\n",
    "msno.matrix(pre_sale, figsize=(18,6)) "
   ]
  },
  {
   "cell_type": "code",
   "execution_count": 180,
   "metadata": {},
   "outputs": [
    {
     "data": {
      "text/plain": [
       "지역명          0\n",
       "규모구분         0\n",
       "연도           0\n",
       "월            0\n",
       "분양가격(㎡)    268\n",
       "dtype: int64"
      ]
     },
     "execution_count": 180,
     "metadata": {},
     "output_type": "execute_result"
    }
   ],
   "source": [
    "pre_sale.isnull().sum()"
   ]
  },
  {
   "cell_type": "code",
   "execution_count": 181,
   "metadata": {},
   "outputs": [
    {
     "data": {
      "text/html": [
       "<div>\n",
       "<style scoped>\n",
       "    .dataframe tbody tr th:only-of-type {\n",
       "        vertical-align: middle;\n",
       "    }\n",
       "\n",
       "    .dataframe tbody tr th {\n",
       "        vertical-align: top;\n",
       "    }\n",
       "\n",
       "    .dataframe thead th {\n",
       "        text-align: right;\n",
       "    }\n",
       "</style>\n",
       "<table border=\"1\" class=\"dataframe\">\n",
       "  <thead>\n",
       "    <tr style=\"text-align: right;\">\n",
       "      <th></th>\n",
       "      <th>지역명</th>\n",
       "      <th>규모구분</th>\n",
       "      <th>연도</th>\n",
       "      <th>월</th>\n",
       "      <th>분양가격(㎡)</th>\n",
       "    </tr>\n",
       "  </thead>\n",
       "  <tbody>\n",
       "    <tr>\n",
       "      <td>4245</td>\n",
       "      <td>제주</td>\n",
       "      <td>전체</td>\n",
       "      <td>2019</td>\n",
       "      <td>11</td>\n",
       "      <td>3882</td>\n",
       "    </tr>\n",
       "    <tr>\n",
       "      <td>4246</td>\n",
       "      <td>제주</td>\n",
       "      <td>전용면적 60㎡이하</td>\n",
       "      <td>2019</td>\n",
       "      <td>11</td>\n",
       "      <td>NaN</td>\n",
       "    </tr>\n",
       "    <tr>\n",
       "      <td>4247</td>\n",
       "      <td>제주</td>\n",
       "      <td>전용면적 60㎡초과 85㎡이하</td>\n",
       "      <td>2019</td>\n",
       "      <td>11</td>\n",
       "      <td>3898</td>\n",
       "    </tr>\n",
       "    <tr>\n",
       "      <td>4248</td>\n",
       "      <td>제주</td>\n",
       "      <td>전용면적 85㎡초과 102㎡이하</td>\n",
       "      <td>2019</td>\n",
       "      <td>11</td>\n",
       "      <td>NaN</td>\n",
       "    </tr>\n",
       "    <tr>\n",
       "      <td>4249</td>\n",
       "      <td>제주</td>\n",
       "      <td>전용면적 102㎡초과</td>\n",
       "      <td>2019</td>\n",
       "      <td>11</td>\n",
       "      <td>3601</td>\n",
       "    </tr>\n",
       "  </tbody>\n",
       "</table>\n",
       "</div>"
      ],
      "text/plain": [
       "     지역명               규모구분    연도   월 분양가격(㎡)\n",
       "4245  제주                 전체  2019  11    3882\n",
       "4246  제주         전용면적 60㎡이하  2019  11     NaN\n",
       "4247  제주   전용면적 60㎡초과 85㎡이하  2019  11    3898\n",
       "4248  제주  전용면적 85㎡초과 102㎡이하  2019  11     NaN\n",
       "4249  제주        전용면적 102㎡초과  2019  11    3601"
      ]
     },
     "execution_count": 181,
     "metadata": {},
     "output_type": "execute_result"
    }
   ],
   "source": [
    "pre_sale.tail()"
   ]
  },
  {
   "cell_type": "raw",
   "metadata": {},
   "source": [
    "pre_sale.info()"
   ]
  },
  {
   "cell_type": "code",
   "execution_count": 182,
   "metadata": {},
   "outputs": [],
   "source": [
    "pre_sale_price = pre_sale['분양가격(㎡)']"
   ]
  },
  {
   "cell_type": "code",
   "execution_count": 183,
   "metadata": {},
   "outputs": [],
   "source": [
    "#연도와 월은 카테고리 형태의 데이터 이기 때문에 스트링 형태로 변경\n",
    "pre_sale['연도'] = pre_sale['연도'].astype(str)\n",
    "pre_sale['월'] = pre_sale['월'].astype(str)"
   ]
  },
  {
   "cell_type": "code",
   "execution_count": 184,
   "metadata": {},
   "outputs": [],
   "source": [
    "# 분양가격의 타입을 숫자로 변경\n",
    "pre_sale['분양가격'] = pd.to_numeric(pre_sale_price, errors='coerce')\n",
    "# 평당 분양가격을 구하세요\n",
    "pre_sale['평당분양가격'] = pre_sale['분양가격'] * 3.3"
   ]
  },
  {
   "cell_type": "code",
   "execution_count": 185,
   "metadata": {},
   "outputs": [],
   "source": [
    "pre_sale['평당분양가격'] = pre_sale['분양가격'] * 3.3"
   ]
  },
  {
   "cell_type": "code",
   "execution_count": 186,
   "metadata": {},
   "outputs": [
    {
     "data": {
      "text/html": [
       "<div>\n",
       "<style scoped>\n",
       "    .dataframe tbody tr th:only-of-type {\n",
       "        vertical-align: middle;\n",
       "    }\n",
       "\n",
       "    .dataframe tbody tr th {\n",
       "        vertical-align: top;\n",
       "    }\n",
       "\n",
       "    .dataframe thead th {\n",
       "        text-align: right;\n",
       "    }\n",
       "</style>\n",
       "<table border=\"1\" class=\"dataframe\">\n",
       "  <thead>\n",
       "    <tr style=\"text-align: right;\">\n",
       "      <th></th>\n",
       "      <th>지역명</th>\n",
       "      <th>규모구분</th>\n",
       "      <th>연도</th>\n",
       "      <th>월</th>\n",
       "      <th>분양가격(㎡)</th>\n",
       "      <th>분양가격</th>\n",
       "      <th>평당분양가격</th>\n",
       "    </tr>\n",
       "  </thead>\n",
       "  <tbody>\n",
       "    <tr>\n",
       "      <td>0</td>\n",
       "      <td>서울</td>\n",
       "      <td>전체</td>\n",
       "      <td>2015</td>\n",
       "      <td>10</td>\n",
       "      <td>5841</td>\n",
       "      <td>5841.0</td>\n",
       "      <td>19275.3</td>\n",
       "    </tr>\n",
       "    <tr>\n",
       "      <td>1</td>\n",
       "      <td>서울</td>\n",
       "      <td>전용면적 60㎡이하</td>\n",
       "      <td>2015</td>\n",
       "      <td>10</td>\n",
       "      <td>5652</td>\n",
       "      <td>5652.0</td>\n",
       "      <td>18651.6</td>\n",
       "    </tr>\n",
       "    <tr>\n",
       "      <td>2</td>\n",
       "      <td>서울</td>\n",
       "      <td>전용면적 60㎡초과 85㎡이하</td>\n",
       "      <td>2015</td>\n",
       "      <td>10</td>\n",
       "      <td>5882</td>\n",
       "      <td>5882.0</td>\n",
       "      <td>19410.6</td>\n",
       "    </tr>\n",
       "    <tr>\n",
       "      <td>3</td>\n",
       "      <td>서울</td>\n",
       "      <td>전용면적 85㎡초과 102㎡이하</td>\n",
       "      <td>2015</td>\n",
       "      <td>10</td>\n",
       "      <td>5721</td>\n",
       "      <td>5721.0</td>\n",
       "      <td>18879.3</td>\n",
       "    </tr>\n",
       "    <tr>\n",
       "      <td>4</td>\n",
       "      <td>서울</td>\n",
       "      <td>전용면적 102㎡초과</td>\n",
       "      <td>2015</td>\n",
       "      <td>10</td>\n",
       "      <td>5879</td>\n",
       "      <td>5879.0</td>\n",
       "      <td>19400.7</td>\n",
       "    </tr>\n",
       "    <tr>\n",
       "      <td>...</td>\n",
       "      <td>...</td>\n",
       "      <td>...</td>\n",
       "      <td>...</td>\n",
       "      <td>...</td>\n",
       "      <td>...</td>\n",
       "      <td>...</td>\n",
       "      <td>...</td>\n",
       "    </tr>\n",
       "    <tr>\n",
       "      <td>4245</td>\n",
       "      <td>제주</td>\n",
       "      <td>전체</td>\n",
       "      <td>2019</td>\n",
       "      <td>11</td>\n",
       "      <td>3882</td>\n",
       "      <td>3882.0</td>\n",
       "      <td>12810.6</td>\n",
       "    </tr>\n",
       "    <tr>\n",
       "      <td>4246</td>\n",
       "      <td>제주</td>\n",
       "      <td>전용면적 60㎡이하</td>\n",
       "      <td>2019</td>\n",
       "      <td>11</td>\n",
       "      <td>NaN</td>\n",
       "      <td>NaN</td>\n",
       "      <td>NaN</td>\n",
       "    </tr>\n",
       "    <tr>\n",
       "      <td>4247</td>\n",
       "      <td>제주</td>\n",
       "      <td>전용면적 60㎡초과 85㎡이하</td>\n",
       "      <td>2019</td>\n",
       "      <td>11</td>\n",
       "      <td>3898</td>\n",
       "      <td>3898.0</td>\n",
       "      <td>12863.4</td>\n",
       "    </tr>\n",
       "    <tr>\n",
       "      <td>4248</td>\n",
       "      <td>제주</td>\n",
       "      <td>전용면적 85㎡초과 102㎡이하</td>\n",
       "      <td>2019</td>\n",
       "      <td>11</td>\n",
       "      <td>NaN</td>\n",
       "      <td>NaN</td>\n",
       "      <td>NaN</td>\n",
       "    </tr>\n",
       "    <tr>\n",
       "      <td>4249</td>\n",
       "      <td>제주</td>\n",
       "      <td>전용면적 102㎡초과</td>\n",
       "      <td>2019</td>\n",
       "      <td>11</td>\n",
       "      <td>3601</td>\n",
       "      <td>3601.0</td>\n",
       "      <td>11883.3</td>\n",
       "    </tr>\n",
       "  </tbody>\n",
       "</table>\n",
       "<p>4250 rows × 7 columns</p>\n",
       "</div>"
      ],
      "text/plain": [
       "     지역명               규모구분    연도   월 분양가격(㎡)    분양가격   평당분양가격\n",
       "0     서울                 전체  2015  10    5841  5841.0  19275.3\n",
       "1     서울         전용면적 60㎡이하  2015  10    5652  5652.0  18651.6\n",
       "2     서울   전용면적 60㎡초과 85㎡이하  2015  10    5882  5882.0  19410.6\n",
       "3     서울  전용면적 85㎡초과 102㎡이하  2015  10    5721  5721.0  18879.3\n",
       "4     서울        전용면적 102㎡초과  2015  10    5879  5879.0  19400.7\n",
       "...   ..                ...   ...  ..     ...     ...      ...\n",
       "4245  제주                 전체  2019  11    3882  3882.0  12810.6\n",
       "4246  제주         전용면적 60㎡이하  2019  11     NaN     NaN      NaN\n",
       "4247  제주   전용면적 60㎡초과 85㎡이하  2019  11    3898  3898.0  12863.4\n",
       "4248  제주  전용면적 85㎡초과 102㎡이하  2019  11     NaN     NaN      NaN\n",
       "4249  제주        전용면적 102㎡초과  2019  11    3601  3601.0  11883.3\n",
       "\n",
       "[4250 rows x 7 columns]"
      ]
     },
     "execution_count": 186,
     "metadata": {},
     "output_type": "execute_result"
    }
   ],
   "source": [
    "pre_sale"
   ]
  },
  {
   "cell_type": "code",
   "execution_count": 187,
   "metadata": {},
   "outputs": [
    {
     "data": {
      "text/html": [
       "<div>\n",
       "<style scoped>\n",
       "    .dataframe tbody tr th:only-of-type {\n",
       "        vertical-align: middle;\n",
       "    }\n",
       "\n",
       "    .dataframe tbody tr th {\n",
       "        vertical-align: top;\n",
       "    }\n",
       "\n",
       "    .dataframe thead th {\n",
       "        text-align: right;\n",
       "    }\n",
       "</style>\n",
       "<table border=\"1\" class=\"dataframe\">\n",
       "  <thead>\n",
       "    <tr style=\"text-align: right;\">\n",
       "      <th></th>\n",
       "      <th>분양가격</th>\n",
       "      <th>평당분양가격</th>\n",
       "    </tr>\n",
       "  </thead>\n",
       "  <tbody>\n",
       "    <tr>\n",
       "      <td>count</td>\n",
       "      <td>3881.000000</td>\n",
       "      <td>3881.000000</td>\n",
       "    </tr>\n",
       "    <tr>\n",
       "      <td>mean</td>\n",
       "      <td>3226.634115</td>\n",
       "      <td>10647.892579</td>\n",
       "    </tr>\n",
       "    <tr>\n",
       "      <td>std</td>\n",
       "      <td>1251.823684</td>\n",
       "      <td>4131.018156</td>\n",
       "    </tr>\n",
       "    <tr>\n",
       "      <td>min</td>\n",
       "      <td>1868.000000</td>\n",
       "      <td>6164.400000</td>\n",
       "    </tr>\n",
       "    <tr>\n",
       "      <td>25%</td>\n",
       "      <td>2431.000000</td>\n",
       "      <td>8022.300000</td>\n",
       "    </tr>\n",
       "    <tr>\n",
       "      <td>50%</td>\n",
       "      <td>2867.000000</td>\n",
       "      <td>9461.100000</td>\n",
       "    </tr>\n",
       "    <tr>\n",
       "      <td>75%</td>\n",
       "      <td>3545.000000</td>\n",
       "      <td>11698.500000</td>\n",
       "    </tr>\n",
       "    <tr>\n",
       "      <td>max</td>\n",
       "      <td>12728.000000</td>\n",
       "      <td>42002.400000</td>\n",
       "    </tr>\n",
       "  </tbody>\n",
       "</table>\n",
       "</div>"
      ],
      "text/plain": [
       "               분양가격        평당분양가격\n",
       "count   3881.000000   3881.000000\n",
       "mean    3226.634115  10647.892579\n",
       "std     1251.823684   4131.018156\n",
       "min     1868.000000   6164.400000\n",
       "25%     2431.000000   8022.300000\n",
       "50%     2867.000000   9461.100000\n",
       "75%     3545.000000  11698.500000\n",
       "max    12728.000000  42002.400000"
      ]
     },
     "execution_count": 187,
     "metadata": {},
     "output_type": "execute_result"
    }
   ],
   "source": [
    "pre_sale.describe()"
   ]
  },
  {
   "cell_type": "markdown",
   "metadata": {},
   "source": [
    "---"
   ]
  },
  {
   "cell_type": "code",
   "execution_count": 188,
   "metadata": {},
   "outputs": [
    {
     "data": {
      "text/html": [
       "<div>\n",
       "<style scoped>\n",
       "    .dataframe tbody tr th:only-of-type {\n",
       "        vertical-align: middle;\n",
       "    }\n",
       "\n",
       "    .dataframe tbody tr th {\n",
       "        vertical-align: top;\n",
       "    }\n",
       "\n",
       "    .dataframe thead th {\n",
       "        text-align: right;\n",
       "    }\n",
       "</style>\n",
       "<table border=\"1\" class=\"dataframe\">\n",
       "  <thead>\n",
       "    <tr style=\"text-align: right;\">\n",
       "      <th></th>\n",
       "      <th>연도</th>\n",
       "      <th>2015</th>\n",
       "      <th>2016</th>\n",
       "      <th>2017</th>\n",
       "      <th>2018</th>\n",
       "      <th>2019</th>\n",
       "    </tr>\n",
       "  </thead>\n",
       "  <tbody>\n",
       "    <tr>\n",
       "      <td rowspan=\"8\" valign=\"top\">분양가격</td>\n",
       "      <td>count</td>\n",
       "      <td>243</td>\n",
       "      <td>984</td>\n",
       "      <td>899</td>\n",
       "      <td>919</td>\n",
       "      <td>836</td>\n",
       "    </tr>\n",
       "    <tr>\n",
       "      <td>mean</td>\n",
       "      <td>2,789</td>\n",
       "      <td>2,934</td>\n",
       "      <td>3,140</td>\n",
       "      <td>3,327</td>\n",
       "      <td>3,681</td>\n",
       "    </tr>\n",
       "    <tr>\n",
       "      <td>std</td>\n",
       "      <td>977</td>\n",
       "      <td>1,071</td>\n",
       "      <td>1,108</td>\n",
       "      <td>1,186</td>\n",
       "      <td>1,551</td>\n",
       "    </tr>\n",
       "    <tr>\n",
       "      <td>min</td>\n",
       "      <td>1,868</td>\n",
       "      <td>1,900</td>\n",
       "      <td>1,976</td>\n",
       "      <td>2,076</td>\n",
       "      <td>2,124</td>\n",
       "    </tr>\n",
       "    <tr>\n",
       "      <td>25%</td>\n",
       "      <td>2,225</td>\n",
       "      <td>2,282</td>\n",
       "      <td>2,365</td>\n",
       "      <td>2,525</td>\n",
       "      <td>2,634</td>\n",
       "    </tr>\n",
       "    <tr>\n",
       "      <td>50%</td>\n",
       "      <td>2,516</td>\n",
       "      <td>2,672</td>\n",
       "      <td>2,849</td>\n",
       "      <td>2,952</td>\n",
       "      <td>3,395</td>\n",
       "    </tr>\n",
       "    <tr>\n",
       "      <td>75%</td>\n",
       "      <td>3,026</td>\n",
       "      <td>3,148</td>\n",
       "      <td>3,456</td>\n",
       "      <td>3,698</td>\n",
       "      <td>4,066</td>\n",
       "    </tr>\n",
       "    <tr>\n",
       "      <td>max</td>\n",
       "      <td>7,092</td>\n",
       "      <td>8,096</td>\n",
       "      <td>7,887</td>\n",
       "      <td>8,098</td>\n",
       "      <td>12,728</td>\n",
       "    </tr>\n",
       "    <tr>\n",
       "      <td rowspan=\"8\" valign=\"top\">평당분양가격</td>\n",
       "      <td>count</td>\n",
       "      <td>243</td>\n",
       "      <td>984</td>\n",
       "      <td>899</td>\n",
       "      <td>919</td>\n",
       "      <td>836</td>\n",
       "    </tr>\n",
       "    <tr>\n",
       "      <td>mean</td>\n",
       "      <td>9,203</td>\n",
       "      <td>9,683</td>\n",
       "      <td>10,360</td>\n",
       "      <td>10,979</td>\n",
       "      <td>12,149</td>\n",
       "    </tr>\n",
       "    <tr>\n",
       "      <td>std</td>\n",
       "      <td>3,224</td>\n",
       "      <td>3,536</td>\n",
       "      <td>3,655</td>\n",
       "      <td>3,914</td>\n",
       "      <td>5,117</td>\n",
       "    </tr>\n",
       "    <tr>\n",
       "      <td>min</td>\n",
       "      <td>6,164</td>\n",
       "      <td>6,270</td>\n",
       "      <td>6,521</td>\n",
       "      <td>6,851</td>\n",
       "      <td>7,009</td>\n",
       "    </tr>\n",
       "    <tr>\n",
       "      <td>25%</td>\n",
       "      <td>7,342</td>\n",
       "      <td>7,531</td>\n",
       "      <td>7,804</td>\n",
       "      <td>8,332</td>\n",
       "      <td>8,692</td>\n",
       "    </tr>\n",
       "    <tr>\n",
       "      <td>50%</td>\n",
       "      <td>8,303</td>\n",
       "      <td>8,818</td>\n",
       "      <td>9,402</td>\n",
       "      <td>9,742</td>\n",
       "      <td>11,204</td>\n",
       "    </tr>\n",
       "    <tr>\n",
       "      <td>75%</td>\n",
       "      <td>9,984</td>\n",
       "      <td>10,390</td>\n",
       "      <td>11,405</td>\n",
       "      <td>12,203</td>\n",
       "      <td>13,418</td>\n",
       "    </tr>\n",
       "    <tr>\n",
       "      <td>max</td>\n",
       "      <td>23,404</td>\n",
       "      <td>26,717</td>\n",
       "      <td>26,027</td>\n",
       "      <td>26,723</td>\n",
       "      <td>42,002</td>\n",
       "    </tr>\n",
       "  </tbody>\n",
       "</table>\n",
       "</div>"
      ],
      "text/plain": [
       "연도             2015   2016   2017   2018   2019\n",
       "분양가격   count    243    984    899    919    836\n",
       "       mean   2,789  2,934  3,140  3,327  3,681\n",
       "       std      977  1,071  1,108  1,186  1,551\n",
       "       min    1,868  1,900  1,976  2,076  2,124\n",
       "       25%    2,225  2,282  2,365  2,525  2,634\n",
       "       50%    2,516  2,672  2,849  2,952  3,395\n",
       "       75%    3,026  3,148  3,456  3,698  4,066\n",
       "       max    7,092  8,096  7,887  8,098 12,728\n",
       "평당분양가격 count    243    984    899    919    836\n",
       "       mean   9,203  9,683 10,360 10,979 12,149\n",
       "       std    3,224  3,536  3,655  3,914  5,117\n",
       "       min    6,164  6,270  6,521  6,851  7,009\n",
       "       25%    7,342  7,531  7,804  8,332  8,692\n",
       "       50%    8,303  8,818  9,402  9,742 11,204\n",
       "       75%    9,984 10,390 11,405 12,203 13,418\n",
       "       max   23,404 26,717 26,027 26,723 42,002"
      ]
     },
     "execution_count": 188,
     "metadata": {},
     "output_type": "execute_result"
    }
   ],
   "source": [
    "#숫자를 읽기 쉽게 하기 위해 지정\n",
    "pd.options.display.float_format = '{:,.0f}'.format\n",
    "#분양 가격만 봤을때 2015년에서 2018년으로 갈수록 오른것을 확인할수있다\n",
    "pre_sale.groupby(pre_sale.연도).describe().T"
   ]
  },
  {
   "cell_type": "code",
   "execution_count": 189,
   "metadata": {},
   "outputs": [
    {
     "data": {
      "text/html": [
       "<div>\n",
       "<style scoped>\n",
       "    .dataframe tbody tr th:only-of-type {\n",
       "        vertical-align: middle;\n",
       "    }\n",
       "\n",
       "    .dataframe tbody tr th {\n",
       "        vertical-align: top;\n",
       "    }\n",
       "\n",
       "    .dataframe thead th {\n",
       "        text-align: right;\n",
       "    }\n",
       "</style>\n",
       "<table border=\"1\" class=\"dataframe\">\n",
       "  <thead>\n",
       "    <tr style=\"text-align: right;\">\n",
       "      <th>연도</th>\n",
       "      <th>2015</th>\n",
       "      <th>2016</th>\n",
       "      <th>2017</th>\n",
       "      <th>2018</th>\n",
       "      <th>2019</th>\n",
       "    </tr>\n",
       "    <tr>\n",
       "      <th>규모구분</th>\n",
       "      <th></th>\n",
       "      <th></th>\n",
       "      <th></th>\n",
       "      <th></th>\n",
       "      <th></th>\n",
       "    </tr>\n",
       "  </thead>\n",
       "  <tbody>\n",
       "    <tr>\n",
       "      <td>전용면적 102㎡초과</td>\n",
       "      <td>9,837</td>\n",
       "      <td>10,389</td>\n",
       "      <td>11,334</td>\n",
       "      <td>11,446</td>\n",
       "      <td>13,288</td>\n",
       "    </tr>\n",
       "    <tr>\n",
       "      <td>전용면적 60㎡이하</td>\n",
       "      <td>8,952</td>\n",
       "      <td>9,399</td>\n",
       "      <td>10,246</td>\n",
       "      <td>10,844</td>\n",
       "      <td>11,480</td>\n",
       "    </tr>\n",
       "    <tr>\n",
       "      <td>전용면적 60㎡초과 85㎡이하</td>\n",
       "      <td>8,892</td>\n",
       "      <td>9,296</td>\n",
       "      <td>9,825</td>\n",
       "      <td>10,651</td>\n",
       "      <td>11,662</td>\n",
       "    </tr>\n",
       "    <tr>\n",
       "      <td>전용면적 85㎡초과 102㎡이하</td>\n",
       "      <td>9,519</td>\n",
       "      <td>10,122</td>\n",
       "      <td>10,540</td>\n",
       "      <td>11,442</td>\n",
       "      <td>12,865</td>\n",
       "    </tr>\n",
       "    <tr>\n",
       "      <td>전체</td>\n",
       "      <td>8,893</td>\n",
       "      <td>9,293</td>\n",
       "      <td>9,901</td>\n",
       "      <td>10,676</td>\n",
       "      <td>11,580</td>\n",
       "    </tr>\n",
       "  </tbody>\n",
       "</table>\n",
       "</div>"
      ],
      "text/plain": [
       "연도                 2015   2016   2017   2018   2019\n",
       "규모구분                                               \n",
       "전용면적 102㎡초과       9,837 10,389 11,334 11,446 13,288\n",
       "전용면적 60㎡이하        8,952  9,399 10,246 10,844 11,480\n",
       "전용면적 60㎡초과 85㎡이하  8,892  9,296  9,825 10,651 11,662\n",
       "전용면적 85㎡초과 102㎡이하 9,519 10,122 10,540 11,442 12,865\n",
       "전체                8,893  9,293  9,901 10,676 11,580"
      ]
     },
     "execution_count": 189,
     "metadata": {},
     "output_type": "execute_result"
    }
   ],
   "source": [
    "pre_sale.pivot_table('평당분양가격', '규모구분', '연도')"
   ]
  },
  {
   "cell_type": "code",
   "execution_count": 196,
   "metadata": {},
   "outputs": [],
   "source": [
    "# 규모구분에서 전체로 되어있는 데이터만 가져온다.\n",
    "region_year_all = pre_sale.loc[pre_sale['규모구분'] == '전체']\n",
    "region_year = region_year_all.pivot_table('평당분양가격', '지역명', '연도').reset_index()"
   ]
  },
  {
   "cell_type": "code",
   "execution_count": 194,
   "metadata": {},
   "outputs": [],
   "source": [
    "region_year['변동액'] = (region_year['2019'] - region_year['2015']).astype(int)\n",
    "max_delta_price = np.max(region_year['변동액'])*1000\n",
    "min_delta_price = np.min(region_year['변동액'])*1000\n",
    "mean_delta_price = np.mean(region_year['변동액'])*1000"
   ]
  },
  {
   "cell_type": "code",
   "execution_count": 195,
   "metadata": {},
   "outputs": [
    {
     "name": "stdout",
     "output_type": "stream",
     "text": [
      "2015년부터 2019년까지 분양가는 계속 상승~~~ 상승액이 가장 큰 지역은 제주 상승액은 평당6,394,000원이다\n",
      "상승액이 가장 작은 지역은 울산 상승액은 평당-147,000원이다\n",
      "전국 평균 변동액  평당2,614,706원이다\n"
     ]
    }
   ],
   "source": [
    "print('''2015년부터 2019년까지 분양가는 계속 상승~~~ 상승액이 가장 큰 지역은 제주 상승액은 평당{:,.0f}원이다'''.format(max_delta_price))\n",
    "print('''상승액이 가장 작은 지역은 울산 상승액은 평당{:,.0f}원이다'''.format(min_delta_price))\n",
    "print('''전국 평균 변동액  평당{:,.0f}원이다'''.format(mean_delta_price))"
   ]
  },
  {
   "cell_type": "code",
   "execution_count": 197,
   "metadata": {},
   "outputs": [
    {
     "data": {
      "text/html": [
       "<div>\n",
       "<style scoped>\n",
       "    .dataframe tbody tr th:only-of-type {\n",
       "        vertical-align: middle;\n",
       "    }\n",
       "\n",
       "    .dataframe tbody tr th {\n",
       "        vertical-align: top;\n",
       "    }\n",
       "\n",
       "    .dataframe thead th {\n",
       "        text-align: right;\n",
       "    }\n",
       "</style>\n",
       "<table border=\"1\" class=\"dataframe\">\n",
       "  <thead>\n",
       "    <tr style=\"text-align: right;\">\n",
       "      <th>연도</th>\n",
       "      <th>지역명</th>\n",
       "      <th>2015</th>\n",
       "      <th>2016</th>\n",
       "      <th>2017</th>\n",
       "      <th>2018</th>\n",
       "      <th>2019</th>\n",
       "    </tr>\n",
       "  </thead>\n",
       "  <tbody>\n",
       "    <tr>\n",
       "      <td>0</td>\n",
       "      <td>강원</td>\n",
       "      <td>7,160</td>\n",
       "      <td>7,011</td>\n",
       "      <td>7,127</td>\n",
       "      <td>7,681</td>\n",
       "      <td>8,129</td>\n",
       "    </tr>\n",
       "    <tr>\n",
       "      <td>1</td>\n",
       "      <td>경기</td>\n",
       "      <td>10,377</td>\n",
       "      <td>11,220</td>\n",
       "      <td>11,850</td>\n",
       "      <td>13,186</td>\n",
       "      <td>14,436</td>\n",
       "    </tr>\n",
       "    <tr>\n",
       "      <td>2</td>\n",
       "      <td>경남</td>\n",
       "      <td>7,586</td>\n",
       "      <td>7,848</td>\n",
       "      <td>8,120</td>\n",
       "      <td>9,019</td>\n",
       "      <td>9,849</td>\n",
       "    </tr>\n",
       "    <tr>\n",
       "      <td>3</td>\n",
       "      <td>경북</td>\n",
       "      <td>7,171</td>\n",
       "      <td>7,361</td>\n",
       "      <td>7,795</td>\n",
       "      <td>8,505</td>\n",
       "      <td>8,788</td>\n",
       "    </tr>\n",
       "    <tr>\n",
       "      <td>4</td>\n",
       "      <td>광주</td>\n",
       "      <td>8,052</td>\n",
       "      <td>8,899</td>\n",
       "      <td>9,464</td>\n",
       "      <td>9,856</td>\n",
       "      <td>11,747</td>\n",
       "    </tr>\n",
       "    <tr>\n",
       "      <td>5</td>\n",
       "      <td>대구</td>\n",
       "      <td>9,232</td>\n",
       "      <td>10,310</td>\n",
       "      <td>11,456</td>\n",
       "      <td>12,076</td>\n",
       "      <td>13,800</td>\n",
       "    </tr>\n",
       "    <tr>\n",
       "      <td>6</td>\n",
       "      <td>대전</td>\n",
       "      <td>8,098</td>\n",
       "      <td>8,502</td>\n",
       "      <td>9,045</td>\n",
       "      <td>10,180</td>\n",
       "      <td>11,759</td>\n",
       "    </tr>\n",
       "    <tr>\n",
       "      <td>7</td>\n",
       "      <td>부산</td>\n",
       "      <td>10,307</td>\n",
       "      <td>10,430</td>\n",
       "      <td>11,578</td>\n",
       "      <td>12,998</td>\n",
       "      <td>13,144</td>\n",
       "    </tr>\n",
       "    <tr>\n",
       "      <td>8</td>\n",
       "      <td>서울</td>\n",
       "      <td>19,725</td>\n",
       "      <td>20,663</td>\n",
       "      <td>21,376</td>\n",
       "      <td>22,889</td>\n",
       "      <td>26,120</td>\n",
       "    </tr>\n",
       "    <tr>\n",
       "      <td>9</td>\n",
       "      <td>세종</td>\n",
       "      <td>8,750</td>\n",
       "      <td>8,860</td>\n",
       "      <td>9,135</td>\n",
       "      <td>10,355</td>\n",
       "      <td>11,049</td>\n",
       "    </tr>\n",
       "    <tr>\n",
       "      <td>10</td>\n",
       "      <td>울산</td>\n",
       "      <td>10,053</td>\n",
       "      <td>10,209</td>\n",
       "      <td>11,345</td>\n",
       "      <td>10,241</td>\n",
       "      <td>9,906</td>\n",
       "    </tr>\n",
       "    <tr>\n",
       "      <td>11</td>\n",
       "      <td>인천</td>\n",
       "      <td>10,484</td>\n",
       "      <td>10,532</td>\n",
       "      <td>10,737</td>\n",
       "      <td>11,274</td>\n",
       "      <td>12,583</td>\n",
       "    </tr>\n",
       "    <tr>\n",
       "      <td>12</td>\n",
       "      <td>전남</td>\n",
       "      <td>6,317</td>\n",
       "      <td>6,489</td>\n",
       "      <td>7,188</td>\n",
       "      <td>7,789</td>\n",
       "      <td>7,885</td>\n",
       "    </tr>\n",
       "    <tr>\n",
       "      <td>13</td>\n",
       "      <td>전북</td>\n",
       "      <td>6,703</td>\n",
       "      <td>6,418</td>\n",
       "      <td>7,058</td>\n",
       "      <td>7,626</td>\n",
       "      <td>8,201</td>\n",
       "    </tr>\n",
       "    <tr>\n",
       "      <td>14</td>\n",
       "      <td>제주</td>\n",
       "      <td>7,405</td>\n",
       "      <td>9,129</td>\n",
       "      <td>10,831</td>\n",
       "      <td>11,891</td>\n",
       "      <td>12,077</td>\n",
       "    </tr>\n",
       "    <tr>\n",
       "      <td>15</td>\n",
       "      <td>충남</td>\n",
       "      <td>7,115</td>\n",
       "      <td>7,331</td>\n",
       "      <td>7,456</td>\n",
       "      <td>8,013</td>\n",
       "      <td>8,597</td>\n",
       "    </tr>\n",
       "    <tr>\n",
       "      <td>16</td>\n",
       "      <td>충북</td>\n",
       "      <td>6,645</td>\n",
       "      <td>6,770</td>\n",
       "      <td>6,763</td>\n",
       "      <td>7,874</td>\n",
       "      <td>7,572</td>\n",
       "    </tr>\n",
       "  </tbody>\n",
       "</table>\n",
       "</div>"
      ],
      "text/plain": [
       "연도 지역명   2015   2016   2017   2018   2019\n",
       "0   강원  7,160  7,011  7,127  7,681  8,129\n",
       "1   경기 10,377 11,220 11,850 13,186 14,436\n",
       "2   경남  7,586  7,848  8,120  9,019  9,849\n",
       "3   경북  7,171  7,361  7,795  8,505  8,788\n",
       "4   광주  8,052  8,899  9,464  9,856 11,747\n",
       "5   대구  9,232 10,310 11,456 12,076 13,800\n",
       "6   대전  8,098  8,502  9,045 10,180 11,759\n",
       "7   부산 10,307 10,430 11,578 12,998 13,144\n",
       "8   서울 19,725 20,663 21,376 22,889 26,120\n",
       "9   세종  8,750  8,860  9,135 10,355 11,049\n",
       "10  울산 10,053 10,209 11,345 10,241  9,906\n",
       "11  인천 10,484 10,532 10,737 11,274 12,583\n",
       "12  전남  6,317  6,489  7,188  7,789  7,885\n",
       "13  전북  6,703  6,418  7,058  7,626  8,201\n",
       "14  제주  7,405  9,129 10,831 11,891 12,077\n",
       "15  충남  7,115  7,331  7,456  8,013  8,597\n",
       "16  충북  6,645  6,770  6,763  7,874  7,572"
      ]
     },
     "execution_count": 197,
     "metadata": {},
     "output_type": "execute_result"
    }
   ],
   "source": [
    "region_year"
   ]
  },
  {
   "cell_type": "markdown",
   "metadata": {},
   "source": [
    "---"
   ]
  },
  {
   "cell_type": "markdown",
   "metadata": {},
   "source": [
    "# 문제 2번"
   ]
  },
  {
   "cell_type": "code",
   "execution_count": 8,
   "metadata": {},
   "outputs": [
    {
     "data": {
      "text/plain": [
       "(22, 27)"
      ]
     },
     "execution_count": 8,
     "metadata": {},
     "output_type": "execute_result"
    }
   ],
   "source": [
    "import warnings #\n",
    "warnings.filterwarnings('ignore')\n",
    "\n",
    "import statsmodels.api as sm\n",
    "from plotnine import *\n",
    "import plotnine\n",
    "\n",
    "import pandas as pd\n",
    "import numpy as np\n",
    "\n",
    "%config InlineBackend.figure_format ='retina'\n",
    "\n",
    "import matplotlib.font_manager as fm\n",
    "fontpath = 'C:/Windows/Fonts/gulim.ttf'\n",
    "font = fm.FontProperties(fname=fontpath, size=9)\n",
    "\n",
    "import matplotlib as mpl\n",
    "mpl.font_manager._rebuild()\n",
    "mpl.pyplot.rc('font', family='gulim')\n",
    "\n",
    "pre_sale = pd.read_csv('./part6/apart2.csv', encoding='euc-kr', header=2)\n",
    "pre_sale.shape"
   ]
  },
  {
   "cell_type": "code",
   "execution_count": null,
   "metadata": {},
   "outputs": [],
   "source": []
  },
  {
   "cell_type": "code",
   "execution_count": null,
   "metadata": {},
   "outputs": [],
   "source": []
  },
  {
   "cell_type": "code",
   "execution_count": null,
   "metadata": {},
   "outputs": [],
   "source": []
  },
  {
   "cell_type": "code",
   "execution_count": null,
   "metadata": {},
   "outputs": [],
   "source": []
  },
  {
   "cell_type": "code",
   "execution_count": 1,
   "metadata": {},
   "outputs": [],
   "source": [
    "import pandas as pd\n",
    "import numpy as np\n",
    "\n",
    "\n",
    "import statsmodels.api as sm\n",
    "from plotnine import *\n",
    "import plotnine\n",
    "\n",
    "%config InlineBackend.figure_format ='retina'\n",
    "\n",
    "import matplotlib.font_manager as fm\n",
    "fontpath = 'C:/Windows/Fonts/HMFMPYUN.ttf'\n",
    "font = fm.FontProperties(fname=fontpath, size=9)\n",
    "\n",
    "import matplotlib as mpl\n",
    "mpl.font_manager._rebuild()\n",
    "mpl.pyplot.rc('font', family='HMFMPYUN')"
   ]
  },
  {
   "cell_type": "code",
   "execution_count": 2,
   "metadata": {},
   "outputs": [
    {
     "name": "stderr",
     "output_type": "stream",
     "text": [
      "C:\\Users\\admin\\Anaconda3\\lib\\site-packages\\IPython\\core\\interactiveshell.py:3058: DtypeWarning: Columns (35) have mixed types. Specify dtype option on import or set low_memory=False.\n",
      "  interactivity=interactivity, compiler=compiler, result=result)\n",
      "C:\\Users\\admin\\Anaconda3\\lib\\site-packages\\IPython\\core\\interactiveshell.py:3058: DtypeWarning: Columns (35,36) have mixed types. Specify dtype option on import or set low_memory=False.\n",
      "  interactivity=interactivity, compiler=compiler, result=result)\n"
     ]
    }
   ],
   "source": [
    "df1 = pd.read_csv('./part6/소상공인시장진흥공단_상가업소정보_201909_01.csv', encoding='utf-8')\n",
    "df2 = pd.read_csv('./part6/소상공인시장진흥공단_상가업소정보_201909_02.csv', encoding='utf-8')\n",
    "df3 = pd.read_csv('./part6/소상공인시장진흥공단_상가업소정보_201909_03.csv', encoding='utf-8')\n",
    "df4 = pd.read_csv('./part6/소상공인시장진흥공단_상가업소정보_201909_04.csv', encoding='utf-8')"
   ]
  },
  {
   "cell_type": "code",
   "execution_count": 3,
   "metadata": {},
   "outputs": [],
   "source": [
    "df = pd.concat([df1, df2, df3, df4])"
   ]
  },
  {
   "cell_type": "code",
   "execution_count": 5,
   "metadata": {},
   "outputs": [],
   "source": [
    "test = df[df['상권업종중분류명'].str.startswith('스포츠')]"
   ]
  },
  {
   "cell_type": "code",
   "execution_count": null,
   "metadata": {},
   "outputs": [],
   "source": []
  },
  {
   "cell_type": "code",
   "execution_count": 6,
   "metadata": {},
   "outputs": [
    {
     "name": "stderr",
     "output_type": "stream",
     "text": [
      "C:\\Users\\admin\\Anaconda3\\lib\\site-packages\\ipykernel_launcher.py:4: SettingWithCopyWarning: \n",
      "A value is trying to be set on a copy of a slice from a DataFrame.\n",
      "Try using .loc[row_indexer,col_indexer] = value instead\n",
      "\n",
      "See the caveats in the documentation: http://pandas.pydata.org/pandas-docs/stable/user_guide/indexing.html#returning-a-view-versus-a-copy\n",
      "  after removing the cwd from sys.path.\n"
     ]
    }
   ],
   "source": [
    "#제외할때\n",
    "shop_except_seoul = df.loc[~df['도로명주소'].str.startswith('서울')]\n",
    "shop_america = shop_except_seoul.loc[shop_except_seoul['상권업종중분류명'].str.startswith('스포츠')]\n",
    "shop_america['시도'] = shop_america['도로명주소'].str.split(' ', expand=True)[0]\n",
    "# shop_america['구군'] = shop_except_seoul['도로명주소'].str.split(' ', expand=True)[1]"
   ]
  },
  {
   "cell_type": "code",
   "execution_count": 23,
   "metadata": {},
   "outputs": [],
   "source": [
    "test1 = def mkRefdS(pre, roundN):\n",
    "    re=[pre.loc[i, j] for i in pre.index for j in pre.columns]\n",
    "    return(np.round(re, roundN)).loc[:,['경도','위도']] "
   ]
  },
  {
   "cell_type": "code",
   "execution_count": 31,
   "metadata": {},
   "outputs": [],
   "source": [
    "def mkRefdS(pre, roundN):\n",
    "    re=[pre.loc[i, j] for i in pre.index for j in pre.columns]\n",
    "    return(np.round(re, roundN))\n",
    "test=mkRefdS(test1, 2)"
   ]
  },
  {
   "cell_type": "code",
   "execution_count": 44,
   "metadata": {},
   "outputs": [
    {
     "name": "stderr",
     "output_type": "stream",
     "text": [
      "C:\\Users\\admin\\Anaconda3\\lib\\site-packages\\pandas\\core\\frame.py:4102: SettingWithCopyWarning: \n",
      "A value is trying to be set on a copy of a slice from a DataFrame\n",
      "\n",
      "See the caveats in the documentation: http://pandas.pydata.org/pandas-docs/stable/user_guide/indexing.html#returning-a-view-versus-a-copy\n",
      "  errors=errors,\n"
     ]
    }
   ],
   "source": [
    "shop_america.drop('상가업소번호', axis=1, inplace=True)"
   ]
  },
  {
   "cell_type": "code",
   "execution_count": 45,
   "metadata": {},
   "outputs": [
    {
     "data": {
      "text/html": [
       "<div>\n",
       "<style scoped>\n",
       "    .dataframe tbody tr th:only-of-type {\n",
       "        vertical-align: middle;\n",
       "    }\n",
       "\n",
       "    .dataframe tbody tr th {\n",
       "        vertical-align: top;\n",
       "    }\n",
       "\n",
       "    .dataframe thead th {\n",
       "        text-align: right;\n",
       "    }\n",
       "</style>\n",
       "<table border=\"1\" class=\"dataframe\">\n",
       "  <thead>\n",
       "    <tr style=\"text-align: right;\">\n",
       "      <th></th>\n",
       "      <th>상호명</th>\n",
       "      <th>지점명</th>\n",
       "      <th>상권업종대분류코드</th>\n",
       "      <th>상권업종대분류명</th>\n",
       "      <th>상권업종중분류코드</th>\n",
       "      <th>상권업종중분류명</th>\n",
       "      <th>상권업종소분류코드</th>\n",
       "      <th>상권업종소분류명</th>\n",
       "      <th>표준산업분류코드</th>\n",
       "      <th>표준산업분류명</th>\n",
       "      <th>...</th>\n",
       "      <th>건물명</th>\n",
       "      <th>도로명주소</th>\n",
       "      <th>구우편번호</th>\n",
       "      <th>신우편번호</th>\n",
       "      <th>동정보</th>\n",
       "      <th>층정보</th>\n",
       "      <th>호정보</th>\n",
       "      <th>경도</th>\n",
       "      <th>위도</th>\n",
       "      <th>시도</th>\n",
       "    </tr>\n",
       "  </thead>\n",
       "  <tbody>\n",
       "    <tr>\n",
       "      <td>28989</td>\n",
       "      <td>야구연습장</td>\n",
       "      <td>NaN</td>\n",
       "      <td>N</td>\n",
       "      <td>관광/여가/오락</td>\n",
       "      <td>N04</td>\n",
       "      <td>스포츠/운동</td>\n",
       "      <td>N04A01</td>\n",
       "      <td>실내야구연습장</td>\n",
       "      <td>R91139</td>\n",
       "      <td>그외 기타 스포츠시설 운영업</td>\n",
       "      <td>...</td>\n",
       "      <td>부산프라자</td>\n",
       "      <td>부산광역시 부산진구 서면로 24</td>\n",
       "      <td>614030.0</td>\n",
       "      <td>47289.0</td>\n",
       "      <td>NaN</td>\n",
       "      <td>6</td>\n",
       "      <td>NaN</td>\n",
       "      <td>129.058133</td>\n",
       "      <td>35.152937</td>\n",
       "      <td>부산광역시</td>\n",
       "    </tr>\n",
       "    <tr>\n",
       "      <td>33278</td>\n",
       "      <td>리얼스크린야구존</td>\n",
       "      <td>NaN</td>\n",
       "      <td>N</td>\n",
       "      <td>관광/여가/오락</td>\n",
       "      <td>N04</td>\n",
       "      <td>스포츠/운동</td>\n",
       "      <td>N04A01</td>\n",
       "      <td>실내야구연습장</td>\n",
       "      <td>R91139</td>\n",
       "      <td>그외 기타 스포츠시설 운영업</td>\n",
       "      <td>...</td>\n",
       "      <td>쥬디스태화신관</td>\n",
       "      <td>부산광역시 부산진구 서전로10번길 61</td>\n",
       "      <td>614030.0</td>\n",
       "      <td>47295.0</td>\n",
       "      <td>NaN</td>\n",
       "      <td>5</td>\n",
       "      <td>NaN</td>\n",
       "      <td>129.060378</td>\n",
       "      <td>35.155135</td>\n",
       "      <td>부산광역시</td>\n",
       "    </tr>\n",
       "    <tr>\n",
       "      <td>39557</td>\n",
       "      <td>yasano실내야구</td>\n",
       "      <td>NaN</td>\n",
       "      <td>N</td>\n",
       "      <td>관광/여가/오락</td>\n",
       "      <td>N04</td>\n",
       "      <td>스포츠/운동</td>\n",
       "      <td>N04A01</td>\n",
       "      <td>실내야구연습장</td>\n",
       "      <td>R91139</td>\n",
       "      <td>그외 기타 스포츠시설 운영업</td>\n",
       "      <td>...</td>\n",
       "      <td>NaN</td>\n",
       "      <td>부산광역시 부산진구 신천대로62번길 61</td>\n",
       "      <td>614030.0</td>\n",
       "      <td>47289.0</td>\n",
       "      <td>NaN</td>\n",
       "      <td>2</td>\n",
       "      <td>NaN</td>\n",
       "      <td>129.058306</td>\n",
       "      <td>35.153576</td>\n",
       "      <td>부산광역시</td>\n",
       "    </tr>\n",
       "    <tr>\n",
       "      <td>53774</td>\n",
       "      <td>해운대골프</td>\n",
       "      <td>NaN</td>\n",
       "      <td>N</td>\n",
       "      <td>관광/여가/오락</td>\n",
       "      <td>N04</td>\n",
       "      <td>스포츠/운동</td>\n",
       "      <td>N04A01</td>\n",
       "      <td>실내야구연습장</td>\n",
       "      <td>R91139</td>\n",
       "      <td>그외 기타 스포츠시설 운영업</td>\n",
       "      <td>...</td>\n",
       "      <td>대원아파트</td>\n",
       "      <td>부산광역시 해운대구 좌동순환로 252</td>\n",
       "      <td>612786.0</td>\n",
       "      <td>48107.0</td>\n",
       "      <td>NaN</td>\n",
       "      <td>3</td>\n",
       "      <td>NaN</td>\n",
       "      <td>129.180036</td>\n",
       "      <td>35.172876</td>\n",
       "      <td>부산광역시</td>\n",
       "    </tr>\n",
       "    <tr>\n",
       "      <td>77176</td>\n",
       "      <td>야구장</td>\n",
       "      <td>NaN</td>\n",
       "      <td>N</td>\n",
       "      <td>관광/여가/오락</td>\n",
       "      <td>N04</td>\n",
       "      <td>스포츠/운동</td>\n",
       "      <td>N04A01</td>\n",
       "      <td>실내야구연습장</td>\n",
       "      <td>R91139</td>\n",
       "      <td>그외 기타 스포츠시설 운영업</td>\n",
       "      <td>...</td>\n",
       "      <td>상우빌딩</td>\n",
       "      <td>부산광역시 남구 용소로8번길 10</td>\n",
       "      <td>608020.0</td>\n",
       "      <td>48499.0</td>\n",
       "      <td>NaN</td>\n",
       "      <td>1</td>\n",
       "      <td>NaN</td>\n",
       "      <td>129.099728</td>\n",
       "      <td>35.136585</td>\n",
       "      <td>부산광역시</td>\n",
       "    </tr>\n",
       "    <tr>\n",
       "      <td>...</td>\n",
       "      <td>...</td>\n",
       "      <td>...</td>\n",
       "      <td>...</td>\n",
       "      <td>...</td>\n",
       "      <td>...</td>\n",
       "      <td>...</td>\n",
       "      <td>...</td>\n",
       "      <td>...</td>\n",
       "      <td>...</td>\n",
       "      <td>...</td>\n",
       "      <td>...</td>\n",
       "      <td>...</td>\n",
       "      <td>...</td>\n",
       "      <td>...</td>\n",
       "      <td>...</td>\n",
       "      <td>...</td>\n",
       "      <td>...</td>\n",
       "      <td>...</td>\n",
       "      <td>...</td>\n",
       "      <td>...</td>\n",
       "      <td>...</td>\n",
       "    </tr>\n",
       "    <tr>\n",
       "      <td>742244</td>\n",
       "      <td>아라에프앤에프</td>\n",
       "      <td>NaN</td>\n",
       "      <td>N</td>\n",
       "      <td>관광/여가/오락</td>\n",
       "      <td>N04</td>\n",
       "      <td>스포츠/운동</td>\n",
       "      <td>N04A01</td>\n",
       "      <td>실내야구연습장</td>\n",
       "      <td>R91139</td>\n",
       "      <td>그외 기타 스포츠시설 운영업</td>\n",
       "      <td>...</td>\n",
       "      <td>디퍼아울렛타운</td>\n",
       "      <td>충청남도 서산시 안견로 242</td>\n",
       "      <td>356804.0</td>\n",
       "      <td>31983.0</td>\n",
       "      <td>NaN</td>\n",
       "      <td>2</td>\n",
       "      <td>NaN</td>\n",
       "      <td>126.456451</td>\n",
       "      <td>36.778565</td>\n",
       "      <td>충청남도</td>\n",
       "    </tr>\n",
       "    <tr>\n",
       "      <td>745403</td>\n",
       "      <td>다함께야구왕</td>\n",
       "      <td>NaN</td>\n",
       "      <td>N</td>\n",
       "      <td>관광/여가/오락</td>\n",
       "      <td>N04</td>\n",
       "      <td>스포츠/운동</td>\n",
       "      <td>N04A03</td>\n",
       "      <td>실외야구연습장</td>\n",
       "      <td>R91139</td>\n",
       "      <td>그외 기타 스포츠시설 운영업</td>\n",
       "      <td>...</td>\n",
       "      <td>NaN</td>\n",
       "      <td>제주특별자치도 제주시 노연로 43</td>\n",
       "      <td>690802.0</td>\n",
       "      <td>63081.0</td>\n",
       "      <td>NaN</td>\n",
       "      <td>4</td>\n",
       "      <td>NaN</td>\n",
       "      <td>126.484739</td>\n",
       "      <td>33.486225</td>\n",
       "      <td>제주특별자치도</td>\n",
       "    </tr>\n",
       "    <tr>\n",
       "      <td>751776</td>\n",
       "      <td>뻐끔실내낚시터</td>\n",
       "      <td>NaN</td>\n",
       "      <td>N</td>\n",
       "      <td>관광/여가/오락</td>\n",
       "      <td>N04</td>\n",
       "      <td>스포츠/운동</td>\n",
       "      <td>N04A08</td>\n",
       "      <td>실내낚시</td>\n",
       "      <td>R91231</td>\n",
       "      <td>낚시장 운영업</td>\n",
       "      <td>...</td>\n",
       "      <td>NaN</td>\n",
       "      <td>전라북도 전주시 완산구 전라감영5길 27</td>\n",
       "      <td>560013.0</td>\n",
       "      <td>55038.0</td>\n",
       "      <td>NaN</td>\n",
       "      <td>NaN</td>\n",
       "      <td>NaN</td>\n",
       "      <td>127.145821</td>\n",
       "      <td>35.817904</td>\n",
       "      <td>전라북도</td>\n",
       "    </tr>\n",
       "    <tr>\n",
       "      <td>752152</td>\n",
       "      <td>롤러스쿨</td>\n",
       "      <td>NaN</td>\n",
       "      <td>N</td>\n",
       "      <td>관광/여가/오락</td>\n",
       "      <td>N04</td>\n",
       "      <td>스포츠/운동</td>\n",
       "      <td>N04A05</td>\n",
       "      <td>롤러스케이트장</td>\n",
       "      <td>R91139</td>\n",
       "      <td>그외 기타 스포츠시설 운영업</td>\n",
       "      <td>...</td>\n",
       "      <td>NaN</td>\n",
       "      <td>전라북도 전주시 덕진구 송천중앙로 140</td>\n",
       "      <td>561818.0</td>\n",
       "      <td>54836.0</td>\n",
       "      <td>NaN</td>\n",
       "      <td>NaN</td>\n",
       "      <td>NaN</td>\n",
       "      <td>127.121551</td>\n",
       "      <td>35.859262</td>\n",
       "      <td>전라북도</td>\n",
       "    </tr>\n",
       "    <tr>\n",
       "      <td>757602</td>\n",
       "      <td>용원롤러랜드</td>\n",
       "      <td>NaN</td>\n",
       "      <td>N</td>\n",
       "      <td>관광/여가/오락</td>\n",
       "      <td>N04</td>\n",
       "      <td>스포츠/운동</td>\n",
       "      <td>N04A05</td>\n",
       "      <td>롤러스케이트장</td>\n",
       "      <td>R91139</td>\n",
       "      <td>그외 기타 스포츠시설 운영업</td>\n",
       "      <td>...</td>\n",
       "      <td>뉴타운BD</td>\n",
       "      <td>경상남도 창원시 진해구 용재로 18</td>\n",
       "      <td>645510.0</td>\n",
       "      <td>51605.0</td>\n",
       "      <td>NaN</td>\n",
       "      <td>5</td>\n",
       "      <td>NaN</td>\n",
       "      <td>128.811845</td>\n",
       "      <td>35.101861</td>\n",
       "      <td>경상남도</td>\n",
       "    </tr>\n",
       "  </tbody>\n",
       "</table>\n",
       "<p>237 rows × 39 columns</p>\n",
       "</div>"
      ],
      "text/plain": [
       "               상호명  지점명 상권업종대분류코드  상권업종대분류명 상권업종중분류코드 상권업종중분류명 상권업종소분류코드  \\\n",
       "28989        야구연습장  NaN         N  관광/여가/오락       N04   스포츠/운동    N04A01   \n",
       "33278     리얼스크린야구존  NaN         N  관광/여가/오락       N04   스포츠/운동    N04A01   \n",
       "39557   yasano실내야구  NaN         N  관광/여가/오락       N04   스포츠/운동    N04A01   \n",
       "53774        해운대골프  NaN         N  관광/여가/오락       N04   스포츠/운동    N04A01   \n",
       "77176          야구장  NaN         N  관광/여가/오락       N04   스포츠/운동    N04A01   \n",
       "...            ...  ...       ...       ...       ...      ...       ...   \n",
       "742244     아라에프앤에프  NaN         N  관광/여가/오락       N04   스포츠/운동    N04A01   \n",
       "745403      다함께야구왕  NaN         N  관광/여가/오락       N04   스포츠/운동    N04A03   \n",
       "751776     뻐끔실내낚시터  NaN         N  관광/여가/오락       N04   스포츠/운동    N04A08   \n",
       "752152        롤러스쿨  NaN         N  관광/여가/오락       N04   스포츠/운동    N04A05   \n",
       "757602      용원롤러랜드  NaN         N  관광/여가/오락       N04   스포츠/운동    N04A05   \n",
       "\n",
       "       상권업종소분류명 표준산업분류코드          표준산업분류명  ...      건물명  \\\n",
       "28989   실내야구연습장   R91139  그외 기타 스포츠시설 운영업  ...    부산프라자   \n",
       "33278   실내야구연습장   R91139  그외 기타 스포츠시설 운영업  ...  쥬디스태화신관   \n",
       "39557   실내야구연습장   R91139  그외 기타 스포츠시설 운영업  ...      NaN   \n",
       "53774   실내야구연습장   R91139  그외 기타 스포츠시설 운영업  ...    대원아파트   \n",
       "77176   실내야구연습장   R91139  그외 기타 스포츠시설 운영업  ...     상우빌딩   \n",
       "...         ...      ...              ...  ...      ...   \n",
       "742244  실내야구연습장   R91139  그외 기타 스포츠시설 운영업  ...  디퍼아울렛타운   \n",
       "745403  실외야구연습장   R91139  그외 기타 스포츠시설 운영업  ...      NaN   \n",
       "751776     실내낚시   R91231          낚시장 운영업  ...      NaN   \n",
       "752152  롤러스케이트장   R91139  그외 기타 스포츠시설 운영업  ...      NaN   \n",
       "757602  롤러스케이트장   R91139  그외 기타 스포츠시설 운영업  ...    뉴타운BD   \n",
       "\n",
       "                         도로명주소     구우편번호    신우편번호  동정보  층정보  호정보          경도  \\\n",
       "28989        부산광역시 부산진구 서면로 24  614030.0  47289.0  NaN    6  NaN  129.058133   \n",
       "33278    부산광역시 부산진구 서전로10번길 61  614030.0  47295.0  NaN    5  NaN  129.060378   \n",
       "39557   부산광역시 부산진구 신천대로62번길 61  614030.0  47289.0  NaN    2  NaN  129.058306   \n",
       "53774     부산광역시 해운대구 좌동순환로 252  612786.0  48107.0  NaN    3  NaN  129.180036   \n",
       "77176       부산광역시 남구 용소로8번길 10  608020.0  48499.0  NaN    1  NaN  129.099728   \n",
       "...                        ...       ...      ...  ...  ...  ...         ...   \n",
       "742244        충청남도 서산시 안견로 242  356804.0  31983.0  NaN    2  NaN  126.456451   \n",
       "745403      제주특별자치도 제주시 노연로 43  690802.0  63081.0  NaN    4  NaN  126.484739   \n",
       "751776  전라북도 전주시 완산구 전라감영5길 27  560013.0  55038.0  NaN  NaN  NaN  127.145821   \n",
       "752152  전라북도 전주시 덕진구 송천중앙로 140  561818.0  54836.0  NaN  NaN  NaN  127.121551   \n",
       "757602     경상남도 창원시 진해구 용재로 18  645510.0  51605.0  NaN    5  NaN  128.811845   \n",
       "\n",
       "               위도       시도  \n",
       "28989   35.152937    부산광역시  \n",
       "33278   35.155135    부산광역시  \n",
       "39557   35.153576    부산광역시  \n",
       "53774   35.172876    부산광역시  \n",
       "77176   35.136585    부산광역시  \n",
       "...           ...      ...  \n",
       "742244  36.778565     충청남도  \n",
       "745403  33.486225  제주특별자치도  \n",
       "751776  35.817904     전라북도  \n",
       "752152  35.859262     전라북도  \n",
       "757602  35.101861     경상남도  \n",
       "\n",
       "[237 rows x 39 columns]"
      ]
     },
     "execution_count": 45,
     "metadata": {},
     "output_type": "execute_result"
    }
   ],
   "source": [
    "shop_america"
   ]
  },
  {
   "cell_type": "code",
   "execution_count": 35,
   "metadata": {},
   "outputs": [
    {
     "data": {
      "text/plain": [
       "array([129.06,  35.15, 129.06,  35.16, 129.06,  35.15, 129.18,  35.17,\n",
       "       129.1 ,  35.14, 129.17,  35.16, 128.95,  35.11, 129.  ,  35.09,\n",
       "       129.11,  35.12, 129.11,  35.12, 128.99,  35.08, 129.16,  35.16,\n",
       "       128.96,  35.11, 129.24,  35.32, 129.01,  35.21, 129.08,  35.19,\n",
       "       129.09,  35.13, 129.02,  35.1 , 128.97,  35.11, 129.07,  35.17,\n",
       "       127.38,  36.33, 126.67,  37.4 , 126.7 ,  37.44, 127.46,  36.33,\n",
       "       127.34,  36.3 , 127.41,  36.33, 126.7 ,  37.44, 127.41,  36.34,\n",
       "       127.32,  36.37, 129.34,  35.54, 126.75,  37.42, 127.37,  36.35,\n",
       "       127.29,  36.6 , 126.68,  37.49, 126.68,  37.49, 127.38,  36.37,\n",
       "       128.49,  35.86, 126.83,  35.19, 126.68,  37.55, 127.38,  36.35,\n",
       "       126.73,  37.46, 127.43,  36.33, 126.67,  37.45, 128.62,  35.88,\n",
       "       129.3 ,  35.53, 126.68,  37.46, 126.67,  37.47, 128.57,  35.88,\n",
       "       126.71,  37.53, 127.38,  36.35, 128.62,  35.88, 129.31,  35.54,\n",
       "       127.3 ,  36.58, 126.72,  37.49, 126.45,  37.45, 128.68,  35.84,\n",
       "       128.54,  35.85, 127.34,  36.33, 126.74,  37.54, 127.42,  36.33,\n",
       "       129.35,  35.57, 126.67,  37.47, 128.58,  35.89, 126.89,  35.15,\n",
       "       126.74,  37.53, 129.33,  35.54, 126.91,  35.18, 128.56,  35.94,\n",
       "       129.26,  35.54, 126.74,  37.4 , 129.11,  35.57, 126.7 ,  37.45,\n",
       "       126.73,  37.49, 126.7 ,  37.47, 126.71,  37.39, 128.59,  35.89,\n",
       "       128.51,  35.85, 129.26,  35.54, 127.96,  37.32, 127.23,  37.  ,\n",
       "       127.01,  37.26, 128.89,  37.77, 126.74,  37.34, 126.69,  37.78,\n",
       "       127.03,  37.27, 126.83,  37.66, 126.73,  37.35, 126.82,  37.32,\n",
       "       127.75,  37.89, 127.47,  36.64, 126.72,  37.82, 127.39,  36.6 ,\n",
       "       127.94,  37.34, 126.77,  37.66, 127.06,  37.07, 127.  ,  37.27,\n",
       "       127.05,  37.89, 126.98,  37.4 , 126.94,  37.39, 127.11,  37.32,\n",
       "       126.78,  37.5 , 126.77,  37.66, 127.93,  37.35, 127.03,  37.27,\n",
       "       127.04,  37.28, 126.8 ,  37.33, 126.84,  37.32, 127.44,  37.28,\n",
       "       127.03,  37.29, 127.15,  37.44, 127.14,  37.44, 127.08,  37.15,\n",
       "       126.84,  37.66, 127.82,  37.31, 126.77,  37.66, 127.04,  37.73,\n",
       "       127.12,  37.39, 126.86,  37.3 , 127.2 ,  37.24, 126.84,  37.32,\n",
       "       127.74,  37.87, 127.93,  37.34, 126.95,  37.39, 127.03,  37.26,\n",
       "       126.83,  37.33, 127.47,  36.64, 126.98,  37.4 , 126.92,  37.4 ,\n",
       "       126.92,  37.4 , 126.76,  37.69, 127.99,  37.49, 127.49,  36.62,\n",
       "       126.82,  37.32, 126.75,  37.49, 128.21,  37.14, 126.78,  37.65,\n",
       "       126.85,  37.31, 127.29,  38.19, 126.78,  37.51, 127.03,  37.29,\n",
       "       126.93,  37.36, 127.94,  37.34, 127.43,  36.64, 126.77,  37.51,\n",
       "       126.94,  37.37, 127.43,  36.64, 127.04,  37.26, 127.03,  37.26,\n",
       "       127.11,  37.27, 127.31,  37.66, 126.92,  37.4 , 127.49,  37.25,\n",
       "       127.21,  37.54, 128.21,  37.15, 127.06,  37.07, 127.93,  36.99,\n",
       "       127.14,  37.44, 126.86,  37.3 , 126.92,  37.4 , 127.02,  37.26,\n",
       "       127.13,  37.39, 126.78,  37.87, 126.78,  37.48, 126.78,  37.49,\n",
       "       126.93,  37.1 , 127.26,  37.41, 126.84,  37.32, 127.11,  37.33,\n",
       "       127.44,  36.85, 127.54,  36.91, 126.75,  37.51, 126.78,  37.49,\n",
       "       126.78,  37.49, 126.78,  37.49, 126.98,  37.21, 127.1 ,  37.75,\n",
       "       127.04,  37.26, 126.84,  37.32, 127.21,  37.58, 126.72,  35.01,\n",
       "       127.91,  35.66, 127.13,  36.82, 128.61,  36.82, 127.11,  35.82,\n",
       "       127.13,  35.84, 126.5 ,  33.26, 127.43,  36.15, 129.28,  35.88,\n",
       "       127.13,  36.15, 127.21,  36.26, 127.13,  35.8 , 128.69,  35.24,\n",
       "       127.1 ,  36.8 , 128.68,  35.22, 126.69,  35.95, 128.68,  35.23,\n",
       "       127.13,  36.82, 128.32,  36.11, 126.69,  35.96, 128.45,  36.09,\n",
       "       128.58,  35.24, 127.14,  35.84, 127.13,  35.84, 127.14,  36.83,\n",
       "       127.12,  35.83, 129.22,  35.86, 127.52,  34.95, 127.21,  36.26,\n",
       "       129.4 ,  35.96, 128.86,  35.92, 127.52,  34.95, 126.99,  35.06,\n",
       "       127.11,  35.82, 126.46,  36.78, 127.66,  34.76, 129.34,  36.03,\n",
       "       128.76,  35.84, 127.13,  36.83, 127.14,  36.83, 126.54,  33.51,\n",
       "       127.13,  36.06, 126.49,  33.49, 129.04,  35.36, 128.33,  36.13,\n",
       "       129.36,  36.04, 128.11,  36.12, 126.94,  35.95, 126.79,  35.02,\n",
       "       126.79,  35.02, 126.53,  33.51, 128.42,  34.88, 128.7 ,  36.56,\n",
       "       126.46,  36.78, 126.48,  33.49, 127.15,  35.82, 127.12,  35.86,\n",
       "       128.81,  35.1 ])"
      ]
     },
     "execution_count": 35,
     "metadata": {},
     "output_type": "execute_result"
    }
   ],
   "source": [
    "test"
   ]
  },
  {
   "cell_type": "code",
   "execution_count": 43,
   "metadata": {},
   "outputs": [],
   "source": [
    "import pandas as pd\n",
    "import folium\n",
    "for a in test:\n",
    "    seoul_map = folium.Map(location=[ 37.55,126.90 ], tiles = 'Stamen Terrain', zoom_start=12)\n",
    "\n",
    "for name, lat, lng in zip(str(shop_america.index), shop_america.위도, shop_america.경도):\n",
    "    folium.Marker([lat,lng], popup=name).add_to(seoul_map)\n",
    "    \n",
    "seoul_map.save('./wegeng_colleges.html')"
   ]
  },
  {
   "cell_type": "code",
   "execution_count": 15,
   "metadata": {},
   "outputs": [
    {
     "data": {
      "text/plain": [
       "28989     129.058133\n",
       "33278     129.060378\n",
       "39557     129.058306\n",
       "53774     129.180036\n",
       "77176     129.099728\n",
       "             ...    \n",
       "742244    126.456451\n",
       "745403    126.484739\n",
       "751776    127.145821\n",
       "752152    127.121551\n",
       "757602    128.811845\n",
       "Name: 경도, Length: 237, dtype: float64"
      ]
     },
     "execution_count": 15,
     "metadata": {},
     "output_type": "execute_result"
    }
   ],
   "source": [
    "shop_america['경도']"
   ]
  },
  {
   "cell_type": "code",
   "execution_count": 66,
   "metadata": {},
   "outputs": [
    {
     "data": {
      "text/plain": [
       "991       강원도\n",
       "2580      경기도\n",
       "11225     경기도\n",
       "14914     강원도\n",
       "19182     경기도\n",
       "         ... \n",
       "847703    경기도\n",
       "850493    경기도\n",
       "854125    경기도\n",
       "861002    경기도\n",
       "861003    경기도\n",
       "Name: 시도, Length: 101, dtype: object"
      ]
     },
     "execution_count": 66,
     "metadata": {},
     "output_type": "execute_result"
    }
   ],
   "source": [
    "shop_america['시도']"
   ]
  },
  {
   "cell_type": "code",
   "execution_count": null,
   "metadata": {},
   "outputs": [],
   "source": []
  },
  {
   "cell_type": "code",
   "execution_count": 6,
   "metadata": {},
   "outputs": [
    {
     "name": "stderr",
     "output_type": "stream",
     "text": [
      "C:\\Users\\admin\\Anaconda3\\lib\\site-packages\\ipykernel_launcher.py:3: SettingWithCopyWarning: \n",
      "A value is trying to be set on a copy of a slice from a DataFrame.\n",
      "Try using .loc[row_indexer,col_indexer] = value instead\n",
      "\n",
      "See the caveats in the documentation: http://pandas.pydata.org/pandas-docs/stable/user_guide/indexing.html#returning-a-view-versus-a-copy\n",
      "  This is separate from the ipykernel package so we can avoid doing imports until\n",
      "C:\\Users\\admin\\Anaconda3\\lib\\site-packages\\ipykernel_launcher.py:4: SettingWithCopyWarning: \n",
      "A value is trying to be set on a copy of a slice from a DataFrame.\n",
      "Try using .loc[row_indexer,col_indexer] = value instead\n",
      "\n",
      "See the caveats in the documentation: http://pandas.pydata.org/pandas-docs/stable/user_guide/indexing.html#returning-a-view-versus-a-copy\n",
      "  after removing the cwd from sys.path.\n"
     ]
    }
   ],
   "source": [
    "# # 포함시킬때\n",
    "# shop_america = df.loc[df['상권업종중분류명'].str.startswith('스포츠')]\n",
    "# shop_america['시도'] = shop_america['도로명주소'].str.split(' ', expand=True)[0]\n",
    "# shop_america['구군'] = shop_america['도로명주소'].str.split(' ', expand=True)[1]"
   ]
  },
  {
   "cell_type": "code",
   "execution_count": 33,
   "metadata": {},
   "outputs": [
    {
     "name": "stderr",
     "output_type": "stream",
     "text": [
      "C:\\Users\\admin\\Anaconda3\\lib\\site-packages\\plotnine\\scales\\scale.py:93: MatplotlibDeprecationWarning: \n",
      "The iterable function was deprecated in Matplotlib 3.1 and will be removed in 3.3. Use np.iterable instead.\n",
      "  if cbook.iterable(self.breaks) and cbook.iterable(self.labels):\n",
      "C:\\Users\\admin\\Anaconda3\\lib\\site-packages\\plotnine\\utils.py:553: MatplotlibDeprecationWarning: \n",
      "The iterable function was deprecated in Matplotlib 3.1 and will be removed in 3.3. Use np.iterable instead.\n",
      "  return cbook.iterable(var) and not is_string(var)\n"
     ]
    },
    {
     "data": {
      "image/png": "[encoded data removed]",
      "text/plain": [
       "<Figure size 640x480 with 1 Axes>"
      ]
     },
     "metadata": {
      "image/png": {
       "height": 434,
       "width": 554
      }
     },
     "output_type": "display_data"
    },
    {
     "data": {
      "text/plain": [
       "<ggplot: (-9223371922908621992)>"
      ]
     },
     "execution_count": 33,
     "metadata": {},
     "output_type": "execute_result"
    }
   ],
   "source": [
    "(ggplot(shop_america)\n",
    "+ aes(x='경도', y='위도')\n",
    "+ geom_point()\n",
    "+ theme(text=element_text(fontproperties=font))\n",
    ")"
   ]
  },
  {
   "cell_type": "code",
   "execution_count": 99,
   "metadata": {},
   "outputs": [
    {
     "name": "stderr",
     "output_type": "stream",
     "text": [
      "C:\\Users\\admin\\Anaconda3\\lib\\site-packages\\plotnine\\scales\\scale.py:93: MatplotlibDeprecationWarning: \n",
      "The iterable function was deprecated in Matplotlib 3.1 and will be removed in 3.3. Use np.iterable instead.\n",
      "  if cbook.iterable(self.breaks) and cbook.iterable(self.labels):\n",
      "C:\\Users\\admin\\Anaconda3\\lib\\site-packages\\plotnine\\utils.py:553: MatplotlibDeprecationWarning: \n",
      "The iterable function was deprecated in Matplotlib 3.1 and will be removed in 3.3. Use np.iterable instead.\n",
      "  return cbook.iterable(var) and not is_string(var)\n",
      "C:\\Users\\admin\\Anaconda3\\lib\\site-packages\\plotnine\\guides\\guides.py:198: UserWarning: Cannot generate legend for the 'fill' aesthetic. Make sure you have mapped a variable to it\n",
      "  \"variable to it\".format(output))\n"
     ]
    },
    {
     "data": {
      "image/png": "[encoded data removed]",
      "text/plain": [
       "<Figure size 640x480 with 1 Axes>"
      ]
     },
     "metadata": {
      "image/png": {
       "height": 470,
       "width": 696
      }
     },
     "output_type": "display_data"
    },
    {
     "data": {
      "text/plain": [
       "<ggplot: (-9223371922793458840)>"
      ]
     },
     "execution_count": 99,
     "metadata": {},
     "output_type": "execute_result"
    }
   ],
   "source": [
    "(ggplot(shop_america)\n",
    "+ aes(x='경도', y='위도', color='시도')\n",
    "+ geom_point(alpha=0.2, size=0.2)\n",
    "+ theme(text=element_text(fontproperties=font))\n",
    "+ scale_fill_gradient(low = 'red', high = 'blue')\n",
    ")"
   ]
  },
  {
   "cell_type": "code",
   "execution_count": 274,
   "metadata": {},
   "outputs": [
    {
     "ename": "NameError",
     "evalue": "name 'shop_seoul' is not defined",
     "output_type": "error",
     "traceback": [
      "\u001b[1;31m---------------------------------------------------------------------------\u001b[0m",
      "\u001b[1;31mNameError\u001b[0m                                 Traceback (most recent call last)",
      "\u001b[1;32m<ipython-input-274-a441e366de66>\u001b[0m in \u001b[0;36m<module>\u001b[1;34m\u001b[0m\n\u001b[1;32m----> 1\u001b[1;33m \u001b[0mshop_seoul\u001b[0m\u001b[1;33m[\u001b[0m\u001b[1;34m'상권업종대분류명'\u001b[0m\u001b[1;33m]\u001b[0m\u001b[1;33m.\u001b[0m\u001b[0mvalue_counts\u001b[0m\u001b[1;33m(\u001b[0m\u001b[1;33m)\u001b[0m\u001b[1;33m\u001b[0m\u001b[1;33m\u001b[0m\u001b[0m\n\u001b[0m",
      "\u001b[1;31mNameError\u001b[0m: name 'shop_seoul' is not defined"
     ]
    }
   ],
   "source": []
  },
  {
   "cell_type": "code",
   "execution_count": null,
   "metadata": {},
   "outputs": [],
   "source": [
    "(ggplot(shop_seoul)\n",
    "+ aes(x='경도', y='위도', color='상권업종대분류명')\n",
    "+ geom_point(alpha=0.2, size=0.2)\n",
    "+ theme(text=element_text(fontproperties=font))\n",
    "+ scale_fill_gradient(low = 'blue', high = 'green')\n",
    ")"
   ]
  }
 ],
 "metadata": {
  "kernelspec": {
   "display_name": "Python 3",
   "language": "python",
   "name": "python3"
  },
  "language_info": {
   "codemirror_mode": {
    "name": "ipython",
    "version": 3
   },
   "file_extension": ".py",
   "mimetype": "text/x-python",
   "name": "python",
   "nbconvert_exporter": "python",
   "pygments_lexer": "ipython3",
   "version": "3.7.4"
  }
 },
 "nbformat": 4,
 "nbformat_minor": 2
}
