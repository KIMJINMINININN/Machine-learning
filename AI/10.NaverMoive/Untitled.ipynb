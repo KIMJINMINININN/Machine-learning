{
 "cells": [
  {
   "cell_type": "code",
   "execution_count": 3,
   "metadata": {},
   "outputs": [],
   "source": [
    "import pandas as pd\n",
    "\n",
    "train_df = pd.read_csv('C:/Users/admin/Desktop/PythonStudy0/AI/10.NaverMoive/data/moive_train_data.csv')"
   ]
  },
  {
   "cell_type": "code",
   "execution_count": 4,
   "metadata": {},
   "outputs": [
    {
     "name": "stdout",
     "output_type": "stream",
     "text": [
      "                                                    text  star\n",
      "0      재미있었으나 유해진 염정아 부부의 모습은 최악이다. 왜 여성은 남성에게 존댓말을 쓰...     1\n",
      "1      내가 예민한편은 아니라 생각했는데... 보는 내내 심각한상황이라 웃지는 못했다. 어...     0\n",
      "2                                           재밌음 ㅎㅎㅎ호ㅗㅗㅗ호     1\n",
      "3      알바들 진짜 많다..중간중간 지루함..웃는 포인트 한군데 나옴..평점믿고 봤다가 망...     0\n",
      "4      영화관에서 이렇게 크게 웃음소리난거 처음이였어요 물론 제가 아니라 주변에서..결말이...     1\n",
      "...                                                  ...   ...\n",
      "55596                                        진짜 꿀잼ㅋㅋㅋ입니다     1\n",
      "55597  재미있었으나 유해진 염정아 부부의 모습은 최악이다. 왜 여성은 남성에게 존댓말을 쓰...     1\n",
      "55598  유해진은 미스캐스팅이지만 참신한 스토리와 연출, 중간중간 코믹적 상황과 사생활에 대...     1\n",
      "55599  유해진은 미스캐스팅이지만 참신한 스토리와 연출, 중간중간 코믹적 상황과 사생활에 대...     1\n",
      "55600                              여성혐오로 가득한 한심하고 역겨운 영화     0\n",
      "\n",
      "[55601 rows x 2 columns]\n"
     ]
    }
   ],
   "source": [
    "print(train_df)"
   ]
  },
  {
   "cell_type": "code",
   "execution_count": 6,
   "metadata": {},
   "outputs": [
    {
     "data": {
      "text/html": [
       "<div>\n",
       "<style scoped>\n",
       "    .dataframe tbody tr th:only-of-type {\n",
       "        vertical-align: middle;\n",
       "    }\n",
       "\n",
       "    .dataframe tbody tr th {\n",
       "        vertical-align: top;\n",
       "    }\n",
       "\n",
       "    .dataframe thead th {\n",
       "        text-align: right;\n",
       "    }\n",
       "</style>\n",
       "<table border=\"1\" class=\"dataframe\">\n",
       "  <thead>\n",
       "    <tr style=\"text-align: right;\">\n",
       "      <th></th>\n",
       "      <th>text</th>\n",
       "      <th>star</th>\n",
       "    </tr>\n",
       "  </thead>\n",
       "  <tbody>\n",
       "    <tr>\n",
       "      <td>0</td>\n",
       "      <td>재미있었으나 유해진 염정아 부부의 모습은 최악이다. 왜 여성은 남성에게 존댓말을 쓰...</td>\n",
       "      <td>1</td>\n",
       "    </tr>\n",
       "    <tr>\n",
       "      <td>1</td>\n",
       "      <td>내가 예민한편은 아니라 생각했는데... 보는 내내 심각한상황이라 웃지는 못했다. 어...</td>\n",
       "      <td>0</td>\n",
       "    </tr>\n",
       "    <tr>\n",
       "      <td>2</td>\n",
       "      <td>재밌음 ㅎㅎㅎ호ㅗㅗㅗ호</td>\n",
       "      <td>1</td>\n",
       "    </tr>\n",
       "    <tr>\n",
       "      <td>3</td>\n",
       "      <td>알바들 진짜 많다..중간중간 지루함..웃는 포인트 한군데 나옴..평점믿고 봤다가 망...</td>\n",
       "      <td>0</td>\n",
       "    </tr>\n",
       "    <tr>\n",
       "      <td>4</td>\n",
       "      <td>영화관에서 이렇게 크게 웃음소리난거 처음이였어요 물론 제가 아니라 주변에서..결말이...</td>\n",
       "      <td>1</td>\n",
       "    </tr>\n",
       "    <tr>\n",
       "      <td>5</td>\n",
       "      <td>볼만함  커플들끼리는 보지마</td>\n",
       "      <td>1</td>\n",
       "    </tr>\n",
       "    <tr>\n",
       "      <td>6</td>\n",
       "      <td>진짜 알바들이 있긴있나보네</td>\n",
       "      <td>0</td>\n",
       "    </tr>\n",
       "    <tr>\n",
       "      <td>7</td>\n",
       "      <td>다 보고 작가가 여자일거 같다 생각했는데 역시나 ㅋㅋㅋㅋ뭔 남자만 개 쓰레기를 만들...</td>\n",
       "      <td>0</td>\n",
       "    </tr>\n",
       "    <tr>\n",
       "      <td>8</td>\n",
       "      <td>재미있었으나 유해진 염정아 부부의 모습은 최악이다. 왜 여성은 남성에게 존댓말을 쓰...</td>\n",
       "      <td>1</td>\n",
       "    </tr>\n",
       "    <tr>\n",
       "      <td>9</td>\n",
       "      <td>너무 재밌음 ㅠㅠ 엉엉누구에게나 숨기고 싶은 비밀들이 있다는 게와닿는 영화였어요</td>\n",
       "      <td>1</td>\n",
       "    </tr>\n",
       "  </tbody>\n",
       "</table>\n",
       "</div>"
      ],
      "text/plain": [
       "                                                text  star\n",
       "0  재미있었으나 유해진 염정아 부부의 모습은 최악이다. 왜 여성은 남성에게 존댓말을 쓰...     1\n",
       "1  내가 예민한편은 아니라 생각했는데... 보는 내내 심각한상황이라 웃지는 못했다. 어...     0\n",
       "2                                       재밌음 ㅎㅎㅎ호ㅗㅗㅗ호     1\n",
       "3  알바들 진짜 많다..중간중간 지루함..웃는 포인트 한군데 나옴..평점믿고 봤다가 망...     0\n",
       "4  영화관에서 이렇게 크게 웃음소리난거 처음이였어요 물론 제가 아니라 주변에서..결말이...     1\n",
       "5                                    볼만함  커플들끼리는 보지마     1\n",
       "6                                     진짜 알바들이 있긴있나보네     0\n",
       "7  다 보고 작가가 여자일거 같다 생각했는데 역시나 ㅋㅋㅋㅋ뭔 남자만 개 쓰레기를 만들...     0\n",
       "8  재미있었으나 유해진 염정아 부부의 모습은 최악이다. 왜 여성은 남성에게 존댓말을 쓰...     1\n",
       "9       너무 재밌음 ㅠㅠ 엉엉누구에게나 숨기고 싶은 비밀들이 있다는 게와닿는 영화였어요     1"
      ]
     },
     "execution_count": 6,
     "metadata": {},
     "output_type": "execute_result"
    }
   ],
   "source": [
    "train_df.iloc[0:10]"
   ]
  },
  {
   "cell_type": "code",
   "execution_count": 9,
   "metadata": {},
   "outputs": [],
   "source": [
    "train_df.drop(1, inplace=True)"
   ]
  },
  {
   "cell_type": "code",
   "execution_count": 10,
   "metadata": {},
   "outputs": [
    {
     "data": {
      "text/html": [
       "<div>\n",
       "<style scoped>\n",
       "    .dataframe tbody tr th:only-of-type {\n",
       "        vertical-align: middle;\n",
       "    }\n",
       "\n",
       "    .dataframe tbody tr th {\n",
       "        vertical-align: top;\n",
       "    }\n",
       "\n",
       "    .dataframe thead th {\n",
       "        text-align: right;\n",
       "    }\n",
       "</style>\n",
       "<table border=\"1\" class=\"dataframe\">\n",
       "  <thead>\n",
       "    <tr style=\"text-align: right;\">\n",
       "      <th></th>\n",
       "      <th>text</th>\n",
       "      <th>star</th>\n",
       "    </tr>\n",
       "  </thead>\n",
       "  <tbody>\n",
       "    <tr>\n",
       "      <td>0</td>\n",
       "      <td>재미있었으나 유해진 염정아 부부의 모습은 최악이다. 왜 여성은 남성에게 존댓말을 쓰...</td>\n",
       "      <td>1</td>\n",
       "    </tr>\n",
       "    <tr>\n",
       "      <td>2</td>\n",
       "      <td>재밌음 ㅎㅎㅎ호ㅗㅗㅗ호</td>\n",
       "      <td>1</td>\n",
       "    </tr>\n",
       "    <tr>\n",
       "      <td>3</td>\n",
       "      <td>알바들 진짜 많다..중간중간 지루함..웃는 포인트 한군데 나옴..평점믿고 봤다가 망...</td>\n",
       "      <td>0</td>\n",
       "    </tr>\n",
       "    <tr>\n",
       "      <td>4</td>\n",
       "      <td>영화관에서 이렇게 크게 웃음소리난거 처음이였어요 물론 제가 아니라 주변에서..결말이...</td>\n",
       "      <td>1</td>\n",
       "    </tr>\n",
       "    <tr>\n",
       "      <td>5</td>\n",
       "      <td>볼만함  커플들끼리는 보지마</td>\n",
       "      <td>1</td>\n",
       "    </tr>\n",
       "    <tr>\n",
       "      <td>6</td>\n",
       "      <td>진짜 알바들이 있긴있나보네</td>\n",
       "      <td>0</td>\n",
       "    </tr>\n",
       "    <tr>\n",
       "      <td>7</td>\n",
       "      <td>다 보고 작가가 여자일거 같다 생각했는데 역시나 ㅋㅋㅋㅋ뭔 남자만 개 쓰레기를 만들...</td>\n",
       "      <td>0</td>\n",
       "    </tr>\n",
       "    <tr>\n",
       "      <td>8</td>\n",
       "      <td>재미있었으나 유해진 염정아 부부의 모습은 최악이다. 왜 여성은 남성에게 존댓말을 쓰...</td>\n",
       "      <td>1</td>\n",
       "    </tr>\n",
       "    <tr>\n",
       "      <td>9</td>\n",
       "      <td>너무 재밌음 ㅠㅠ 엉엉누구에게나 숨기고 싶은 비밀들이 있다는 게와닿는 영화였어요</td>\n",
       "      <td>1</td>\n",
       "    </tr>\n",
       "    <tr>\n",
       "      <td>10</td>\n",
       "      <td>재미있었으나 유해진 염정아 부부의 모습은 최악이다. 왜 여성은 남성에게 존댓말을 쓰...</td>\n",
       "      <td>1</td>\n",
       "    </tr>\n",
       "  </tbody>\n",
       "</table>\n",
       "</div>"
      ],
      "text/plain": [
       "                                                 text  star\n",
       "0   재미있었으나 유해진 염정아 부부의 모습은 최악이다. 왜 여성은 남성에게 존댓말을 쓰...     1\n",
       "2                                        재밌음 ㅎㅎㅎ호ㅗㅗㅗ호     1\n",
       "3   알바들 진짜 많다..중간중간 지루함..웃는 포인트 한군데 나옴..평점믿고 봤다가 망...     0\n",
       "4   영화관에서 이렇게 크게 웃음소리난거 처음이였어요 물론 제가 아니라 주변에서..결말이...     1\n",
       "5                                     볼만함  커플들끼리는 보지마     1\n",
       "6                                      진짜 알바들이 있긴있나보네     0\n",
       "7   다 보고 작가가 여자일거 같다 생각했는데 역시나 ㅋㅋㅋㅋ뭔 남자만 개 쓰레기를 만들...     0\n",
       "8   재미있었으나 유해진 염정아 부부의 모습은 최악이다. 왜 여성은 남성에게 존댓말을 쓰...     1\n",
       "9        너무 재밌음 ㅠㅠ 엉엉누구에게나 숨기고 싶은 비밀들이 있다는 게와닿는 영화였어요     1\n",
       "10  재미있었으나 유해진 염정아 부부의 모습은 최악이다. 왜 여성은 남성에게 존댓말을 쓰...     1"
      ]
     },
     "execution_count": 10,
     "metadata": {},
     "output_type": "execute_result"
    }
   ],
   "source": [
    "train_df.iloc[0:10]"
   ]
  },
  {
   "cell_type": "code",
   "execution_count": 11,
   "metadata": {},
   "outputs": [
    {
     "data": {
      "text/plain": [
       "0        재미있었으나 유해진 염정아 부부의 모습은 최악이다. 왜 여성은 남성에게 존댓말을 쓰...\n",
       "2                                             재밌음 ㅎㅎㅎ호ㅗㅗㅗ호\n",
       "3        알바들 진짜 많다..중간중간 지루함..웃는 포인트 한군데 나옴..평점믿고 봤다가 망...\n",
       "4        영화관에서 이렇게 크게 웃음소리난거 처음이였어요 물론 제가 아니라 주변에서..결말이...\n",
       "5                                          볼만함  커플들끼리는 보지마\n",
       "                               ...                        \n",
       "55596                                          진짜 꿀잼ㅋㅋㅋ입니다\n",
       "55597    재미있었으나 유해진 염정아 부부의 모습은 최악이다. 왜 여성은 남성에게 존댓말을 쓰...\n",
       "55598    유해진은 미스캐스팅이지만 참신한 스토리와 연출, 중간중간 코믹적 상황과 사생활에 대...\n",
       "55599    유해진은 미스캐스팅이지만 참신한 스토리와 연출, 중간중간 코믹적 상황과 사생활에 대...\n",
       "55600                                여성혐오로 가득한 한심하고 역겨운 영화\n",
       "Name: text, Length: 55600, dtype: object"
      ]
     },
     "execution_count": 11,
     "metadata": {},
     "output_type": "execute_result"
    }
   ],
   "source": [
    "train_df['text']"
   ]
  },
  {
   "cell_type": "code",
   "execution_count": null,
   "metadata": {},
   "outputs": [],
   "source": [
    "train_df['text'] in"
   ]
  }
 ],
 "metadata": {
  "kernelspec": {
   "display_name": "Python 3",
   "language": "python",
   "name": "python3"
  },
  "language_info": {
   "codemirror_mode": {
    "name": "ipython",
    "version": 3
   },
   "file_extension": ".py",
   "mimetype": "text/x-python",
   "name": "python",
   "nbconvert_exporter": "python",
   "pygments_lexer": "ipython3",
   "version": "3.7.4"
  }
 },
 "nbformat": 4,
 "nbformat_minor": 2
}
